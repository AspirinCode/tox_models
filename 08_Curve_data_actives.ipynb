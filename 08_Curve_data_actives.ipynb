{
 "cells": [
  {
   "cell_type": "markdown",
   "metadata": {},
   "source": [
    "# Curve data actives\n",
    "\n",
    "Create a summary table of distinct active compounds for each target."
   ]
  },
  {
   "cell_type": "code",
   "execution_count": 1,
   "metadata": {
    "collapsed": false
   },
   "outputs": [],
   "source": [
    "# ChEMBL connection...\n",
    "\n",
    "engine = create_engine(open('database.txt').read().strip())"
   ]
  },
  {
   "cell_type": "markdown",
   "metadata": {},
   "source": [
    "## Active compounds\n",
    "\n",
    "Create table of distinct active compounds for each target.\n",
    "\n",
    "\n",
    "* Compounds are defined in terms of USMILES.\n",
    "\n",
    "\n",
    "* Targets are defined as Symbol/Species pairs\n",
    "\n",
    "\n",
    "* Filtering on size (heavy atom count) is performed at this stage.\n",
    "\n",
    "See SQL file [tt_curve_data_actives.sql](SQL/tt_curve_data_actives.sql) for detail of the creation of table '`tt_curve_data_actives`'.\n",
    "\n",
    "See notebook [02_Map_ChEMBL_targets_and_get_curve_data](02_Map_ChEMBL_targets_and_get_curve_data.ipynb#get_curve_data) for details on how data table '`tt_curve_data_v1`' was created.\n",
    "\n",
    "See notebook [03_Target_Fixes](03_Target_Fixes.ipynb#exclude) for detailed of the '`exclude`' flag."
   ]
  },
  {
   "cell_type": "code",
   "execution_count": 2,
   "metadata": {
    "collapsed": false
   },
   "outputs": [
    {
     "name": "stdout",
     "output_type": "stream",
     "text": [
      "----------------------------------------------------------------------------------------------------\n",
      "-- \n",
      "-- tt_curve_data_actives.sql\n",
      "-- \n",
      "-- Create summary table of distinct active compounds for each target.\n",
      "-- \n",
      "-- * Compounds are defined by USMILES.\n",
      "-- \n",
      "-- * Targets are defined as symbol/species pairs.\n",
      "-- \n",
      "-- * Size filtering (based on minimum and maximum heavy atom counts) is applied at this stage.\n",
      "-- \n",
      "-- * Note the use of source table 'tt_curve_data_v1', as only actives are of interest here.\n",
      "-- \n",
      "----------------------------------------------------------------------------------------------------\n",
      "\n",
      "-- drop table tt_curve_data_actives;\n",
      "\n",
      "--\n",
      "\n",
      "create table tt_curve_data_actives as\n",
      "select\n",
      "    symbol\n",
      "  , species\n",
      "  , usmiles\n",
      "  , wm_concat(distinct cmpd) as cmpds -- NB distinct clause here orders concatenated values\n",
      "  , count(cmpd) as count\n",
      "from (\n",
      "  select distinct\n",
      "      a.symbol\n",
      "    , a.species\n",
      "    , a.parent_cmpd_chemblid as cmpd\n",
      "    , b.usmiles\n",
      "  from\n",
      "    tt_curve_data_v1 a\n",
      "    join tt_structure_lookup b on a.parent_cmpd_chemblid = b.cmpd\n",
      "  where\n",
      "      a.exclude = 0\n",
      "  and a.active = 1\n",
      "  and b.nat >= 10\n",
      "  and a.nat <= 50\n",
      "  ) a\n",
      "group by\n",
      "    symbol\n",
      "  , species\n",
      "  , usmiles\n",
      "order by\n",
      "    symbol\n",
      "  , species\n",
      "  , usmiles\n",
      ";\n",
      "\n",
      "----------------------------------------------------------------------------------------------------\n",
      "\n",
      "-- Sanity check: this should give same number of rows (194,402)\n",
      " \n",
      "select distinct\n",
      "    a.symbol\n",
      "  , a.species\n",
      "  , a.usmiles\n",
      "from\n",
      "  tt_activity_counts a\n",
      "  join tt_structure_lookup b on a.usmiles = b.usmiles\n",
      "where\n",
      "   a.n_active > 0\n",
      "   and b.nat >= 10\n",
      "and b.nat <= 50\n",
      ";\n",
      "\n",
      "----------------------------------------------------------------------------------------------------\n",
      "-- End\n",
      "----------------------------------------------------------------------------------------------------\n"
     ]
    }
   ],
   "source": [
    "print(open(\"SQL/tt_curve_data_actives.sql\").read())"
   ]
  },
  {
   "cell_type": "code",
   "execution_count": 3,
   "metadata": {
    "collapsed": false
   },
   "outputs": [
    {
     "data": {
      "text/plain": [
       "(194402, 5)"
      ]
     },
     "execution_count": 3,
     "metadata": {},
     "output_type": "execute_result"
    }
   ],
   "source": [
    "actives = pd.read_sql_table('tt_curve_data_actives', engine)\n",
    "\n",
    "actives.shape"
   ]
  }
 ],
 "metadata": {
  "kernelspec": {
   "display_name": "Python 2",
   "language": "python",
   "name": "python2"
  },
  "language_info": {
   "codemirror_mode": {
    "name": "ipython",
    "version": 2
   },
   "file_extension": ".py",
   "mimetype": "text/x-python",
   "name": "python",
   "nbconvert_exporter": "python",
   "pygments_lexer": "ipython2",
   "version": "2.7.10"
  }
 },
 "nbformat": 4,
 "nbformat_minor": 0
}
