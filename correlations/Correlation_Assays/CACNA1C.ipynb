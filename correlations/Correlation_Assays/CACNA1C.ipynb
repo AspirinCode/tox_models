{
 "cells": [
  {
   "cell_type": "markdown",
   "metadata": {},
   "source": [
    "# Investigate pairs of assays"
   ]
  },
  {
   "cell_type": "code",
   "execution_count": 1,
   "metadata": {
    "collapsed": false
   },
   "outputs": [],
   "source": [
    "from itertools import combinations, chain\n",
    "\n",
    "from math import ceil\n",
    "\n",
    "from collections import OrderedDict as odict\n",
    "\n",
    "import lxml\n",
    "\n",
    "import textwrap\n",
    "\n",
    "from os import environ\n",
    "\n",
    "import seaborn as sns"
   ]
  },
  {
   "cell_type": "code",
   "execution_count": 2,
   "metadata": {
    "collapsed": false
   },
   "outputs": [
    {
     "data": {
      "text/plain": [
       "('CACNA1C', None)"
      ]
     },
     "execution_count": 2,
     "metadata": {},
     "output_type": "execute_result"
    }
   ],
   "source": [
    "# Notebook parameters...\n",
    "\n",
    "symbol, species = None, None\n",
    "\n",
    "symbol, species = environ.get('symbol', symbol), environ.get('species', species)\n",
    "\n",
    "symbol, species"
   ]
  },
  {
   "cell_type": "code",
   "execution_count": 3,
   "metadata": {
    "collapsed": true
   },
   "outputs": [],
   "source": [
    "# pActivity column to use...\n",
    "\n",
    "pactivity_col = 'pchembl_value'"
   ]
  },
  {
   "cell_type": "code",
   "execution_count": 4,
   "metadata": {
    "collapsed": true
   },
   "outputs": [],
   "source": [
    "# Minimum number of compounds in common for a pair of targets...\n",
    "\n",
    "pair_threshold = 3"
   ]
  },
  {
   "cell_type": "code",
   "execution_count": 5,
   "metadata": {
    "collapsed": false
   },
   "outputs": [],
   "source": [
    "# ChEMBL connection...\n",
    "\n",
    "engine = create_engine(open('database.txt').read().strip())"
   ]
  },
  {
   "cell_type": "code",
   "execution_count": 6,
   "metadata": {
    "collapsed": true
   },
   "outputs": [],
   "source": [
    "# Seaborn config...\n",
    "\n",
    "sns.set()"
   ]
  },
  {
   "cell_type": "markdown",
   "metadata": {},
   "source": [
    "### Load targets"
   ]
  },
  {
   "cell_type": "code",
   "execution_count": 7,
   "metadata": {
    "collapsed": false
   },
   "outputs": [
    {
     "data": {
      "text/plain": [
       "(358, 15)"
      ]
     },
     "execution_count": 7,
     "metadata": {},
     "output_type": "execute_result"
    }
   ],
   "source": [
    "targets = pd.read_pickle('chembl_targets.pkl').query(\"exclude == 0\")\n",
    "\n",
    "targets.shape"
   ]
  },
  {
   "cell_type": "code",
   "execution_count": 8,
   "metadata": {
    "collapsed": false
   },
   "outputs": [],
   "source": [
    "# HTML((targets.query(\"species == @species\") if species else targets).head().to_html())"
   ]
  },
  {
   "cell_type": "code",
   "execution_count": 9,
   "metadata": {
    "collapsed": false
   },
   "outputs": [
    {
     "data": {
      "text/plain": [
       "['CHEMBL1940', 'CHEMBL3762']"
      ]
     },
     "execution_count": 9,
     "metadata": {},
     "output_type": "execute_result"
    }
   ],
   "source": [
    "# Get list of targets for symbol...\n",
    "\n",
    "target_chemblids = targets.query(\"symbol == @symbol\" + (\" & species == @species\" if species else \"\"))['chembl_id'].tolist()\n",
    "\n",
    "target_chemblids"
   ]
  },
  {
   "cell_type": "code",
   "execution_count": 10,
   "metadata": {
    "collapsed": true
   },
   "outputs": [],
   "source": [
    "# Retrieve activity data for a list of targets...\n",
    "\n",
    "def get_data_for_targets(target_chemblids):\n",
    "\n",
    "    sql = \"\"\"\n",
    "        select\n",
    "            *\n",
    "        from\n",
    "            tt_curve_data_v1\n",
    "        where\n",
    "            target_chemblid in ({})\n",
    "    \"\"\".format(', '.join(\":{}\".format(n+1) for n in range(len(target_chemblids))))\n",
    "    \n",
    "    return pd.read_sql_query(sql, engine, params=target_chemblids)"
   ]
  },
  {
   "cell_type": "code",
   "execution_count": 11,
   "metadata": {
    "collapsed": false
   },
   "outputs": [
    {
     "data": {
      "text/plain": [
       "(177, 32)"
      ]
     },
     "execution_count": 11,
     "metadata": {},
     "output_type": "execute_result"
    }
   ],
   "source": [
    "# Get data for the list of targets...\n",
    "\n",
    "data = get_data_for_targets(target_chemblids)\n",
    "\n",
    "data.set_index('parent_cmpd_chemblid', drop=False, inplace=True)\n",
    "\n",
    "data.shape"
   ]
  },
  {
   "cell_type": "code",
   "execution_count": 12,
   "metadata": {
    "collapsed": false
   },
   "outputs": [
    {
     "data": {
      "text/plain": [
       "(151, 36)"
      ]
     },
     "execution_count": 12,
     "metadata": {},
     "output_type": "execute_result"
    }
   ],
   "source": [
    "# Calculate means by assay...\n",
    "\n",
    "means = data[['assay_chemblid', 'parent_cmpd_chemblid', pactivity_col]].groupby(['assay_chemblid', 'parent_cmpd_chemblid']).mean().unstack(level=0)[pactivity_col]\n",
    "\n",
    "means.shape"
   ]
  },
  {
   "cell_type": "code",
   "execution_count": 13,
   "metadata": {
    "collapsed": true
   },
   "outputs": [],
   "source": [
    "# Get pairs of assays with sufficient numbers of compounds in common...\n",
    "\n",
    "assay_pairs = [\n",
    "                (x, means[x].count(), y, means[y].count(), n, d.corr().iloc[0, 1]) for x, y, n, d in\n",
    "                    ((x, y, d.shape[0], d) for x, y, d in\n",
    "                        ((x, y, means[[x, y]].dropna(how='any')) for x, y in\n",
    "                            combinations(means.columns.values, 2)\n",
    "                        )\n",
    "                    )\n",
    "                if n > pair_threshold\n",
    "            ]"
   ]
  },
  {
   "cell_type": "code",
   "execution_count": 14,
   "metadata": {
    "collapsed": false
   },
   "outputs": [],
   "source": [
    "assert len(assay_pairs) > 0, \"No pairs of assays with sufficient compounds in common\""
   ]
  },
  {
   "cell_type": "code",
   "execution_count": 15,
   "metadata": {
    "collapsed": false
   },
   "outputs": [
    {
     "data": {
      "text/plain": [
       "(1, 6)"
      ]
     },
     "execution_count": 15,
     "metadata": {},
     "output_type": "execute_result"
    }
   ],
   "source": [
    "assay_pairs = pd.DataFrame(assay_pairs, columns=['assay_chemblid_1', 'n_1', 'assay_chemblid_2', 'n_2', 'n', 'r']).sort(['r', 'n'], ascending=False).reset_index(drop=True)\n",
    "\n",
    "assay_pairs.shape"
   ]
  },
  {
   "cell_type": "code",
   "execution_count": 16,
   "metadata": {
    "collapsed": false
   },
   "outputs": [],
   "source": [
    "# Get table of extra info for the assays of interest and add to table of assay pairs...\n",
    "\n",
    "assay_ids = assay_pairs[['assay_chemblid_1', 'assay_chemblid_2']].stack().reset_index(drop=True).unique().tolist()\n",
    "\n",
    "extra_info = data[data['assay_chemblid'].isin(assay_ids)][['assay_chemblid', 'description', 'target_chemblid', 'pref_name', 'species', 'doc_chemblid']].drop_duplicates().set_index('assay_chemblid')\n",
    "\n",
    "assay_pairs = assay_pairs.merge(extra_info, left_on='assay_chemblid_1', right_index=True).merge(extra_info, left_on='assay_chemblid_2', right_index=True)\n",
    "\n",
    "assay_pairs.columns = [x.replace('_x', '_1').replace('_y', '_2') for x in assay_pairs.columns.values]\n",
    "\n",
    "assay_pairs = assay_pairs[['assay_chemblid_1', 'description_1', 'target_chemblid_1', 'pref_name_1', 'species_1', 'doc_chemblid_1', 'n_1', 'assay_chemblid_2', 'description_2', 'target_chemblid_2', 'pref_name_2', 'species_2', 'doc_chemblid_2', 'n_2', 'n', 'r']]"
   ]
  },
  {
   "cell_type": "code",
   "execution_count": 17,
   "metadata": {
    "collapsed": false,
    "scrolled": false
   },
   "outputs": [],
   "source": [
    "# Sort on inter-assay correlation...\n",
    "\n",
    "assay_pairs = assay_pairs.sort('r', ascending=False)"
   ]
  },
  {
   "cell_type": "code",
   "execution_count": 18,
   "metadata": {
    "collapsed": false
   },
   "outputs": [
    {
     "data": {
      "text/plain": [
       "(1, 16)"
      ]
     },
     "execution_count": 18,
     "metadata": {},
     "output_type": "execute_result"
    }
   ],
   "source": [
    "# Interesting subset of pairs only...\n",
    "\n",
    "subset = assay_pairs.query(\"r >= 0.95 and n >= 5 and target_chemblid_1 != target_chemblid_2\")\n",
    "\n",
    "subset.shape"
   ]
  },
  {
   "cell_type": "code",
   "execution_count": 19,
   "metadata": {
    "collapsed": false
   },
   "outputs": [],
   "source": [
    "assert subset.shape[0] > 0, \"No pairs of assays with sufficient compounds in common in interesting subset\""
   ]
  },
  {
   "cell_type": "code",
   "execution_count": 20,
   "metadata": {
    "collapsed": false
   },
   "outputs": [],
   "source": [
    "# Function to plot pActivity values for all pairs of assays for a target...\n",
    "\n",
    "ncol_max, size = 3, 15\n",
    "\n",
    "fontsize = 12\n",
    "\n",
    "min_xc50, max_xc50 = 3.0, 10.0\n",
    "\n",
    "def plots_for_assays(assay_pairs, means):\n",
    "    \n",
    "    n_pairs = assay_pairs.shape[0]\n",
    "    \n",
    "    if not n_pairs: return None\n",
    "    \n",
    "    ncol = min(ncol_max, n_pairs)\n",
    "\n",
    "    nrow = int(ceil(n_pairs / ncol))\n",
    "\n",
    "    fig, axes = plt.subplots(nrow, ncol, figsize=(size*ncol, size*nrow))\n",
    "            \n",
    "    if nrow > 1:\n",
    "    \n",
    "        axes = list(chain.from_iterable(axes))\n",
    "        \n",
    "    elif type(axes) != np.ndarray:\n",
    "    \n",
    "        axes = [axes]\n",
    "\n",
    "    for ax in axes[n_pairs:]: ax.axis('off')\n",
    "        \n",
    "    for i, (_, rec) in enumerate(assay_pairs.iterrows()):\n",
    "        \n",
    "        axis = axes[i]\n",
    "        \n",
    "        axis.scatter(means[rec.assay_chemblid_1], means[rec.assay_chemblid_2])\n",
    "        \n",
    "        axis.set_xlim(min_xc50, max_xc50)\n",
    "        axis.set_ylim(min_xc50, max_xc50)\n",
    "        \n",
    "        axis.set_aspect(1)\n",
    "        \n",
    "        axis.set_title(\"{}  ({}/{})  r = {:.2f}  [n = {}]\".format(symbol, i+1, n_pairs, rec.r, rec.n))\n",
    "        \n",
    "        axis.set_xlabel(\"{} [n = {}]\\n{}\\ntarget = {} ({})\\ndoc_id = {}\".format(rec.assay_chemblid_1, rec.n_1, '\\n'.join(textwrap.wrap(rec.description_1, 100)), rec.pref_name_1, rec.species_1, rec.doc_chemblid_1), fontsize=fontsize)\n",
    "        axis.set_ylabel(\"{} [n = {}]\\n{}\\ntarget = {} ({})\\ndoc_id = {}\".format(rec.assay_chemblid_2, rec.n_2, '\\n'.join(textwrap.wrap(rec.description_2, 100)), rec.pref_name_2, rec.species_2, rec.doc_chemblid_2), fontsize=fontsize)\n",
    "        \n",
    "        axis.plot((min_xc50, max_xc50), (min_xc50, max_xc50), color='r', linestyle='-', linewidth=1)\n",
    "        \n",
    "        axis.plot((5, 5), (min_xc50, max_xc50), color='m', linestyle='--', linewidth=2)\n",
    "        axis.plot((min_xc50, max_xc50), (5, 5), color='m', linestyle='--', linewidth=2)"
   ]
  },
  {
   "cell_type": "code",
   "execution_count": 21,
   "metadata": {
    "collapsed": true
   },
   "outputs": [],
   "source": [
    "def get_links_for_pmid(pmid):\n",
    "\n",
    "    \"\"\"Get links to publisher page for article via WTGC Library\"\"\"\n",
    "    \n",
    "    dom = lxml.html.fromstring(requests.get(\"http://wtgcsfx.hosted.exlibrisgroup.com/wtsc?sid=Entrez:PubMed&id=pmid:{}\".format(pmid)).text)\n",
    "\n",
    "    def f(form):\n",
    "\n",
    "        params = {x.attrib['name']: x.attrib['value'] for x in form.xpath('.//input[@type=\"hidden\"]')}\n",
    "\n",
    "        return requests.get('http://wtgcsfx.hosted.exlibrisgroup.com/wtsc/cgi/core/sfxresolver.cgi', params=params).url\n",
    "\n",
    "    urls = [f(x) for x in dom.xpath('//form[contains(@name, \"basic\")]')]\n",
    "\n",
    "    return '<ul>' + ' '.join('<li> <a target=\"_blank\" href=\"{}\">Link_{}</a>'.format(url, n) for n, url in enumerate(urls, 1)) + '</ul>'\n",
    "\n",
    "######\n",
    "\n",
    "def get_doc_info(doc_chemblid):\n",
    "\n",
    "    \"\"\"Get document info from ChEMBL\"\"\"\n",
    "\n",
    "    df = pd.read_sql_query(\"\"\"\n",
    "    select\n",
    "        a.chembl_id as doc_chemblid\n",
    "      , case when a.journal is not null then a.journal || ', v. ' || a.volume || ', p. ' || a.first_page || ' (' || a.year || ')' else '' end as citation\n",
    "      , a.pubmed_id\n",
    "      , b.title\n",
    "      , b.abstract\n",
    "    from\n",
    "      chembl_20_app.docs a\n",
    "      left outer join chembl_20_app.journal_articles b on a.pubmed_id = b.pubmed_id\n",
    "    where\n",
    "      a.chembl_id = :doc_chemblid\n",
    "    \"\"\", engine, params={'doc_chemblid': doc_chemblid})\n",
    "\n",
    "    df['report_card'] = '<a target=\"_blank\" href=\"https://www.ebi.ac.uk/chembl/doc/inspect/{}\">{}</a>'.format(* [doc_chemblid]*2)\n",
    "\n",
    "    df['citation'] = '<nobr>' + df['citation'][0] + '</nobr>' if df['citation'][0] else ''\n",
    "\n",
    "    df['libary_links'] = get_links_for_pmid(df['pubmed_id'][0]) if df['pubmed_id'][0] else ''\n",
    "    \n",
    "    return df\n",
    "\n",
    "######\n",
    "\n",
    "def get_html_report(subset):\n",
    "    \n",
    "    html = ''\n",
    "\n",
    "    # Add links to target, assay and document ChEMBL report cards to table of assay pairs...\n",
    "\n",
    "    df = subset.copy()\n",
    "\n",
    "    df['plot'] = range(1, df.shape[0]+1)\n",
    "\n",
    "    df.set_index('plot')\n",
    "\n",
    "    for col in df.columns.values.tolist():\n",
    "\n",
    "        match = re.match('(.*)_chemblid', col)\n",
    "\n",
    "        if match: df[col] = df[col].apply(lambda x: '<a target=\"_blank\" href=\"https://www.ebi.ac.uk/chembl/{}/inspect/{}\">{}</a>'.format(match.group(1), x, x))\n",
    "\n",
    "    html += df.to_html()\n",
    "\n",
    "    # Create a table of documents, including links to publishers' article pages...\n",
    "\n",
    "    doc_chemblids = subset[['doc_chemblid_1', 'doc_chemblid_2']].stack().drop_duplicates().reset_index(drop=True)\n",
    "\n",
    "    df = pd.concat(doc_chemblids.apply(get_doc_info).tolist()).set_index('doc_chemblid')\n",
    "\n",
    "    html += df.to_html()\n",
    "    \n",
    "    # Done...\n",
    "    \n",
    "    return html"
   ]
  },
  {
   "cell_type": "code",
   "execution_count": 22,
   "metadata": {
    "collapsed": false,
    "scrolled": false
   },
   "outputs": [
    {
     "data": {
      "image/png": "[encoded data removed]",
      "text/plain": [
       "<matplotlib.figure.Figure at 0x110504ed0>"
      ]
     },
     "metadata": {},
     "output_type": "display_data"
    }
   ],
   "source": [
    "plots_for_assays(subset, means)"
   ]
  },
  {
   "cell_type": "code",
   "execution_count": 23,
   "metadata": {
    "collapsed": false,
    "scrolled": false
   },
   "outputs": [
    {
     "data": {
      "text/html": [
       "<table border=\"1\" class=\"dataframe\">\n",
       "  <thead>\n",
       "    <tr style=\"text-align: right;\">\n",
       "      <th></th>\n",
       "      <th>assay_chemblid_1</th>\n",
       "      <th>description_1</th>\n",
       "      <th>target_chemblid_1</th>\n",
       "      <th>pref_name_1</th>\n",
       "      <th>species_1</th>\n",
       "      <th>doc_chemblid_1</th>\n",
       "      <th>n_1</th>\n",
       "      <th>assay_chemblid_2</th>\n",
       "      <th>description_2</th>\n",
       "      <th>target_chemblid_2</th>\n",
       "      <th>pref_name_2</th>\n",
       "      <th>species_2</th>\n",
       "      <th>doc_chemblid_2</th>\n",
       "      <th>n_2</th>\n",
       "      <th>n</th>\n",
       "      <th>r</th>\n",
       "      <th>plot</th>\n",
       "    </tr>\n",
       "  </thead>\n",
       "  <tbody>\n",
       "    <tr>\n",
       "      <th>0</th>\n",
       "      <td><a target=\"_blank\" href=\"https://www.ebi.ac.uk/chembl/assay/inspect/CHEMBL653732\">CHEMBL653732</a></td>\n",
       "      <td>Displacement of [3H](+)-PN200-110 binding to calcium channels in guinea pig cardiac membranes.</td>\n",
       "      <td><a target=\"_blank\" href=\"https://www.ebi.ac.uk/chembl/target/inspect/CHEMBL1940\">CHEMBL1940</a></td>\n",
       "      <td>Voltage-gated L-type calcium channel alpha-1C subunit</td>\n",
       "      <td>Human</td>\n",
       "      <td><a target=\"_blank\" href=\"https://www.ebi.ac.uk/chembl/doc/inspect/CHEMBL1132339\">CHEMBL1132339</a></td>\n",
       "      <td>8</td>\n",
       "      <td><a target=\"_blank\" href=\"https://www.ebi.ac.uk/chembl/assay/inspect/CHEMBL819393\">CHEMBL819393</a></td>\n",
       "      <td>Displacement of [3H](+)-PN200-110 binding from calcium channels of rat cardiac membranes.</td>\n",
       "      <td><a target=\"_blank\" href=\"https://www.ebi.ac.uk/chembl/target/inspect/CHEMBL3762\">CHEMBL3762</a></td>\n",
       "      <td>Voltage-gated L-type calcium channel alpha-1C subunit</td>\n",
       "      <td>Rat</td>\n",
       "      <td><a target=\"_blank\" href=\"https://www.ebi.ac.uk/chembl/doc/inspect/CHEMBL1132339\">CHEMBL1132339</a></td>\n",
       "      <td>8</td>\n",
       "      <td>8</td>\n",
       "      <td>0.964193</td>\n",
       "      <td>1</td>\n",
       "    </tr>\n",
       "  </tbody>\n",
       "</table><table border=\"1\" class=\"dataframe\">\n",
       "  <thead>\n",
       "    <tr style=\"text-align: right;\">\n",
       "      <th></th>\n",
       "      <th>citation</th>\n",
       "      <th>pubmed_id</th>\n",
       "      <th>title</th>\n",
       "      <th>abstract</th>\n",
       "      <th>report_card</th>\n",
       "      <th>libary_links</th>\n",
       "    </tr>\n",
       "    <tr>\n",
       "      <th>doc_chemblid</th>\n",
       "      <th></th>\n",
       "      <th></th>\n",
       "      <th></th>\n",
       "      <th></th>\n",
       "      <th></th>\n",
       "      <th></th>\n",
       "    </tr>\n",
       "  </thead>\n",
       "  <tbody>\n",
       "    <tr>\n",
       "      <th>CHEMBL1132339</th>\n",
       "      <td><nobr>J. Med. Chem., v. 42, p. 3087 (1999)</nobr></td>\n",
       "      <td>10447952</td>\n",
       "      <td>Lipophilic 4-isoxazolyl-1,4-dihydropyridines: synthesis and structure-activity relationships.</td>\n",
       "      <td>A series of 4-isoxazolyl-1,4-dihydropyridines bearing lipophilic side chains at the C-5 position of the isoxazole ring have been prepared. The calcium channel antagonistic activity of these compounds has been evaluated. A hypothetical model for binding of these compounds in the calcium channel is proposed, and the validity of this model is evaluated based on the SAR of this series of calcium binding, especially for the two most active derivatives, 1a, g. The solid-state structure for the most active compound, 1a, has also been determined, and its important features are reported.</td>\n",
       "      <td><a target=\"_blank\" href=\"https://www.ebi.ac.uk/chembl/doc/inspect/CHEMBL1132339\">CHEMBL1132339</a></td>\n",
       "      <td><ul><li> <a target=\"_blank\" href=\"http://pubs.acs.org/doi/abs/10.1021/jm980439q\">Link_1</a> <li> <a target=\"_blank\" href=\"http://wtgcsfx.hosted.exlibrisgroup.com/wtsc/cgi/public/docdel.cgi?source=Entrez%3APubMed+(Via+SFX)&meduid=10447952&month=8&author=Natale%2C+N+R&issue=16&ISBN=&article=Lipophilic+4-isoxazolyl-1%2C4-dihydropyridines%3A+synthesis+and+structure-activity+relationships.&publisher=American+Chemical+Society&journal=Journal+of+medicinal+chemistry&doi=10.1021%2Fjm980439q&ISSN=0022-2623&abbrev=J+MED+CHEM&recipient=libadmin%40sanger.ac.uk&volume=42&genre=article&publiPlace=%5BEaston%2C+Pa.%5D&sender=&pages=3087-93&year=1999\">Link_2</a></ul></td>\n",
       "    </tr>\n",
       "  </tbody>\n",
       "</table>"
      ],
      "text/plain": [
       "<IPython.core.display.HTML object>"
      ]
     },
     "execution_count": 23,
     "metadata": {},
     "output_type": "execute_result"
    }
   ],
   "source": [
    "HTML(get_html_report(subset))"
   ]
  }
 ],
 "metadata": {
  "kernelspec": {
   "display_name": "Python 2",
   "language": "python",
   "name": "python2"
  },
  "language_info": {
   "codemirror_mode": {
    "name": "ipython",
    "version": 2
   },
   "file_extension": ".py",
   "mimetype": "text/x-python",
   "name": "python",
   "nbconvert_exporter": "python",
   "pygments_lexer": "ipython2",
   "version": "2.7.10"
  }
 },
 "nbformat": 4,
 "nbformat_minor": 0
}
