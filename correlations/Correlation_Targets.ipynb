{
 "cells": [
  {
   "cell_type": "markdown",
   "metadata": {},
   "source": [
    "# Correlations between multiple targets for symbols"
   ]
  },
  {
   "cell_type": "code",
   "execution_count": null,
   "metadata": {
    "collapsed": false
   },
   "outputs": [],
   "source": [
    "from itertools import combinations, chain\n",
    "\n",
    "from math import ceil\n",
    "\n",
    "from collections import OrderedDict as odict\n",
    "\n",
    "import textwrap\n",
    "\n",
    "from os import environ\n",
    "\n",
    "import seaborn as sns"
   ]
  },
  {
   "cell_type": "markdown",
   "metadata": {},
   "source": [
    "### Configuration"
   ]
  },
  {
   "cell_type": "code",
   "execution_count": null,
   "metadata": {
    "collapsed": false
   },
   "outputs": [],
   "source": [
    "# Notebook parameters...\n",
    "\n",
    "species = environ.get('species') or 'Human'\n",
    "\n",
    "species"
   ]
  },
  {
   "cell_type": "code",
   "execution_count": null,
   "metadata": {
    "collapsed": true
   },
   "outputs": [],
   "source": [
    "# pActivity column to use...\n",
    "\n",
    "pactivity_col = 'pchembl_value'"
   ]
  },
  {
   "cell_type": "code",
   "execution_count": null,
   "metadata": {
    "collapsed": true
   },
   "outputs": [],
   "source": [
    "# Minimum number of compounds in common for a pair of targets...\n",
    "\n",
    "pair_threshold = 3"
   ]
  },
  {
   "cell_type": "code",
   "execution_count": null,
   "metadata": {
    "collapsed": true
   },
   "outputs": [],
   "source": [
    "# ChEMBL connection...\n",
    "\n",
    "engine = create_engine(open('database.txt').read().strip())"
   ]
  },
  {
   "cell_type": "code",
   "execution_count": null,
   "metadata": {
    "collapsed": true
   },
   "outputs": [],
   "source": [
    "# Seaborn config...\n",
    "\n",
    "sns.set()"
   ]
  },
  {
   "cell_type": "markdown",
   "metadata": {},
   "source": [
    "### Load targets"
   ]
  },
  {
   "cell_type": "code",
   "execution_count": null,
   "metadata": {
    "collapsed": false
   },
   "outputs": [],
   "source": [
    "# Load the ChEMBL target info...\n",
    "\n",
    "targets = pd.read_pickle('chembl_targets.pkl').query(\"exclude == 0\")\n",
    "\n",
    "targets.shape"
   ]
  },
  {
   "cell_type": "code",
   "execution_count": null,
   "metadata": {
    "collapsed": false
   },
   "outputs": [],
   "source": [
    "HTML(targets.query(\"species == @species\").head().to_html())"
   ]
  },
  {
   "cell_type": "markdown",
   "metadata": {},
   "source": [
    "### Get pairs of targets for gene symbols\n",
    "\n",
    "Pairs of targets for each symbol having more than minimm number of distinct parent compounds with pActivities associated with them."
   ]
  },
  {
   "cell_type": "code",
   "execution_count": null,
   "metadata": {
    "collapsed": false
   },
   "outputs": [],
   "source": [
    "# %%javascript\n",
    "\n",
    "# IPython.notebook.kernel.execute(\"notebook_name = \" + \"'\" + window.document.getElementById(\"notebook_name\").innerHTML + \"'\");\n",
    "\n",
    "notebook_name = 'Correlation_Targets' # JavaScript magic above doesn't work with runipy"
   ]
  },
  {
   "cell_type": "code",
   "execution_count": null,
   "metadata": {
    "collapsed": false
   },
   "outputs": [],
   "source": [
    "cache_file = notebook_name + '_' + species + '.pkl'\n",
    "\n",
    "cache_file"
   ]
  },
  {
   "cell_type": "code",
   "execution_count": null,
   "metadata": {
    "collapsed": true
   },
   "outputs": [],
   "source": [
    "# Retrieve activity data for a list of targets...\n",
    "\n",
    "def get_data_for_targets(target_chemblids):\n",
    "\n",
    "    sql = \"\"\"\n",
    "    select\n",
    "        *   \n",
    "    from\n",
    "      tt_curve_data_v1 a\n",
    "    where\n",
    "      a.target_chemblid in ({})\n",
    "    \"\"\".format(', '.join(\":{}\".format(n+1) for n in range(len(target_chemblids))))\n",
    "    \n",
    "    return pd.read_sql_query(sql, engine, params=target_chemblids)"
   ]
  },
  {
   "cell_type": "code",
   "execution_count": null,
   "metadata": {
    "collapsed": false
   },
   "outputs": [],
   "source": [
    "if os.path.exists(cache_file): os.remove(cache_file)"
   ]
  },
  {
   "cell_type": "code",
   "execution_count": null,
   "metadata": {
    "collapsed": false
   },
   "outputs": [],
   "source": [
    "# %%cache $cache_file data_by_symbol means_by_symbol pairs_by_symbol\n",
    "\n",
    "data_by_symbol, means_by_symbol, pairs_by_symbol = odict(), odict(), odict()\n",
    "    \n",
    "symbols = targets.query(\"species == @species\")[['symbol', 'chembl_id']].groupby('symbol').count().query('chembl_id > 1').reset_index()['symbol'].values.tolist()\n",
    "\n",
    "for symbol in symbols:\n",
    "    \n",
    "    logging.info(\"Starting '{}'...\".format(symbol))\n",
    "\n",
    "    # Get list of ChEMBL targets for the gene symbol...\n",
    "    \n",
    "    symbol_targets = targets.query(\"(species == @species) & (symbol == @symbol)\")\n",
    "\n",
    "    target_chemblids = symbol_targets.chembl_id.values.tolist()\n",
    "\n",
    "    # Get activity data for these ChEMBL targets, calculate means and unstack so each target is represented by a single column...\n",
    "\n",
    "    data = get_data_for_targets(target_chemblids)\n",
    "    \n",
    "    if not data.shape[0]:\n",
    "        \n",
    "        logging.warn(\"> No data for '{}'.\".format(symbol))\n",
    "        \n",
    "        continue\n",
    "\n",
    "    means = data[['target_chemblid', 'parent_cmpd_chemblid', pactivity_col]].groupby(['target_chemblid', 'parent_cmpd_chemblid']).mean().unstack(level=0)\n",
    "\n",
    "    means.columns = means.columns.droplevel()\n",
    "\n",
    "    if means.shape[1] == 1:\n",
    "\n",
    "        logging.warn(\"> Only one target with data for '{}'.\".format(symbol))\n",
    "        \n",
    "        continue\n",
    "        \n",
    "    # Get all pairs of targets with a number of compounds in common greater than some threshold...\n",
    "    \n",
    "    try:\n",
    "    \n",
    "        target_pairs = pd.DataFrame(\n",
    "            ((x, means[x].count(), y, means[y].count(), n, d.corr().iloc[0, 1]) for x, y, n, d in\n",
    "                ((x, y, d.shape[0], d) for x, y, d in\n",
    "                    ((x, y, means[[x, y]].dropna(how='any')) for x, y in\n",
    "                        combinations(means.columns.values, 2)\n",
    "                    )\n",
    "                )\n",
    "            if n > pair_threshold), \n",
    "            columns=['target_1', 'n_1', 'target_2', 'n_2', 'n', 'r']).sort(['r', 'n'], ascending=False).reset_index(drop=True)\n",
    "\n",
    "    except ValueError as e:\n",
    "\n",
    "        if not e.args[0].startswith('Shape of passed values is (0, 0)'): raise\n",
    "\n",
    "        logging.warn(\"> No pairs of target with sufficient compounds in common for '{}'.\".format(symbol))\n",
    "        \n",
    "        continue\n",
    "\n",
    "    # Add full names of targets (NB renaming and reordering targets)...\n",
    "\n",
    "    pref_names = symbol_targets[['chembl_id', 'pref_name']].reset_index(drop=True).set_index('chembl_id')\n",
    "\n",
    "    target_pairs = target_pairs.merge(pref_names, left_on='target_1', right_index=True).merge(pref_names, left_on='target_2', right_index=True).sort('r', ascending=False)\n",
    "    \n",
    "    target_pairs.columns = [x.replace('_x', '_1').replace('_y', '_2') for x in target_pairs.columns.values]\n",
    "    \n",
    "    target_pairs = target_pairs[['target_1', 'pref_name_1', 'n_1', 'target_2', 'pref_name_2', 'n_2', 'n', 'r']]\n",
    "    \n",
    "    # Done...\n",
    "    \n",
    "    data_by_symbol[symbol], means_by_symbol[symbol], pairs_by_symbol[symbol] = data, means, target_pairs\n",
    "    \n",
    "    logging.info(\"...OK.\")\n",
    "    \n",
    "logging.info(\"Finished.\")"
   ]
  },
  {
   "cell_type": "code",
   "execution_count": null,
   "metadata": {
    "collapsed": false
   },
   "outputs": [],
   "source": [
    "# Symbols having multiple targets with sufficient data for comparison...\n",
    "\n",
    "[(x, y.shape[0]) for x, y in pairs_by_symbol.items()]"
   ]
  },
  {
   "cell_type": "code",
   "execution_count": null,
   "metadata": {
    "collapsed": false
   },
   "outputs": [],
   "source": [
    "# Show data for each symbol...\n",
    "\n",
    "# HTML('\\n'.join(\"<h3>{}</h3>\\n{}\".format(x, data_by_symbol[x].to_html()) for x in sorted(data_by_symbol.keys())))"
   ]
  },
  {
   "cell_type": "code",
   "execution_count": null,
   "metadata": {
    "collapsed": false,
    "scrolled": false
   },
   "outputs": [],
   "source": [
    "# Show pair summary info for each symbol...\n",
    "\n",
    "HTML('\\n'.join(\"<h3>{}</h3>\\n{}\".format(x, pairs_by_symbol[x].to_html()) for x in sorted(pairs_by_symbol.keys())))"
   ]
  },
  {
   "cell_type": "markdown",
   "metadata": {},
   "source": [
    "### Plot pActivity data for pairs of assays"
   ]
  },
  {
   "cell_type": "code",
   "execution_count": null,
   "metadata": {
    "collapsed": false
   },
   "outputs": [],
   "source": [
    "# Function to plot pChEMBL values for all pairs of ChEMBL targets for a symbol...\n",
    "\n",
    "ncol, size = 4, 12\n",
    "\n",
    "min_xc50, max_xc50 = 3.0, 10.0\n",
    "\n",
    "def plots_for_symbol(symbol):\n",
    "    \n",
    "    target_pairs, target_means = pairs_by_symbol[symbol], means_by_symbol[symbol]\n",
    "\n",
    "    n_pairs = target_pairs.shape[0]\n",
    "\n",
    "    nrow = int(ceil(n_pairs / ncol))\n",
    "\n",
    "    fig, axes = plt.subplots(nrow, ncol, figsize=(size*ncol, size*nrow))\n",
    "    \n",
    "    fig.suptitle(symbol)\n",
    "    \n",
    "    if nrow > 1: axes = list(chain.from_iterable(axes))\n",
    "\n",
    "    for ax in axes[n_pairs:]: ax.axis('off')\n",
    "        \n",
    "    for i, (_, rec) in enumerate(target_pairs.iterrows()):\n",
    "        \n",
    "        axis = axes[i]\n",
    "\n",
    "        pair_means = target_means[[rec.target_1, rec.target_2]].dropna(how='any')\n",
    "\n",
    "        axis.scatter(pair_means[rec.target_1], pair_means[rec.target_2])\n",
    "        \n",
    "        axis.set_xlim(min_xc50, max_xc50)\n",
    "        axis.set_ylim(min_xc50, max_xc50)\n",
    "        axis.set_aspect(1)\n",
    "        \n",
    "        axis.set_title(\"{}  ({}/{})  r = {:.2f}  [n = {}]\".format(symbol, i+1, n_pairs, rec.r, rec.n))\n",
    "        axis.set_xlabel(\"{}  [n = {}]\\n{}\".format(rec.target_1, rec.n_1, rec.pref_name_1))\n",
    "        axis.set_ylabel(\"{}  [n = {}]\\n{}\".format(rec.target_2, rec.n_2, rec.pref_name_2))\n",
    "\n",
    "        axis.plot((min_xc50, max_xc50), (min_xc50, max_xc50), color='r', linestyle='-', linewidth=1)\n",
    "        axis.plot((5, 5), (min_xc50, max_xc50), color='m', linestyle='--', linewidth=2)\n",
    "        axis.plot((min_xc50, max_xc50), (5, 5), color='m', linestyle='--', linewidth=2)"
   ]
  },
  {
   "cell_type": "code",
   "execution_count": null,
   "metadata": {
    "collapsed": false,
    "scrolled": false
   },
   "outputs": [],
   "source": [
    "# Generate plots for all symbols...\n",
    "\n",
    "for symbol in sorted(data_by_symbol.keys()):\n",
    "                         \n",
    "    plots_for_symbol(symbol)"
   ]
  }
 ],
 "metadata": {
  "kernelspec": {
   "display_name": "Python 2",
   "language": "python",
   "name": "python2"
  },
  "language_info": {
   "codemirror_mode": {
    "name": "ipython",
    "version": 2
   },
   "file_extension": ".py",
   "mimetype": "text/x-python",
   "name": "python",
   "nbconvert_exporter": "python",
   "pygments_lexer": "ipython2",
   "version": "2.7.10"
  }
 },
 "nbformat": 4,
 "nbformat_minor": 0
}
