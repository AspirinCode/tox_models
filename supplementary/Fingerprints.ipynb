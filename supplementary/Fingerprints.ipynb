{
 "cells": [
  {
   "cell_type": "markdown",
   "metadata": {},
   "source": [
    "# Fingerprints\n",
    "\n",
    "Interconverting RDKit fingerprint formats."
   ]
  },
  {
   "cell_type": "code",
   "execution_count": 2,
   "metadata": {
    "collapsed": true
   },
   "outputs": [],
   "source": [
    "from scipy.spatial.distance import pdist\n",
    "\n",
    "from local_utils.rdkit_utils import FP"
   ]
  },
  {
   "cell_type": "code",
   "execution_count": 3,
   "metadata": {
    "collapsed": true
   },
   "outputs": [],
   "source": [
    "smi0 = 'CS(=O)(=O)CCNCc1oc(cc1)c2ccc3ncnc(Nc4ccc(OCc5cccc(F)c5)c(Cl)c4)c3c2'\n",
    "smi1 = 'COCCOc1cc2ncnc(Nc3cccc(c3)C#C)c2cc1OCCOC'"
   ]
  },
  {
   "cell_type": "code",
   "execution_count": 4,
   "metadata": {
    "collapsed": true
   },
   "outputs": [],
   "source": [
    "# Get mols...\n",
    "\n",
    "mol0, mol1 = [Chem.MolFromSmiles(x) for x in [smi0, smi1]]"
   ]
  },
  {
   "cell_type": "code",
   "execution_count": 5,
   "metadata": {
    "collapsed": true
   },
   "outputs": [],
   "source": [
    "# Get fingerprints...\n",
    "\n",
    "FP0, FP1 = [FP(x) for x in [mol0, mol1]]"
   ]
  },
  {
   "cell_type": "code",
   "execution_count": 6,
   "metadata": {
    "collapsed": true
   },
   "outputs": [],
   "source": [
    "# Round trip conversion...\n",
    "    \n",
    "fp_as_string = ''.join(\"{}\".format(x) for x in FP0.fp) # ASCII string of '0' and '1'\n",
    "\n",
    "fp_as_bitvector = DataStructs.CreateFromBitString(fp_as_string) # RDKit ExplicitBitVect object from ASCII string\n",
    "\n",
    "assert FP0.bv == fp_as_bitvector\n",
    "\n",
    "# Convert to NumPy array...          \n",
    "\n",
    "fp_as_array = np.zeros(2048, np.uint8)\n",
    "\n",
    "DataStructs.ConvertToNumpyArray(fp_as_bitvector, fp_as_array)\n",
    "\n",
    "assert all(fp_as_array == FP0.fp)"
   ]
  },
  {
   "cell_type": "code",
   "execution_count": 7,
   "metadata": {
    "collapsed": false
   },
   "outputs": [
    {
     "data": {
      "text/plain": [
       "0.2765957446808511"
      ]
     },
     "execution_count": 7,
     "metadata": {},
     "output_type": "execute_result"
    }
   ],
   "source": [
    "# Similarity via RDKit...\n",
    "\n",
    "DataStructs.FingerprintSimilarity(FP0.bv, FP1.bv)"
   ]
  },
  {
   "cell_type": "code",
   "execution_count": 8,
   "metadata": {
    "collapsed": false
   },
   "outputs": [
    {
     "data": {
      "text/plain": [
       "0.27659574468085102"
      ]
     },
     "execution_count": 8,
     "metadata": {},
     "output_type": "execute_result"
    }
   ],
   "source": [
    "# Similarity via scipy...\n",
    "\n",
    "1.0 - pdist([FP0.fp, FP1.fp], metric='jaccard')[0]"
   ]
  },
  {
   "cell_type": "code",
   "execution_count": 12,
   "metadata": {
    "collapsed": false
   },
   "outputs": [
    {
     "data": {
      "text/plain": [
       "2048"
      ]
     },
     "execution_count": 12,
     "metadata": {},
     "output_type": "execute_result"
    }
   ],
   "source": [
    "len(FP0.bv)"
   ]
  },
  {
   "cell_type": "code",
   "execution_count": 13,
   "metadata": {
    "collapsed": false
   },
   "outputs": [
    {
     "data": {
      "text/plain": [
       "2048"
      ]
     },
     "execution_count": 13,
     "metadata": {},
     "output_type": "execute_result"
    }
   ],
   "source": [
    "len(FP0.fp)"
   ]
  },
  {
   "cell_type": "code",
   "execution_count": 32,
   "metadata": {
    "collapsed": false
   },
   "outputs": [
    {
     "data": {
      "image/png": "[encoded data removed]",
      "text/plain": [
       "<PIL.Image.Image image mode=RGBA size=600x200 at 0x10E752248>"
      ]
     },
     "execution_count": 32,
     "metadata": {},
     "output_type": "execute_result"
    }
   ],
   "source": [
    "# Get mols...\n",
    "\n",
    "mol0, mol1 = [Chem.MolFromSmiles(x) for x in ['F[C@H](Cl)Br', 'F[C@@H](Cl)Br']]\n",
    "              \n",
    "Draw.MolsToGridImage([mol0, mol1])"
   ]
  },
  {
   "cell_type": "code",
   "execution_count": 33,
   "metadata": {
    "collapsed": false
   },
   "outputs": [],
   "source": [
    "# Get fingerprints...\n",
    "\n",
    "FP0, FP1 = [FP(x) for x in [mol0, mol1]]\n",
    "\n",
    "assert (FP0.fp == FP1.fp).all(), 'Fingerprints not the same.'"
   ]
  },
  {
   "cell_type": "code",
   "execution_count": 34,
   "metadata": {
    "collapsed": false
   },
   "outputs": [],
   "source": [
    "assert FP0.bv == FP1.bv, 'Fingerprints not the same.'"
   ]
  }
 ],
 "metadata": {
  "kernelspec": {
   "display_name": "Python 2",
   "language": "python",
   "name": "python2"
  }
 },
 "nbformat": 4,
 "nbformat_minor": 0
}
