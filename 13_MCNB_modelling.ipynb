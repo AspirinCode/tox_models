{
 "cells": [
  {
   "cell_type": "markdown",
   "metadata": {},
   "source": [
    "# MCNB modelling\n",
    "\n",
    "Multi-Class Naive Bayes modelling."
   ]
  },
  {
   "cell_type": "code",
   "execution_count": 1,
   "metadata": {
    "collapsed": true
   },
   "outputs": [],
   "source": [
    "from itertools import chain, combinations\n",
    "\n",
    "from collections import OrderedDict as odict\n",
    "\n",
    "from math import ceil\n",
    "\n",
    "from rdkit import SimDivFilters, DataStructs\n",
    "\n",
    "from sklearn.naive_bayes import BernoulliNB, MultinomialNB\n",
    "from sklearn.multiclass import OneVsRestClassifier\n",
    "from sklearn.externals import joblib\n",
    "\n",
    "import warnings\n",
    "\n",
    "import seaborn as sns\n",
    "\n",
    "from local_utils.rdkit_utils import FP"
   ]
  },
  {
   "cell_type": "markdown",
   "metadata": {},
   "source": [
    "## Config"
   ]
  },
  {
   "cell_type": "code",
   "execution_count": 24,
   "metadata": {
    "collapsed": true
   },
   "outputs": [],
   "source": [
    "# Fraction of data to take as test set...\n",
    "\n",
    "test_fraction = 1/4\n",
    "\n",
    "# Number of times to repeat model-building/prediction process...\n",
    "\n",
    "n_repeats = 10"
   ]
  },
  {
   "cell_type": "code",
   "execution_count": 3,
   "metadata": {
    "collapsed": true
   },
   "outputs": [],
   "source": [
    "# Ignore 'deprecation' warnings...\n",
    "\n",
    "warnings.filterwarnings(\"ignore\", category=DeprecationWarning)\n",
    "warnings.filterwarnings(\"ignore\", category=np.VisibleDeprecationWarning)"
   ]
  },
  {
   "cell_type": "code",
   "execution_count": 4,
   "metadata": {
    "collapsed": true
   },
   "outputs": [],
   "source": [
    "sns.set()\n",
    "\n",
    "cfi = chain.from_iterable"
   ]
  },
  {
   "cell_type": "code",
   "execution_count": 5,
   "metadata": {
    "collapsed": true
   },
   "outputs": [],
   "source": [
    "# ChEMBL connection...\n",
    "\n",
    "engine = create_engine(open('database.txt').read().strip())"
   ]
  },
  {
   "cell_type": "markdown",
   "metadata": {},
   "source": [
    "## Reload  data"
   ]
  },
  {
   "cell_type": "code",
   "execution_count": 6,
   "metadata": {
    "collapsed": false
   },
   "outputs": [
    {
     "data": {
      "text/plain": [
       "(167055, 138, 104749, 104749)"
      ]
     },
     "execution_count": 6,
     "metadata": {},
     "output_type": "execute_result"
    }
   ],
   "source": [
    "# Active compounds ...\n",
    "\n",
    "all_actives, all_mols = pd.read_pickle('actives.pkl')\n",
    "\n",
    "all_actives.shape[0], all_actives['symbol'].unique().size, all_actives['usmiles'].unique().size, all_mols.shape[0]"
   ]
  },
  {
   "cell_type": "code",
   "execution_count": 7,
   "metadata": {
    "collapsed": false
   },
   "outputs": [
    {
     "data": {
      "text/html": [
       "<div style=\"max-height:1000px;max-width:1500px;overflow:auto;\">\n",
       "<table border=\"1\" class=\"dataframe\">\n",
       "  <thead>\n",
       "    <tr style=\"text-align: right;\">\n",
       "      <th></th>\n",
       "      <th>symbol</th>\n",
       "      <th>usmiles</th>\n",
       "    </tr>\n",
       "    <tr>\n",
       "      <th>symbol</th>\n",
       "      <th></th>\n",
       "      <th></th>\n",
       "    </tr>\n",
       "  </thead>\n",
       "  <tbody>\n",
       "    <tr>\n",
       "      <th>ABCB1</th>\n",
       "      <td>ABCB1</td>\n",
       "      <td>C=CC(C)(C)c1c(O)cc(O)c2c(=O)c(O)c(-c3ccc(OC)cc3)oc12</td>\n",
       "    </tr>\n",
       "  </tbody>\n",
       "</table>\n",
       "</div>"
      ],
      "text/plain": [
       "       symbol                                               usmiles\n",
       "symbol                                                             \n",
       "ABCB1   ABCB1  C=CC(C)(C)c1c(O)cc(O)c2c(=O)c(O)c(-c3ccc(OC)cc3)oc12"
      ]
     },
     "execution_count": 7,
     "metadata": {},
     "output_type": "execute_result"
    }
   ],
   "source": [
    "all_actives.head(1)"
   ]
  },
  {
   "cell_type": "code",
   "execution_count": 8,
   "metadata": {
    "collapsed": false
   },
   "outputs": [
    {
     "data": {
      "text/html": [
       "<div style=\"max-height:1000px;max-width:1500px;overflow:auto;\">\n",
       "<table border=\"1\" class=\"dataframe\">\n",
       "  <thead>\n",
       "    <tr style=\"text-align: right;\">\n",
       "      <th></th>\n",
       "      <th>mol</th>\n",
       "      <th>FP</th>\n",
       "      <th>core_smiles</th>\n",
       "    </tr>\n",
       "    <tr>\n",
       "      <th>usmiles</th>\n",
       "      <th></th>\n",
       "      <th></th>\n",
       "      <th></th>\n",
       "    </tr>\n",
       "  </thead>\n",
       "  <tbody>\n",
       "    <tr>\n",
       "      <th>C=CC(C)(C)c1c(O)cc(O)c2c(=O)c(O)c(-c3ccc(OC)cc3)oc12</th>\n",
       "      <td><img src=\"data:image/png;base64,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\" alt=\"Mol\"/></td>\n",
       "      <td>[0 0 0 ..., 0 0 0]</td>\n",
       "      <td>O=c1cc(-c2ccccc2)oc2ccccc12</td>\n",
       "    </tr>\n",
       "  </tbody>\n",
       "</table>\n",
       "</div>"
      ],
      "text/plain": [
       "                                                                                                                                                                                                                                                                                                                                                                                                                                                                                                                                                                                                                                                                                                                                                                                                                                                                                                                                                                                                                                                                                                                                                                                                                                                                                                                                                                                                                                                                                                                                                                                                                                                                                                                                                                                                                                                                                                                                                                                                                                                                                                                                                                                                                                                                                                                                                                                                                                                                                                                                                                                                                                                                                                                                                                                                                                                                                                                                                                                                                                                                                                                                                                                                                                                                                                                                                                                                                                                                                                                                                                                                                                                                                                                                                                                                                                                                                                                                                                                                                                                                                                                                                                                                                                                                                                                                                                                                                                                                                                                                                                                                                                                                                                                                                                                                                                                                                                                                                                                                                                                                                                                                                                                                                                                                                                                                                                                                                                                                                                                                                                                                                                                                                                                                                                                                                                                                                                                                                                                                                                                                                                                                                                                                                                                                                                                                                                                                                                                                                                                                                                                                                                                                                                                                                                                                                                                                                                                                                                                                                                                                                                                                                                                                                                                                                                                                                                                                                                                                                                                                                                                                                                                                                                                                                                                                                                                                                                                                                                                                                                                                                                                                                                                                                                                                                                                                                                                                                                                                                                                                                                                                                                                                                                                                                                                                                                                                                                                                                                                                                                                                                                                                                                                                                                                                                                                                                                                                                                                                                                                                                                                                                                                                                                                                                                                                                                                                                                                                                                                                                                                                                                                                                                                                                                                                                                                                                                                                                                                                                                                                                                                                                                                                                                                                                                                                                                                                                                                                                                                                                                                                                                                                                                                                                                                                                                                                                                                                                                                                                                                                                                                                                                                                                                                                                                                                                                                                                                                                                                                                                                                                                                                                                                                                                                                                                                                                                                                                                                                                                                                                                                                                                                                                                                                                                                                                                                                                                                                                                                                                                                                                                                                                                                                                                                                                                                                                                                                                                                                                                                                                                                                                                                                                                                                                                                                                                                                                                                                                                                                                                                                                                                                                                                                                                                                                                                                                                                                                                                                                                                                                                                                                                                                                                                                                                                                                                                                                                                                                                                                                                                                                                                                                                                                                                                                                                                                                                                                                                                                                                                                                                                                                                                                        mol                  FP                  core_smiles\n",
       "usmiles                                                                                                                                                                                                                                                                                                                                                                                                                                                                                                                                                                                                                                                                                                                                                                                                                                                                                                                                                                                                                                                                                                                                                                                                                                                                                                                                                                                                                                                                                                                                                                                                                                                                                                                                                                                                                                                                                                                                                                                                                                                                                                                                                                                                                                                                                                                                                                                                                                                                                                                                                                                                                                                                                                                                                                                                                                                                                                                                                                                                                                                                                                                                                                                                                                                                                                                                                                                                                                                                                                                                                                                                                                                                                                                                                                                                                                                                                                                                                                                                                                                                                                                                                                                                                                                                                                                                                                                                                                                                                                                                                                                                                                                                                                                                                                                                                                                                                                                                                                                                                                                                                                                                                                                                                                                                                                                                                                                                                                                                                                                                                                                                                                                                                                                                                                                                                                                                                                                                                                                                                                                                                                                                                                                                                                                                                                                                                                                                                                                                                                                                                                                                                                                                                                                                                                                                                                                                                                                                                                                                                                                                                                                                                                                                                                                                                                                                                                                                                                                                                                                                                                                                                                                                                                                                                                                                                                                                                                                                                                                                                                                                                                                                                                                                                                                                                                                                                                                                                                                                                                                                                                                                                                                                                                                                                                                                                                                                                                                                                                                                                                                                                                                                                                                                                                                                                                                                                                                                                                                                                                                                                                                                                                                                                                                                                                                                                                                                                                                                                                                                                                                                                                                                                                                                                                                                                                                                                                                                                                                                                                                                                                                                                                                                                                                                                                                                                                                                                                                                                                                                                                                                                                                                                                                                                                                                                                                                                                                                                                                                                                                                                                                                                                                                                                                                                                                                                                                                                                                                                                                                                                                                                                                                                                                                                                                                                                                                                                                                                                                                                                                                                                                                                                                                                                                                                                                                                                                                                                                                                                                                                                                                                                                                                                                                                                                                                                                                                                                                                                                                                                                                                                                                                                                                                                                                                                                                                                                                                                                                                                                                                                                                                                                                                                                                                                                                                                                                                                                                                                                                                                                                                                                                                                                                                                                                                                                                                                                                                                                                                                                                                                                                                                                                                                                                                                                                                                                                                                                                                                                                                                                                                                                                                                                                                                     \n",
       "C=CC(C)(C)c1c(O)cc(O)c2c(=O)c(O)c(-c3ccc(OC)cc3)oc12  <img src=\"data:image/png;base64,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\" alt=\"Mol\"/>  [0 0 0 ..., 0 0 0]  O=c1cc(-c2ccccc2)oc2ccccc12"
      ]
     },
     "execution_count": 8,
     "metadata": {},
     "output_type": "execute_result"
    }
   ],
   "source": [
    "all_mols.head(1)"
   ]
  },
  {
   "cell_type": "markdown",
   "metadata": {},
   "source": [
    "## Random picking"
   ]
  },
  {
   "cell_type": "code",
   "execution_count": 9,
   "metadata": {
    "collapsed": true
   },
   "outputs": [],
   "source": [
    "def reformat_and_add_mols(df):\n",
    "    \n",
    "    \"\"\"Reformat to list of symbols at which each compound is active\"\"\"\n",
    "    \n",
    "    return df.groupby('usmiles').apply(lambda x: x['symbol'].tolist()).to_frame('symbols')\\\n",
    "             .merge(all_mols[['FP']], left_index=True, right_index=True)\\\n",
    "             .reset_index(drop=False)"
   ]
  },
  {
   "cell_type": "code",
   "execution_count": 10,
   "metadata": {
    "collapsed": false
   },
   "outputs": [
    {
     "data": {
      "text/plain": [
       "138"
      ]
     },
     "execution_count": 10,
     "metadata": {},
     "output_type": "execute_result"
    }
   ],
   "source": [
    "symbols = all_actives.index.unique().tolist()\n",
    "\n",
    "len(symbols)"
   ]
  },
  {
   "cell_type": "code",
   "execution_count": 11,
   "metadata": {
    "collapsed": false
   },
   "outputs": [
    {
     "data": {
      "text/plain": [
       "104749"
      ]
     },
     "execution_count": 11,
     "metadata": {},
     "output_type": "execute_result"
    }
   ],
   "source": [
    "compounds = set(all_actives['usmiles'])\n",
    "\n",
    "len(compounds)"
   ]
  },
  {
   "cell_type": "code",
   "execution_count": 25,
   "metadata": {
    "collapsed": false
   },
   "outputs": [
    {
     "name": "stderr",
     "output_type": "stream",
     "text": [
      "[2015/Aug/14 13:46:07 INFO    ] Starting run 1/10...\n",
      "[2015/Aug/14 13:46:27 INFO    ]   done data split\n",
      "[2015/Aug/14 13:48:59 INFO    ]   fit model\n",
      "[2015/Aug/14 13:50:07 INFO    ]   predicted actives\n",
      "[2015/Aug/14 13:51:12 INFO    ]   predicted inactives\n",
      "[2015/Aug/14 13:51:12 INFO    ] Starting run 2/10...\n",
      "[2015/Aug/14 13:51:33 INFO    ]   done data split\n",
      "[2015/Aug/14 13:54:16 INFO    ]   fit model\n",
      "[2015/Aug/14 13:55:27 INFO    ]   predicted actives\n",
      "[2015/Aug/14 13:56:37 INFO    ]   predicted inactives\n",
      "[2015/Aug/14 13:56:37 INFO    ] Starting run 3/10...\n",
      "[2015/Aug/14 13:56:56 INFO    ]   done data split\n",
      "[2015/Aug/14 13:59:33 INFO    ]   fit model\n",
      "[2015/Aug/14 14:00:43 INFO    ]   predicted actives\n",
      "[2015/Aug/14 14:01:53 INFO    ]   predicted inactives\n",
      "[2015/Aug/14 14:01:53 INFO    ] Starting run 4/10...\n",
      "[2015/Aug/14 14:02:12 INFO    ]   done data split\n",
      "[2015/Aug/14 14:04:45 INFO    ]   fit model\n",
      "[2015/Aug/14 14:05:51 INFO    ]   predicted actives\n",
      "[2015/Aug/14 14:06:59 INFO    ]   predicted inactives\n",
      "[2015/Aug/14 14:06:59 INFO    ] Starting run 5/10...\n",
      "[2015/Aug/14 14:07:18 INFO    ]   done data split\n",
      "[2015/Aug/14 14:09:55 INFO    ]   fit model\n",
      "[2015/Aug/14 14:11:08 INFO    ]   predicted actives\n",
      "[2015/Aug/14 14:12:18 INFO    ]   predicted inactives\n",
      "[2015/Aug/14 14:12:18 INFO    ] Starting run 6/10...\n",
      "[2015/Aug/14 14:12:37 INFO    ]   done data split\n",
      "[2015/Aug/14 14:15:27 INFO    ]   fit model\n",
      "[2015/Aug/14 14:16:39 INFO    ]   predicted actives\n",
      "[2015/Aug/14 14:17:52 INFO    ]   predicted inactives\n",
      "[2015/Aug/14 14:17:52 INFO    ] Starting run 7/10...\n",
      "[2015/Aug/14 14:18:14 INFO    ]   done data split\n",
      "[2015/Aug/14 14:21:08 INFO    ]   fit model\n",
      "[2015/Aug/14 14:22:19 INFO    ]   predicted actives\n",
      "[2015/Aug/14 14:23:27 INFO    ]   predicted inactives\n",
      "[2015/Aug/14 14:23:27 INFO    ] Starting run 8/10...\n",
      "[2015/Aug/14 14:23:48 INFO    ]   done data split\n",
      "[2015/Aug/14 14:26:33 INFO    ]   fit model\n",
      "[2015/Aug/14 14:27:44 INFO    ]   predicted actives\n",
      "[2015/Aug/14 14:28:49 INFO    ]   predicted inactives\n",
      "[2015/Aug/14 14:28:49 INFO    ] Starting run 9/10...\n",
      "[2015/Aug/14 14:29:08 INFO    ]   done data split\n",
      "[2015/Aug/14 14:31:48 INFO    ]   fit model\n",
      "[2015/Aug/14 14:32:59 INFO    ]   predicted actives\n",
      "[2015/Aug/14 14:34:05 INFO    ]   predicted inactives\n",
      "[2015/Aug/14 14:34:05 INFO    ] Starting run 10/10...\n",
      "[2015/Aug/14 14:34:25 INFO    ]   done data split\n",
      "[2015/Aug/14 14:37:04 INFO    ]   fit model\n",
      "[2015/Aug/14 14:38:14 INFO    ]   predicted actives\n",
      "[2015/Aug/14 14:39:22 INFO    ]   predicted inactives\n",
      "[2015/Aug/14 14:39:22 INFO    ] Finished.\n"
     ]
    }
   ],
   "source": [
    "# 1 = actives test set, 2 = inactives test set\n",
    "\n",
    "all_results_1, all_results_2 = [], []\n",
    "\n",
    "for n in range(1, n_repeats+1):\n",
    "    \n",
    "    logging.info(\"Starting run {}/{}...\".format(n, n_repeats))\n",
    "    \n",
    "    ######\n",
    "    \n",
    "    train, test_1, test_2 = [], [], []\n",
    "\n",
    "    for symbol in symbols:\n",
    "        \n",
    "        # Split active compounds for symbol into test and training sets...\n",
    "\n",
    "        actives = all_actives.loc[symbol]['usmiles'].values\n",
    "\n",
    "        n_test = int(ceil(actives.size * test_fraction))\n",
    "        \n",
    "        idx = np.random.permutation(actives.size)\n",
    "        \n",
    "        train.append(pd.DataFrame( {'symbol': symbol, 'usmiles': actives[idx[n_test:]]}))\n",
    "        \n",
    "        test_1.append(pd.DataFrame({'symbol': symbol, 'usmiles': actives[idx[:n_test]]}))\n",
    "        \n",
    "        # Inactives...\n",
    "        \n",
    "        inactives = np.array(list(compounds.difference(set(actives)))) # Compounds not active for the this target\n",
    "        \n",
    "        idx = np.random.permutation(inactives.size)\n",
    "        \n",
    "        test_2.append(pd.DataFrame({'symbol': symbol, 'usmiles': inactives[idx[:n_test]]})) # Inactives test set is same size as actives test set\n",
    "\n",
    "    train, test_1, test_2 = [reformat_and_add_mols(pd.concat(x)) for x in [train, test_1, test_2]]\n",
    "    \n",
    "    logging.info(\"  done data split\")\n",
    "    \n",
    "    ######\n",
    "\n",
    "    # Fit model using training set...\n",
    "\n",
    "    X = [x.fp for x in train['FP']]\n",
    "\n",
    "    y = train['symbols'].tolist()\n",
    "\n",
    "    classifier = OneVsRestClassifier(MultinomialNB())\n",
    "\n",
    "    classifier.fit(X, y)\n",
    "    \n",
    "    logging.info(\"  fit model\")\n",
    "\n",
    "    ######\n",
    "\n",
    "    # Predict actives test set...\n",
    "\n",
    "    X = [x.fp for x in test_1['FP']]\n",
    "\n",
    "    predictions_1 = classifier.predict(X)\n",
    "    \n",
    "    # For each compound-symbol pair in the actives test set, is that activity (rightly) predicted by the model?\n",
    "\n",
    "    predictions_1 = {x: set(y) for x, y in zip(test_1['usmiles'], predictions_1)} # Reformat predictions for straightforward lookup\n",
    "\n",
    "    results_1 = pd.DataFrame(list(cfi(((usmiles, symbol, symbol in predictions_1[usmiles]) for symbol in symbols) for usmiles, symbols in test_1[['usmiles', 'symbols']].itertuples(index=False))), columns=['usmiles', 'symbol', 'predicted'])\n",
    "    \n",
    "    all_results_1.append(results_1)\n",
    "    \n",
    "    logging.info(\"  predicted actives\")\n",
    "    \n",
    "    #######\n",
    "    \n",
    "    # Predict inactives test set...\n",
    "    \n",
    "    X = [x.fp for x in test_2['FP']]\n",
    "\n",
    "    predictions_2 = classifier.predict(X)\n",
    "    \n",
    "    # For each compound-symbol pair in the inactives test set, is that activity (wrongly) predicted by the model?\n",
    "    \n",
    "    predictions_2 = {x: set(y) for x, y in zip(test_2['usmiles'], predictions_2)} # Reformat predictions for straightforward look\n",
    "\n",
    "    results_2 = pd.DataFrame(list(cfi(((usmiles, symbol, symbol in predictions_2[usmiles]) for symbol in symbols) for usmiles, symbols in test_2[['usmiles', 'symbols']].itertuples(index=False))), columns=['usmiles', 'symbol', 'predicted'])\n",
    "    \n",
    "    all_results_2.append(results_2)\n",
    "    \n",
    "    logging.info(\"  predicted inactives\")\n",
    "        \n",
    "logging.info(\"Finished.\")"
   ]
  },
  {
   "cell_type": "code",
   "execution_count": 26,
   "metadata": {
    "collapsed": true
   },
   "outputs": [],
   "source": [
    "pickle.dump([all_results_1, all_results_2], open('all_results.pkl', 'w'))"
   ]
  }
 ],
 "metadata": {
  "kernelspec": {
   "display_name": "Python 2",
   "language": "python",
   "name": "python2"
  },
  "language_info": {
   "codemirror_mode": {
    "name": "ipython",
    "version": 2
   },
   "file_extension": ".py",
   "mimetype": "text/x-python",
   "name": "python",
   "nbconvert_exporter": "python",
   "pygments_lexer": "ipython2",
   "version": "2.7.10"
  }
 },
 "nbformat": 4,
 "nbformat_minor": 0
}
