{
 "cells": [
  {
   "cell_type": "markdown",
   "metadata": {},
   "source": [
    "# Add ChEMBL target classification"
   ]
  },
  {
   "cell_type": "code",
   "execution_count": 1,
   "metadata": {
    "collapsed": true
   },
   "outputs": [],
   "source": [
    "from local_utils.file_utils import backup_file"
   ]
  },
  {
   "cell_type": "markdown",
   "metadata": {},
   "source": [
    "## Configuration"
   ]
  },
  {
   "cell_type": "code",
   "execution_count": 2,
   "metadata": {
    "collapsed": false
   },
   "outputs": [],
   "source": [
    "# ChEMBL connection...\n",
    "\n",
    "engine = create_engine(open('database.txt').read().strip())"
   ]
  },
  {
   "cell_type": "markdown",
   "metadata": {},
   "source": [
    "## Target classification\n",
    "\n",
    "Using a portion of the full ChEMBL target classification hierarchy in the table '`target_class`'.\n",
    "\n",
    "Note that classification is only performed on Human targets; the classification of Rat targets in ChEMBL is very patchy, and the by-symbol classification of Human targets may easily be applied to the Rat targets."
   ]
  },
  {
   "cell_type": "code",
   "execution_count": 3,
   "metadata": {
    "collapsed": false
   },
   "outputs": [
    {
     "data": {
      "text/plain": [
       "(258, 5)"
      ]
     },
     "execution_count": 3,
     "metadata": {},
     "output_type": "execute_result"
    }
   ],
   "source": [
    "target_class = pd.read_sql_query(\"\"\"\n",
    "select\n",
    "  distinct\n",
    "    x.chembl_id\n",
    "  , x.pref_name\t\n",
    "  , x.symbol\n",
    "  , x.approved_name\t\n",
    "  , b.l1\n",
    "        || case when b.l2 is not null then ' > ' || b.l2\n",
    "            || case when b.L2 = 'Kinase' and b.L3 is not null then ' > ' || b.L3\n",
    "            else '' end\n",
    "        else '' end\n",
    "    as target_class\n",
    "from\n",
    "  tt_chembl_targets x\n",
    "  join chembl_20_app.chembl_id_lookup a on x.chembl_id = a.chembl_id\n",
    "  join chembl_20_app.target_class b on a.entity_id = b.tid\n",
    "where\n",
    "  a.entity_type = 'TARGET'\n",
    "and x.species = 'Human'\n",
    "and x.exclude = 0\n",
    "order by\n",
    "    x.chembl_id\n",
    "  , target_class\n",
    "\"\"\", engine)\n",
    "\n",
    "target_class.shape"
   ]
  },
  {
   "cell_type": "code",
   "execution_count": 4,
   "metadata": {
    "collapsed": false
   },
   "outputs": [
    {
     "data": {
      "text/html": [
       "<div style=\"max-height:1000px;max-width:1500px;overflow:auto;\">\n",
       "<table border=\"1\" class=\"dataframe\">\n",
       "  <thead>\n",
       "    <tr style=\"text-align: right;\">\n",
       "      <th></th>\n",
       "      <th>chembl_id</th>\n",
       "      <th>pref_name</th>\n",
       "      <th>symbol</th>\n",
       "      <th>approved_name</th>\n",
       "      <th>target_class</th>\n",
       "    </tr>\n",
       "  </thead>\n",
       "  <tbody>\n",
       "  </tbody>\n",
       "</table>\n",
       "</div>"
      ],
      "text/plain": [
       "Empty DataFrame\n",
       "Columns: [chembl_id, pref_name, symbol, approved_name, target_class]\n",
       "Index: []"
      ]
     },
     "execution_count": 4,
     "metadata": {},
     "output_type": "execute_result"
    }
   ],
   "source": [
    "symbols = ['ABCG5', 'ABCG8', 'ATP1A1', 'ATP1A2', 'ATP1A3', 'ATP1A4', 'ATP1B1', 'ATP1B2', 'ATP1B3', 'ATP1B4', 'ATP8B1', 'KCNA7', 'KCNC4', 'KCNE1', 'KCNJ12', 'KCNJ3', 'KCNJ5', 'KCNK1', 'KCNK4', 'KCNK6', 'NPR2', 'SLC29A2', 'SLC4A2', 'SLC51B']\n",
    "\n",
    "target_class.query('symbol in @symbols')"
   ]
  },
  {
   "cell_type": "code",
   "execution_count": 4,
   "metadata": {
    "collapsed": false
   },
   "outputs": [
    {
     "data": {
      "text/html": [
       "<table border=\"1\" class=\"dataframe\">\n",
       "  <thead>\n",
       "    <tr style=\"text-align: right;\">\n",
       "      <th></th>\n",
       "      <th>chembl_id</th>\n",
       "      <th>pref_name</th>\n",
       "      <th>symbol</th>\n",
       "      <th>approved_name</th>\n",
       "      <th>target_class</th>\n",
       "    </tr>\n",
       "  </thead>\n",
       "  <tbody>\n",
       "    <tr>\n",
       "      <th>0</th>\n",
       "      <td>CHEMBL1075094</td>\n",
       "      <td>Nuclear factor erythroid 2-related factor 2</td>\n",
       "      <td>NFE2L2</td>\n",
       "      <td>nuclear factor, erythroid 2-like 2</td>\n",
       "      <td>Unclassified protein</td>\n",
       "    </tr>\n",
       "    <tr>\n",
       "      <th>1</th>\n",
       "      <td>CHEMBL1250417</td>\n",
       "      <td>Potassium/sodium hyperpolarization-activated cyclic nucleotide-gated channel 4</td>\n",
       "      <td>HCN4</td>\n",
       "      <td>hyperpolarization activated cyclic nucleotide gated potassium channel 4</td>\n",
       "      <td>Ion channel > Voltage-gated ion channel</td>\n",
       "    </tr>\n",
       "    <tr>\n",
       "      <th>2</th>\n",
       "      <td>CHEMBL1287617</td>\n",
       "      <td>UDP-glucuronosyltransferase 1-1</td>\n",
       "      <td>UGT1A1</td>\n",
       "      <td>UDP glucuronosyltransferase 1 family, polypeptide A1</td>\n",
       "      <td>Enzyme</td>\n",
       "    </tr>\n",
       "    <tr>\n",
       "      <th>3</th>\n",
       "      <td>CHEMBL1628481</td>\n",
       "      <td>Apelin receptor</td>\n",
       "      <td>APLNR</td>\n",
       "      <td>apelin receptor</td>\n",
       "      <td>Membrane receptor > Family A G protein-coupled receptor</td>\n",
       "    </tr>\n",
       "    <tr>\n",
       "      <th>4</th>\n",
       "      <td>CHEMBL1641347</td>\n",
       "      <td>Solute carrier family 22 member 6</td>\n",
       "      <td>SLC22A6</td>\n",
       "      <td>solute carrier family 22 (organic anion transporter), member 6</td>\n",
       "      <td>Transporter > Electrochemical transporter</td>\n",
       "    </tr>\n",
       "  </tbody>\n",
       "</table>"
      ],
      "text/plain": [
       "<IPython.core.display.HTML object>"
      ]
     },
     "execution_count": 4,
     "metadata": {},
     "output_type": "execute_result"
    }
   ],
   "source": [
    "HTML(target_class.head().to_html())"
   ]
  },
  {
   "cell_type": "markdown",
   "metadata": {},
   "source": [
    "### Targets with Multiple classes"
   ]
  },
  {
   "cell_type": "code",
   "execution_count": 5,
   "metadata": {
    "collapsed": false,
    "scrolled": false
   },
   "outputs": [
    {
     "data": {
      "text/html": [
       "<div style=\"max-height:1000px;max-width:1500px;overflow:auto;\">\n",
       "<table border=\"1\" class=\"dataframe\">\n",
       "  <thead>\n",
       "    <tr style=\"text-align: right;\">\n",
       "      <th></th>\n",
       "      <th>chembl_id</th>\n",
       "      <th>pref_name</th>\n",
       "      <th>target_classes</th>\n",
       "    </tr>\n",
       "  </thead>\n",
       "  <tbody>\n",
       "    <tr>\n",
       "      <th>0</th>\n",
       "      <td>CHEMBL1907601</td>\n",
       "      <td>Cyclin-dependent kinase 4/cyclin D1</td>\n",
       "      <td>[Enzyme > Kinase > Protein Kinase, Other cytosolic protein]</td>\n",
       "    </tr>\n",
       "    <tr>\n",
       "      <th>1</th>\n",
       "      <td>CHEMBL1907605</td>\n",
       "      <td>Cyclin-dependent kinase 2/cyclin E1</td>\n",
       "      <td>[Enzyme > Kinase > Protein Kinase, Other cytosolic protein]</td>\n",
       "    </tr>\n",
       "    <tr>\n",
       "      <th>2</th>\n",
       "      <td>CHEMBL2094126</td>\n",
       "      <td>Cyclin-dependent kinase 2/cyclin E</td>\n",
       "      <td>[Enzyme > Kinase > Protein Kinase, Other cytosolic protein]</td>\n",
       "    </tr>\n",
       "    <tr>\n",
       "      <th>3</th>\n",
       "      <td>CHEMBL2094128</td>\n",
       "      <td>Cyclin-dependent kinase 2/cyclin A</td>\n",
       "      <td>[Enzyme > Kinase > Protein Kinase, Other cytosolic protein]</td>\n",
       "    </tr>\n",
       "    <tr>\n",
       "      <th>4</th>\n",
       "      <td>CHEMBL2095198</td>\n",
       "      <td>Sulfonylurea receptor 2, Kir6.2</td>\n",
       "      <td>[Ion channel > Voltage-gated ion channel, Transporter > Primary active transporter]</td>\n",
       "    </tr>\n",
       "    <tr>\n",
       "      <th>5</th>\n",
       "      <td>CHEMBL2095942</td>\n",
       "      <td>Cyclin-dependent kinase 4/cyclin D</td>\n",
       "      <td>[Enzyme > Kinase > Protein Kinase, Other cytosolic protein]</td>\n",
       "    </tr>\n",
       "    <tr>\n",
       "      <th>6</th>\n",
       "      <td>CHEMBL2096972</td>\n",
       "      <td>Sulfonylurea receptor 1, Kir6.2</td>\n",
       "      <td>[Ion channel > Voltage-gated ion channel, Transporter > Primary active transporter]</td>\n",
       "    </tr>\n",
       "    <tr>\n",
       "      <th>7</th>\n",
       "      <td>CHEMBL2107838</td>\n",
       "      <td>Calcitonin-gene-related peptide receptor, CALCRL/RAMP1</td>\n",
       "      <td>[Membrane receptor > Family B G protein-coupled receptor, Other membrane protein]</td>\n",
       "    </tr>\n",
       "    <tr>\n",
       "      <th>8</th>\n",
       "      <td>CHEMBL2109232</td>\n",
       "      <td>Adrenomedullin receptor AM1; CALCRL/RAMP2</td>\n",
       "      <td>[Membrane receptor > Family B G protein-coupled receptor, Other membrane protein]</td>\n",
       "    </tr>\n",
       "    <tr>\n",
       "      <th>9</th>\n",
       "      <td>CHEMBL2111189</td>\n",
       "      <td>Amylin receptor AMY1, CALCR/RAMP1</td>\n",
       "      <td>[Membrane receptor > Family B G protein-coupled receptor, Other membrane protein]</td>\n",
       "    </tr>\n",
       "    <tr>\n",
       "      <th>10</th>\n",
       "      <td>CHEMBL2111190</td>\n",
       "      <td>Amylin receptor AMY3; CALCR/RAMP3</td>\n",
       "      <td>[Membrane receptor > Family B G protein-coupled receptor, Unclassified protein]</td>\n",
       "    </tr>\n",
       "    <tr>\n",
       "      <th>11</th>\n",
       "      <td>CHEMBL2111191</td>\n",
       "      <td>Adrenomedullin receptor, AM2; CALCRL/RAMP3</td>\n",
       "      <td>[Membrane receptor > Family B G protein-coupled receptor, Unclassified protein]</td>\n",
       "    </tr>\n",
       "    <tr>\n",
       "      <th>12</th>\n",
       "      <td>CHEMBL2111345</td>\n",
       "      <td>AMP-activated protein kinase (AMPK) alpha-1/beta-1/gamma-1</td>\n",
       "      <td>[Enzyme > Kinase > Protein Kinase, Enzyme > Kinase > Protein kinase regulatory subunit]</td>\n",
       "    </tr>\n",
       "    <tr>\n",
       "      <th>13</th>\n",
       "      <td>CHEMBL2221341</td>\n",
       "      <td>Mammalian target of Rapamycin (mTORC1)</td>\n",
       "      <td>[Enzyme, Enzyme > Isomerase]</td>\n",
       "    </tr>\n",
       "    <tr>\n",
       "      <th>14</th>\n",
       "      <td>CHEMBL2221347</td>\n",
       "      <td>Voltage-gated potassium channel, IKs; KCNQ1(Kv7.1)/KCNE1(MinK)</td>\n",
       "      <td>[Auxiliary transport protein > Slow voltage-gated potassium channel accessory protein family, Ion channel > Voltage-gated ion channel]</td>\n",
       "    </tr>\n",
       "    <tr>\n",
       "      <th>15</th>\n",
       "      <td>CHEMBL2364173</td>\n",
       "      <td>Amylin receptor AMY2; CALCR/RAMP2</td>\n",
       "      <td>[Membrane receptor > Family B G protein-coupled receptor, Other membrane protein]</td>\n",
       "    </tr>\n",
       "    <tr>\n",
       "      <th>16</th>\n",
       "      <td>CHEMBL3038451</td>\n",
       "      <td>AMPK alpha1/beta1/gamma2</td>\n",
       "      <td>[Enzyme > Kinase > Protein Kinase, Enzyme > Kinase > Protein kinase regulatory subunit]</td>\n",
       "    </tr>\n",
       "    <tr>\n",
       "      <th>17</th>\n",
       "      <td>CHEMBL3038452</td>\n",
       "      <td>AMPK alpha1/beta1/gamma3</td>\n",
       "      <td>[Enzyme > Kinase, Enzyme > Kinase > Protein Kinase, Enzyme > Kinase > Protein kinase regulatory subunit]</td>\n",
       "    </tr>\n",
       "    <tr>\n",
       "      <th>18</th>\n",
       "      <td>CHEMBL3038453</td>\n",
       "      <td>AMPK alpha1/beta2/gamma1</td>\n",
       "      <td>[Enzyme > Kinase > Protein Kinase, Enzyme > Kinase > Protein kinase regulatory subunit]</td>\n",
       "    </tr>\n",
       "    <tr>\n",
       "      <th>19</th>\n",
       "      <td>CHEMBL3038455</td>\n",
       "      <td>AMPK alpha2/beta1/gamma1</td>\n",
       "      <td>[Enzyme > Kinase > Protein Kinase, Enzyme > Kinase > Protein kinase regulatory subunit]</td>\n",
       "    </tr>\n",
       "    <tr>\n",
       "      <th>20</th>\n",
       "      <td>CHEMBL3038456</td>\n",
       "      <td>AMPK alpha2/beta2/gamma1</td>\n",
       "      <td>[Enzyme > Kinase > Protein Kinase, Enzyme > Kinase > Protein kinase regulatory subunit]</td>\n",
       "    </tr>\n",
       "    <tr>\n",
       "      <th>21</th>\n",
       "      <td>CHEMBL3038457</td>\n",
       "      <td>AMPK alpha2/beta2/gamma3</td>\n",
       "      <td>[Enzyme > Kinase, Enzyme > Kinase > Protein Kinase, Enzyme > Kinase > Protein kinase regulatory subunit]</td>\n",
       "    </tr>\n",
       "    <tr>\n",
       "      <th>22</th>\n",
       "      <td>CHEMBL3038463</td>\n",
       "      <td>AKT/p21CIP1</td>\n",
       "      <td>[Enzyme > Kinase > Protein Kinase, Other cytosolic protein]</td>\n",
       "    </tr>\n",
       "    <tr>\n",
       "      <th>23</th>\n",
       "      <td>CHEMBL3038469</td>\n",
       "      <td>CDK2/Cyclin A</td>\n",
       "      <td>[Enzyme > Kinase > Protein Kinase, Other cytosolic protein]</td>\n",
       "    </tr>\n",
       "    <tr>\n",
       "      <th>24</th>\n",
       "      <td>CHEMBL3038470</td>\n",
       "      <td>CDK2/Cyclin A1</td>\n",
       "      <td>[Enzyme > Kinase > Protein Kinase, Other cytosolic protein]</td>\n",
       "    </tr>\n",
       "    <tr>\n",
       "      <th>25</th>\n",
       "      <td>CHEMBL3038472</td>\n",
       "      <td>CDK4/Cyclin D3</td>\n",
       "      <td>[Enzyme > Kinase > Protein Kinase, Other cytosolic protein]</td>\n",
       "    </tr>\n",
       "    <tr>\n",
       "      <th>26</th>\n",
       "      <td>CHEMBL3301385</td>\n",
       "      <td>Cyclin-dependent kinase 4/cyclin D2</td>\n",
       "      <td>[Enzyme > Kinase > Protein Kinase, Other cytosolic protein]</td>\n",
       "    </tr>\n",
       "  </tbody>\n",
       "</table>\n",
       "</div>"
      ],
      "text/plain": [
       "        chembl_id                                                       pref_name                                                                                                                          target_classes\n",
       "0   CHEMBL1907601                             Cyclin-dependent kinase 4/cyclin D1                                                                             [Enzyme > Kinase > Protein Kinase, Other cytosolic protein]\n",
       "1   CHEMBL1907605                             Cyclin-dependent kinase 2/cyclin E1                                                                             [Enzyme > Kinase > Protein Kinase, Other cytosolic protein]\n",
       "2   CHEMBL2094126                              Cyclin-dependent kinase 2/cyclin E                                                                             [Enzyme > Kinase > Protein Kinase, Other cytosolic protein]\n",
       "3   CHEMBL2094128                              Cyclin-dependent kinase 2/cyclin A                                                                             [Enzyme > Kinase > Protein Kinase, Other cytosolic protein]\n",
       "4   CHEMBL2095198                                 Sulfonylurea receptor 2, Kir6.2                                                     [Ion channel > Voltage-gated ion channel, Transporter > Primary active transporter]\n",
       "5   CHEMBL2095942                              Cyclin-dependent kinase 4/cyclin D                                                                             [Enzyme > Kinase > Protein Kinase, Other cytosolic protein]\n",
       "6   CHEMBL2096972                                 Sulfonylurea receptor 1, Kir6.2                                                     [Ion channel > Voltage-gated ion channel, Transporter > Primary active transporter]\n",
       "7   CHEMBL2107838          Calcitonin-gene-related peptide receptor, CALCRL/RAMP1                                                       [Membrane receptor > Family B G protein-coupled receptor, Other membrane protein]\n",
       "8   CHEMBL2109232                       Adrenomedullin receptor AM1; CALCRL/RAMP2                                                       [Membrane receptor > Family B G protein-coupled receptor, Other membrane protein]\n",
       "9   CHEMBL2111189                               Amylin receptor AMY1, CALCR/RAMP1                                                       [Membrane receptor > Family B G protein-coupled receptor, Other membrane protein]\n",
       "10  CHEMBL2111190                               Amylin receptor AMY3; CALCR/RAMP3                                                         [Membrane receptor > Family B G protein-coupled receptor, Unclassified protein]\n",
       "11  CHEMBL2111191                      Adrenomedullin receptor, AM2; CALCRL/RAMP3                                                         [Membrane receptor > Family B G protein-coupled receptor, Unclassified protein]\n",
       "12  CHEMBL2111345      AMP-activated protein kinase (AMPK) alpha-1/beta-1/gamma-1                                                 [Enzyme > Kinase > Protein Kinase, Enzyme > Kinase > Protein kinase regulatory subunit]\n",
       "13  CHEMBL2221341                          Mammalian target of Rapamycin (mTORC1)                                                                                                            [Enzyme, Enzyme > Isomerase]\n",
       "14  CHEMBL2221347  Voltage-gated potassium channel, IKs; KCNQ1(Kv7.1)/KCNE1(MinK)  [Auxiliary transport protein > Slow voltage-gated potassium channel accessory protein family, Ion channel > Voltage-gated ion channel]\n",
       "15  CHEMBL2364173                               Amylin receptor AMY2; CALCR/RAMP2                                                       [Membrane receptor > Family B G protein-coupled receptor, Other membrane protein]\n",
       "16  CHEMBL3038451                                        AMPK alpha1/beta1/gamma2                                                 [Enzyme > Kinase > Protein Kinase, Enzyme > Kinase > Protein kinase regulatory subunit]\n",
       "17  CHEMBL3038452                                        AMPK alpha1/beta1/gamma3                                [Enzyme > Kinase, Enzyme > Kinase > Protein Kinase, Enzyme > Kinase > Protein kinase regulatory subunit]\n",
       "18  CHEMBL3038453                                        AMPK alpha1/beta2/gamma1                                                 [Enzyme > Kinase > Protein Kinase, Enzyme > Kinase > Protein kinase regulatory subunit]\n",
       "19  CHEMBL3038455                                        AMPK alpha2/beta1/gamma1                                                 [Enzyme > Kinase > Protein Kinase, Enzyme > Kinase > Protein kinase regulatory subunit]\n",
       "20  CHEMBL3038456                                        AMPK alpha2/beta2/gamma1                                                 [Enzyme > Kinase > Protein Kinase, Enzyme > Kinase > Protein kinase regulatory subunit]\n",
       "21  CHEMBL3038457                                        AMPK alpha2/beta2/gamma3                                [Enzyme > Kinase, Enzyme > Kinase > Protein Kinase, Enzyme > Kinase > Protein kinase regulatory subunit]\n",
       "22  CHEMBL3038463                                                     AKT/p21CIP1                                                                             [Enzyme > Kinase > Protein Kinase, Other cytosolic protein]\n",
       "23  CHEMBL3038469                                                   CDK2/Cyclin A                                                                             [Enzyme > Kinase > Protein Kinase, Other cytosolic protein]\n",
       "24  CHEMBL3038470                                                  CDK2/Cyclin A1                                                                             [Enzyme > Kinase > Protein Kinase, Other cytosolic protein]\n",
       "25  CHEMBL3038472                                                  CDK4/Cyclin D3                                                                             [Enzyme > Kinase > Protein Kinase, Other cytosolic protein]\n",
       "26  CHEMBL3301385                             Cyclin-dependent kinase 4/cyclin D2                                                                             [Enzyme > Kinase > Protein Kinase, Other cytosolic protein]"
      ]
     },
     "execution_count": 5,
     "metadata": {},
     "output_type": "execute_result"
    }
   ],
   "source": [
    "# Inspect cases where there are multiple classes for a target...\n",
    "\n",
    "def f(x):\n",
    "    \n",
    "    return pd.Series({'target_classes': x['target_class'].tolist() if x.shape[0] > 1 else None})\n",
    "\n",
    "df = target_class.groupby(['chembl_id', 'pref_name']).apply(f).dropna(how='all').reset_index()\n",
    "\n",
    "df"
   ]
  },
  {
   "cell_type": "markdown",
   "metadata": {},
   "source": [
    "### Filter out less-useful classifications\n",
    "\n",
    "These tend to be for ancilliary proteins, regulator subunits _etc._ and therefor noty always very informative."
   ]
  },
  {
   "cell_type": "code",
   "execution_count": 6,
   "metadata": {
    "collapsed": false
   },
   "outputs": [],
   "source": [
    "reject = {\n",
    "      'Other cytosolic protein'\n",
    "    , 'Other membrane protein'\n",
    "    , 'Unclassified protein'\n",
    "    , 'Enzyme > Kinase'\n",
    "    , 'Enzyme > Kinase > Protein kinase regulatory subunit'\n",
    "}\n",
    "\n",
    "chembl_ids = df.chembl_id.tolist()\n",
    "\n",
    "target_class = target_class.query(\"~((target_class in @reject) and (chembl_id in @chembl_ids))\")"
   ]
  },
  {
   "cell_type": "code",
   "execution_count": 7,
   "metadata": {
    "collapsed": false
   },
   "outputs": [
    {
     "data": {
      "text/html": [
       "<div style=\"max-height:1000px;max-width:1500px;overflow:auto;\">\n",
       "<table border=\"1\" class=\"dataframe\">\n",
       "  <thead>\n",
       "    <tr style=\"text-align: right;\">\n",
       "      <th></th>\n",
       "      <th>chembl_id</th>\n",
       "      <th>pref_name</th>\n",
       "      <th>target_classes</th>\n",
       "    </tr>\n",
       "  </thead>\n",
       "  <tbody>\n",
       "    <tr>\n",
       "      <th>0</th>\n",
       "      <td>CHEMBL2095198</td>\n",
       "      <td>Sulfonylurea receptor 2, Kir6.2</td>\n",
       "      <td>[Ion channel > Voltage-gated ion channel, Transporter > Primary active transporter]</td>\n",
       "    </tr>\n",
       "    <tr>\n",
       "      <th>1</th>\n",
       "      <td>CHEMBL2096972</td>\n",
       "      <td>Sulfonylurea receptor 1, Kir6.2</td>\n",
       "      <td>[Ion channel > Voltage-gated ion channel, Transporter > Primary active transporter]</td>\n",
       "    </tr>\n",
       "    <tr>\n",
       "      <th>2</th>\n",
       "      <td>CHEMBL2221341</td>\n",
       "      <td>Mammalian target of Rapamycin (mTORC1)</td>\n",
       "      <td>[Enzyme, Enzyme > Isomerase]</td>\n",
       "    </tr>\n",
       "    <tr>\n",
       "      <th>3</th>\n",
       "      <td>CHEMBL2221347</td>\n",
       "      <td>Voltage-gated potassium channel, IKs; KCNQ1(Kv7.1)/KCNE1(MinK)</td>\n",
       "      <td>[Auxiliary transport protein > Slow voltage-gated potassium channel accessory protein family, Ion channel > Voltage-gated ion channel]</td>\n",
       "    </tr>\n",
       "  </tbody>\n",
       "</table>\n",
       "</div>"
      ],
      "text/plain": [
       "       chembl_id                                                       pref_name                                                                                                                          target_classes\n",
       "0  CHEMBL2095198                                 Sulfonylurea receptor 2, Kir6.2                                                     [Ion channel > Voltage-gated ion channel, Transporter > Primary active transporter]\n",
       "1  CHEMBL2096972                                 Sulfonylurea receptor 1, Kir6.2                                                     [Ion channel > Voltage-gated ion channel, Transporter > Primary active transporter]\n",
       "2  CHEMBL2221341                          Mammalian target of Rapamycin (mTORC1)                                                                                                            [Enzyme, Enzyme > Isomerase]\n",
       "3  CHEMBL2221347  Voltage-gated potassium channel, IKs; KCNQ1(Kv7.1)/KCNE1(MinK)  [Auxiliary transport protein > Slow voltage-gated potassium channel accessory protein family, Ion channel > Voltage-gated ion channel]"
      ]
     },
     "execution_count": 7,
     "metadata": {},
     "output_type": "execute_result"
    }
   ],
   "source": [
    "# Inspect remaining cases where there are multiple classes for a target...\n",
    "\n",
    "target_class.groupby(['chembl_id', 'pref_name']).apply(f).dropna(how='all').reset_index()"
   ]
  },
  {
   "cell_type": "code",
   "execution_count": 8,
   "metadata": {
    "collapsed": false
   },
   "outputs": [],
   "source": [
    "# Deal with these cases individually...\n",
    "\n",
    "target_class = target_class[~(target_class['pref_name'].str.contains('^Sulfonylurea receptor') & (target_class['target_class'] == 'Transporter > Primary active transporter'))] # Leaves 'Ion channel > Voltage-gated ion channel'\n",
    " \n",
    "target_class = target_class[~(target_class['pref_name'].str.contains('mTORC1') & (target_class['target_class'] == 'Enzyme > Isomerase'))] # Leaves 'Enzyme'\n",
    "\n",
    "target_class = target_class[~(target_class['pref_name'].str.contains('MinK') & (target_class['target_class'] == 'Auxiliary transport protein > Slow voltage-gated potassium channel accessory protein family'))] # Leaves 'Ion channel > Voltage-gated ion channel'"
   ]
  },
  {
   "cell_type": "code",
   "execution_count": 9,
   "metadata": {
    "collapsed": false
   },
   "outputs": [
    {
     "data": {
      "text/plain": [
       "0"
      ]
     },
     "execution_count": 9,
     "metadata": {},
     "output_type": "execute_result"
    }
   ],
   "source": [
    "# Check whether there are any remaining cases where there are multiple classes for a target...\n",
    "\n",
    "target_class.groupby(['chembl_id', 'pref_name']).apply(f).dropna(how='all').shape[0]"
   ]
  },
  {
   "cell_type": "code",
   "execution_count": 5,
   "metadata": {
    "collapsed": false
   },
   "outputs": [
    {
     "data": {
      "text/html": [
       "<div style=\"max-height:1000px;max-width:1500px;overflow:auto;\">\n",
       "<table border=\"1\" class=\"dataframe\">\n",
       "  <thead>\n",
       "    <tr style=\"text-align: right;\">\n",
       "      <th></th>\n",
       "      <th>chembl_id</th>\n",
       "      <th>pref_name</th>\n",
       "      <th>symbol</th>\n",
       "      <th>approved_name</th>\n",
       "      <th>target_class</th>\n",
       "    </tr>\n",
       "  </thead>\n",
       "  <tbody>\n",
       "    <tr>\n",
       "      <th>117</th>\n",
       "      <td>CHEMBL2221347</td>\n",
       "      <td>Voltage-gated potassium channel, IKs; KCNQ1(Kv7.1)/KCNE1(MinK)</td>\n",
       "      <td>KCNQ1</td>\n",
       "      <td>potassium channel, voltage gated KQT-like subfamily Q, member 1</td>\n",
       "      <td>Auxiliary transport protein > Slow voltage-gated potassium channel accessory protein family</td>\n",
       "    </tr>\n",
       "    <tr>\n",
       "      <th>118</th>\n",
       "      <td>CHEMBL2221347</td>\n",
       "      <td>Voltage-gated potassium channel, IKs; KCNQ1(Kv7.1)/KCNE1(MinK)</td>\n",
       "      <td>KCNQ1</td>\n",
       "      <td>potassium channel, voltage gated KQT-like subfamily Q, member 1</td>\n",
       "      <td>Ion channel > Voltage-gated ion channel</td>\n",
       "    </tr>\n",
       "  </tbody>\n",
       "</table>\n",
       "</div>"
      ],
      "text/plain": [
       "         chembl_id                                                       pref_name symbol                                                    approved_name                                                                                 target_class\n",
       "117  CHEMBL2221347  Voltage-gated potassium channel, IKs; KCNQ1(Kv7.1)/KCNE1(MinK)  KCNQ1  potassium channel, voltage gated KQT-like subfamily Q, member 1  Auxiliary transport protein > Slow voltage-gated potassium channel accessory protein family\n",
       "118  CHEMBL2221347  Voltage-gated potassium channel, IKs; KCNQ1(Kv7.1)/KCNE1(MinK)  KCNQ1  potassium channel, voltage gated KQT-like subfamily Q, member 1                                                      Ion channel > Voltage-gated ion channel"
      ]
     },
     "execution_count": 5,
     "metadata": {},
     "output_type": "execute_result"
    }
   ],
   "source": [
    "chembl_ids = ('CHEMBL2221347', 'CHEMBL3038488', 'CHEMBL3038489')\n",
    "\n",
    "target_class.query(\"chembl_id in @chembl_ids\")"
   ]
  },
  {
   "cell_type": "markdown",
   "metadata": {},
   "source": [
    "### Misc fixes"
   ]
  },
  {
   "cell_type": "markdown",
   "metadata": {},
   "source": [
    "* [HNF4A](http://en.wikipedia.org/wiki/Hepatocyte_nuclear_factor_4_alpha): nuclear receptor subfamily 2, group A, member 1\n",
    "\n",
    "\n",
    "* [NFE2L2](http://en.wikipedia.org/wiki/NFE2L2): a transcription factor, but further classification not clear"
   ]
  },
  {
   "cell_type": "code",
   "execution_count": 10,
   "metadata": {
    "collapsed": false
   },
   "outputs": [
    {
     "data": {
      "text/html": [
       "<div style=\"max-height:1000px;max-width:1500px;overflow:auto;\">\n",
       "<table border=\"1\" class=\"dataframe\">\n",
       "  <thead>\n",
       "    <tr style=\"text-align: right;\">\n",
       "      <th></th>\n",
       "      <th>chembl_id</th>\n",
       "      <th>pref_name</th>\n",
       "      <th>symbol</th>\n",
       "      <th>approved_name</th>\n",
       "      <th>target_class</th>\n",
       "    </tr>\n",
       "  </thead>\n",
       "  <tbody>\n",
       "    <tr>\n",
       "      <th>0</th>\n",
       "      <td>CHEMBL1075094</td>\n",
       "      <td>Nuclear factor erythroid 2-related factor 2</td>\n",
       "      <td>NFE2L2</td>\n",
       "      <td>nuclear factor, erythroid 2-like 2</td>\n",
       "      <td>Unclassified protein</td>\n",
       "    </tr>\n",
       "    <tr>\n",
       "      <th>244</th>\n",
       "      <td>CHEMBL5398</td>\n",
       "      <td>Hepatocyte nuclear factor 4-alpha</td>\n",
       "      <td>HNF4A</td>\n",
       "      <td>hepatocyte nuclear factor 4, alpha</td>\n",
       "      <td>Unclassified protein</td>\n",
       "    </tr>\n",
       "  </tbody>\n",
       "</table>\n",
       "</div>"
      ],
      "text/plain": [
       "         chembl_id                                    pref_name  symbol                       approved_name          target_class\n",
       "0    CHEMBL1075094  Nuclear factor erythroid 2-related factor 2  NFE2L2  nuclear factor, erythroid 2-like 2  Unclassified protein\n",
       "244     CHEMBL5398            Hepatocyte nuclear factor 4-alpha   HNF4A  hepatocyte nuclear factor 4, alpha  Unclassified protein"
      ]
     },
     "execution_count": 10,
     "metadata": {},
     "output_type": "execute_result"
    }
   ],
   "source": [
    "target_class.query(\"symbol in ['HNF4A', 'NFE2L2']\")"
   ]
  },
  {
   "cell_type": "code",
   "execution_count": 11,
   "metadata": {
    "collapsed": false
   },
   "outputs": [],
   "source": [
    "target_class.loc[target_class['symbol'] == 'HNF4A', 'target_class'] = 'Transcription factor > Nuclear receptor'\n",
    "\n",
    "target_class.loc[target_class['symbol'] == 'NFE2L2', 'target_class'] = 'Transcription factor'"
   ]
  },
  {
   "cell_type": "markdown",
   "metadata": {},
   "source": [
    "### Kinases not classified as such\n",
    "\n",
    "* The kinase component of mTOR ([FRAP1](http://en.wikipedia.org/wiki/Phosphatidylinositol_3-kinase-related_kinase)) is an atypical protein kinase related to the PI3 kinases.\n",
    "\n",
    "\n",
    "* The PIK3C* family are PI3 Kinases"
   ]
  },
  {
   "cell_type": "code",
   "execution_count": 12,
   "metadata": {
    "collapsed": false
   },
   "outputs": [
    {
     "data": {
      "text/html": [
       "<div style=\"max-height:1000px;max-width:1500px;overflow:auto;\">\n",
       "<table border=\"1\" class=\"dataframe\">\n",
       "  <thead>\n",
       "    <tr style=\"text-align: right;\">\n",
       "      <th></th>\n",
       "      <th>chembl_id</th>\n",
       "      <th>pref_name</th>\n",
       "      <th>symbol</th>\n",
       "      <th>approved_name</th>\n",
       "      <th>target_class</th>\n",
       "    </tr>\n",
       "  </thead>\n",
       "  <tbody>\n",
       "    <tr>\n",
       "      <th>101</th>\n",
       "      <td>CHEMBL2111367</td>\n",
       "      <td>PI3-kinase p110-alpha/p85-alpha</td>\n",
       "      <td>PIK3CA</td>\n",
       "      <td>phosphatidylinositol-4,5-bisphosphate 3-kinase, catalytic subunit alpha</td>\n",
       "      <td>Enzyme</td>\n",
       "    </tr>\n",
       "    <tr>\n",
       "      <th>115</th>\n",
       "      <td>CHEMBL2221341</td>\n",
       "      <td>Mammalian target of Rapamycin (mTORC1)</td>\n",
       "      <td>MTOR</td>\n",
       "      <td>mechanistic target of rapamycin (serine/threonine kinase)</td>\n",
       "      <td>Enzyme</td>\n",
       "    </tr>\n",
       "    <tr>\n",
       "      <th>156</th>\n",
       "      <td>CHEMBL2842</td>\n",
       "      <td>FK506 binding protein 12</td>\n",
       "      <td>MTOR</td>\n",
       "      <td>mechanistic target of rapamycin (serine/threonine kinase)</td>\n",
       "      <td>Enzyme</td>\n",
       "    </tr>\n",
       "    <tr>\n",
       "      <th>197</th>\n",
       "      <td>CHEMBL3267</td>\n",
       "      <td>PI3-kinase p110-gamma subunit</td>\n",
       "      <td>PIK3CG</td>\n",
       "      <td>phosphatidylinositol-4,5-bisphosphate 3-kinase, catalytic subunit gamma</td>\n",
       "      <td>Enzyme</td>\n",
       "    </tr>\n",
       "    <tr>\n",
       "      <th>214</th>\n",
       "      <td>CHEMBL4005</td>\n",
       "      <td>PI3-kinase p110-alpha subunit</td>\n",
       "      <td>PIK3CA</td>\n",
       "      <td>phosphatidylinositol-4,5-bisphosphate 3-kinase, catalytic subunit alpha</td>\n",
       "      <td>Enzyme</td>\n",
       "    </tr>\n",
       "  </tbody>\n",
       "</table>\n",
       "</div>"
      ],
      "text/plain": [
       "         chembl_id                               pref_name  symbol                                                            approved_name target_class\n",
       "101  CHEMBL2111367         PI3-kinase p110-alpha/p85-alpha  PIK3CA  phosphatidylinositol-4,5-bisphosphate 3-kinase, catalytic subunit alpha       Enzyme\n",
       "115  CHEMBL2221341  Mammalian target of Rapamycin (mTORC1)    MTOR                mechanistic target of rapamycin (serine/threonine kinase)       Enzyme\n",
       "156     CHEMBL2842                FK506 binding protein 12    MTOR                mechanistic target of rapamycin (serine/threonine kinase)       Enzyme\n",
       "197     CHEMBL3267           PI3-kinase p110-gamma subunit  PIK3CG  phosphatidylinositol-4,5-bisphosphate 3-kinase, catalytic subunit gamma       Enzyme\n",
       "214     CHEMBL4005           PI3-kinase p110-alpha subunit  PIK3CA  phosphatidylinositol-4,5-bisphosphate 3-kinase, catalytic subunit alpha       Enzyme"
      ]
     },
     "execution_count": 12,
     "metadata": {},
     "output_type": "execute_result"
    }
   ],
   "source": [
    "target_class[((target_class.symbol == 'MTOR') | target_class.symbol.str.contains('^PIK3C'))]"
   ]
  },
  {
   "cell_type": "code",
   "execution_count": 13,
   "metadata": {
    "collapsed": false
   },
   "outputs": [],
   "source": [
    "target_class.loc[((target_class.symbol == 'MTOR') | target_class.symbol.str.contains('^PIK3C')), 'target_class'] = 'Enzyme > Kinase > PI3 Kinase'"
   ]
  },
  {
   "cell_type": "markdown",
   "metadata": {},
   "source": [
    "### Phase II ADME genes\n",
    "\n",
    "CYPs and transporters are currently classified."
   ]
  },
  {
   "cell_type": "code",
   "execution_count": 14,
   "metadata": {
    "collapsed": false
   },
   "outputs": [
    {
     "data": {
      "text/html": [
       "<div style=\"max-height:1000px;max-width:1500px;overflow:auto;\">\n",
       "<table border=\"1\" class=\"dataframe\">\n",
       "  <thead>\n",
       "    <tr style=\"text-align: right;\">\n",
       "      <th></th>\n",
       "      <th>chembl_id</th>\n",
       "      <th>pref_name</th>\n",
       "      <th>symbol</th>\n",
       "      <th>approved_name</th>\n",
       "      <th>target_class</th>\n",
       "    </tr>\n",
       "  </thead>\n",
       "  <tbody>\n",
       "    <tr>\n",
       "      <th>2</th>\n",
       "      <td>CHEMBL1287617</td>\n",
       "      <td>UDP-glucuronosyltransferase 1-1</td>\n",
       "      <td>UGT1A1</td>\n",
       "      <td>UDP glucuronosyltransferase 1 family, polypeptide A1</td>\n",
       "      <td>Enzyme</td>\n",
       "    </tr>\n",
       "    <tr>\n",
       "      <th>15</th>\n",
       "      <td>CHEMBL1743291</td>\n",
       "      <td>Sulfotransferase 1A1</td>\n",
       "      <td>SULT1A1</td>\n",
       "      <td>sulfotransferase family, cytosolic, 1A, phenol-preferring, member 1</td>\n",
       "      <td>Enzyme</td>\n",
       "    </tr>\n",
       "    <tr>\n",
       "      <th>76</th>\n",
       "      <td>CHEMBL2081</td>\n",
       "      <td>Glutathione S-transferase Mu 1</td>\n",
       "      <td>GSTM1</td>\n",
       "      <td>glutathione S-transferase mu 1</td>\n",
       "      <td>Enzyme</td>\n",
       "    </tr>\n",
       "    <tr>\n",
       "      <th>105</th>\n",
       "      <td>CHEMBL2141</td>\n",
       "      <td>Glutathione S-transferase theta 1</td>\n",
       "      <td>GSTT1</td>\n",
       "      <td>glutathione S-transferase theta 1</td>\n",
       "      <td>Enzyme</td>\n",
       "    </tr>\n",
       "    <tr>\n",
       "      <th>111</th>\n",
       "      <td>CHEMBL2194</td>\n",
       "      <td>Arylamine N-acetyltransferase 2</td>\n",
       "      <td>NAT2</td>\n",
       "      <td>N-acetyltransferase 2 (arylamine N-acetyltransferase)</td>\n",
       "      <td>Enzyme</td>\n",
       "    </tr>\n",
       "    <tr>\n",
       "      <th>144</th>\n",
       "      <td>CHEMBL2500</td>\n",
       "      <td>Thiopurine S-methyltransferase</td>\n",
       "      <td>TPMT</td>\n",
       "      <td>thiopurine S-methyltransferase</td>\n",
       "      <td>Enzyme</td>\n",
       "    </tr>\n",
       "    <tr>\n",
       "      <th>193</th>\n",
       "      <td>CHEMBL3172</td>\n",
       "      <td>Dihydropyrimidine dehydrogenase</td>\n",
       "      <td>DPYD</td>\n",
       "      <td>dihydropyrimidine dehydrogenase</td>\n",
       "      <td>Enzyme</td>\n",
       "    </tr>\n",
       "    <tr>\n",
       "      <th>212</th>\n",
       "      <td>CHEMBL3902</td>\n",
       "      <td>Glutathione S-transferase Pi</td>\n",
       "      <td>GSTP1</td>\n",
       "      <td>glutathione S-transferase pi 1</td>\n",
       "      <td>Enzyme</td>\n",
       "    </tr>\n",
       "    <tr>\n",
       "      <th>226</th>\n",
       "      <td>CHEMBL4370</td>\n",
       "      <td>UDP-glucuronosyltransferase 2B7</td>\n",
       "      <td>UGT2B7</td>\n",
       "      <td>UDP glucuronosyltransferase 2 family, polypeptide B7</td>\n",
       "      <td>Enzyme</td>\n",
       "    </tr>\n",
       "    <tr>\n",
       "      <th>235</th>\n",
       "      <td>CHEMBL4978</td>\n",
       "      <td>UDP-glucuronosyltransferase 2B17</td>\n",
       "      <td>UGT2B17</td>\n",
       "      <td>UDP glucuronosyltransferase 2 family, polypeptide B17</td>\n",
       "      <td>Enzyme</td>\n",
       "    </tr>\n",
       "    <tr>\n",
       "      <th>236</th>\n",
       "      <td>CHEMBL5101</td>\n",
       "      <td>Arylamine N-acetyltransferase 1</td>\n",
       "      <td>NAT1</td>\n",
       "      <td>N-acetyltransferase 1 (arylamine N-acetyltransferase)</td>\n",
       "      <td>Enzyme</td>\n",
       "    </tr>\n",
       "    <tr>\n",
       "      <th>257</th>\n",
       "      <td>CHEMBL6161</td>\n",
       "      <td>UDP-glucuronosyltransferase 2B15</td>\n",
       "      <td>UGT2B15</td>\n",
       "      <td>UDP glucuronosyltransferase 2 family, polypeptide B15</td>\n",
       "      <td>Enzyme</td>\n",
       "    </tr>\n",
       "  </tbody>\n",
       "</table>\n",
       "</div>"
      ],
      "text/plain": [
       "         chembl_id                          pref_name   symbol                                                        approved_name target_class\n",
       "2    CHEMBL1287617    UDP-glucuronosyltransferase 1-1   UGT1A1                 UDP glucuronosyltransferase 1 family, polypeptide A1       Enzyme\n",
       "15   CHEMBL1743291               Sulfotransferase 1A1  SULT1A1  sulfotransferase family, cytosolic, 1A, phenol-preferring, member 1       Enzyme\n",
       "76      CHEMBL2081     Glutathione S-transferase Mu 1    GSTM1                                       glutathione S-transferase mu 1       Enzyme\n",
       "105     CHEMBL2141  Glutathione S-transferase theta 1    GSTT1                                    glutathione S-transferase theta 1       Enzyme\n",
       "111     CHEMBL2194    Arylamine N-acetyltransferase 2     NAT2                N-acetyltransferase 2 (arylamine N-acetyltransferase)       Enzyme\n",
       "144     CHEMBL2500     Thiopurine S-methyltransferase     TPMT                                       thiopurine S-methyltransferase       Enzyme\n",
       "193     CHEMBL3172    Dihydropyrimidine dehydrogenase     DPYD                                      dihydropyrimidine dehydrogenase       Enzyme\n",
       "212     CHEMBL3902       Glutathione S-transferase Pi    GSTP1                                       glutathione S-transferase pi 1       Enzyme\n",
       "226     CHEMBL4370    UDP-glucuronosyltransferase 2B7   UGT2B7                 UDP glucuronosyltransferase 2 family, polypeptide B7       Enzyme\n",
       "235     CHEMBL4978   UDP-glucuronosyltransferase 2B17  UGT2B17                UDP glucuronosyltransferase 2 family, polypeptide B17       Enzyme\n",
       "236     CHEMBL5101   Arylamine N-acetyltransferase 1      NAT1                N-acetyltransferase 1 (arylamine N-acetyltransferase)       Enzyme\n",
       "257     CHEMBL6161   UDP-glucuronosyltransferase 2B15  UGT2B15                UDP glucuronosyltransferase 2 family, polypeptide B15       Enzyme"
      ]
     },
     "execution_count": 14,
     "metadata": {},
     "output_type": "execute_result"
    }
   ],
   "source": [
    "adme_genes = pd.read_excel('Toxicology-associated_targets.xlsx', sheetname='Table 11')['Gene']\n",
    "\n",
    "target_class[target_class['symbol'].isin(adme_genes) & (target_class['target_class'] == 'Enzyme')]"
   ]
  },
  {
   "cell_type": "code",
   "execution_count": 15,
   "metadata": {
    "collapsed": false
   },
   "outputs": [],
   "source": [
    "target_class.loc[target_class['symbol'].isin(adme_genes) & (target_class['target_class'] == 'Enzyme'), 'target_class'] = 'Enzyme > Phase II'"
   ]
  },
  {
   "cell_type": "markdown",
   "metadata": {},
   "source": [
    "### Enzymes that are not ADME-related\n",
    "\n",
    "_NB_ No fixes currently applied here."
   ]
  },
  {
   "cell_type": "code",
   "execution_count": 16,
   "metadata": {
    "collapsed": false
   },
   "outputs": [
    {
     "data": {
      "text/html": [
       "<div style=\"max-height:1000px;max-width:1500px;overflow:auto;\">\n",
       "<table border=\"1\" class=\"dataframe\">\n",
       "  <thead>\n",
       "    <tr style=\"text-align: right;\">\n",
       "      <th></th>\n",
       "      <th>chembl_id</th>\n",
       "      <th>pref_name</th>\n",
       "      <th>symbol</th>\n",
       "      <th>approved_name</th>\n",
       "      <th>target_class</th>\n",
       "    </tr>\n",
       "  </thead>\n",
       "  <tbody>\n",
       "    <tr>\n",
       "      <th>194</th>\n",
       "      <td>CHEMBL3189</td>\n",
       "      <td>Adenylate cyclase type V</td>\n",
       "      <td>ADCY5</td>\n",
       "      <td>adenylate cyclase 5</td>\n",
       "      <td>Enzyme</td>\n",
       "    </tr>\n",
       "    <tr>\n",
       "      <th>232</th>\n",
       "      <td>CHEMBL4803</td>\n",
       "      <td>Nitric-oxide synthase, endothelial</td>\n",
       "      <td>NOS3</td>\n",
       "      <td>nitric oxide synthase 3 (endothelial cell)</td>\n",
       "      <td>Enzyme</td>\n",
       "    </tr>\n",
       "  </tbody>\n",
       "</table>\n",
       "</div>"
      ],
      "text/plain": [
       "      chembl_id                           pref_name symbol                               approved_name target_class\n",
       "194  CHEMBL3189            Adenylate cyclase type V  ADCY5                         adenylate cyclase 5       Enzyme\n",
       "232  CHEMBL4803  Nitric-oxide synthase, endothelial   NOS3  nitric oxide synthase 3 (endothelial cell)       Enzyme"
      ]
     },
     "execution_count": 16,
     "metadata": {},
     "output_type": "execute_result"
    }
   ],
   "source": [
    "target_class[(target_class['target_class'] == 'Enzyme') & ~target_class['symbol'].isin(adme_genes)]"
   ]
  },
  {
   "cell_type": "markdown",
   "metadata": {},
   "source": [
    "### Target class counts"
   ]
  },
  {
   "cell_type": "code",
   "execution_count": 17,
   "metadata": {
    "collapsed": false
   },
   "outputs": [
    {
     "data": {
      "text/html": [
       "<div style=\"max-height:1000px;max-width:1500px;overflow:auto;\">\n",
       "<table border=\"1\" class=\"dataframe\">\n",
       "  <thead>\n",
       "    <tr style=\"text-align: right;\">\n",
       "      <th></th>\n",
       "      <th>target_class</th>\n",
       "      <th>N</th>\n",
       "    </tr>\n",
       "  </thead>\n",
       "  <tbody>\n",
       "    <tr>\n",
       "      <th>0</th>\n",
       "      <td>Enzyme > Kinase > Protein Kinase</td>\n",
       "      <td>57</td>\n",
       "    </tr>\n",
       "    <tr>\n",
       "      <th>1</th>\n",
       "      <td>Membrane receptor > Family A G protein-coupled receptor</td>\n",
       "      <td>49</td>\n",
       "    </tr>\n",
       "    <tr>\n",
       "      <th>2</th>\n",
       "      <td>Ion channel > Voltage-gated ion channel</td>\n",
       "      <td>19</td>\n",
       "    </tr>\n",
       "    <tr>\n",
       "      <th>3</th>\n",
       "      <td>Transporter > Electrochemical transporter</td>\n",
       "      <td>18</td>\n",
       "    </tr>\n",
       "    <tr>\n",
       "      <th>4</th>\n",
       "      <td>Transcription factor > Nuclear receptor</td>\n",
       "      <td>16</td>\n",
       "    </tr>\n",
       "    <tr>\n",
       "      <th>5</th>\n",
       "      <td>Enzyme > Phase II</td>\n",
       "      <td>12</td>\n",
       "    </tr>\n",
       "    <tr>\n",
       "      <th>6</th>\n",
       "      <td>Enzyme > Cytochrome P450</td>\n",
       "      <td>11</td>\n",
       "    </tr>\n",
       "    <tr>\n",
       "      <th>7</th>\n",
       "      <td>Ion channel > Ligand-gated ion channel</td>\n",
       "      <td>11</td>\n",
       "    </tr>\n",
       "    <tr>\n",
       "      <th>8</th>\n",
       "      <td>Membrane receptor > Family B G protein-coupled receptor</td>\n",
       "      <td>9</td>\n",
       "    </tr>\n",
       "    <tr>\n",
       "      <th>9</th>\n",
       "      <td>Transporter > Primary active transporter</td>\n",
       "      <td>8</td>\n",
       "    </tr>\n",
       "    <tr>\n",
       "      <th>10</th>\n",
       "      <td>Enzyme > Kinase > PI3 Kinase</td>\n",
       "      <td>5</td>\n",
       "    </tr>\n",
       "    <tr>\n",
       "      <th>11</th>\n",
       "      <td>Enzyme > Oxidoreductase</td>\n",
       "      <td>3</td>\n",
       "    </tr>\n",
       "    <tr>\n",
       "      <th>12</th>\n",
       "      <td>Enzyme</td>\n",
       "      <td>2</td>\n",
       "    </tr>\n",
       "    <tr>\n",
       "      <th>13</th>\n",
       "      <td>Enzyme > Lyase</td>\n",
       "      <td>2</td>\n",
       "    </tr>\n",
       "    <tr>\n",
       "      <th>14</th>\n",
       "      <td>Enzyme > Protease</td>\n",
       "      <td>2</td>\n",
       "    </tr>\n",
       "    <tr>\n",
       "      <th>15</th>\n",
       "      <td>Enzyme > Phosphodiesterase</td>\n",
       "      <td>2</td>\n",
       "    </tr>\n",
       "    <tr>\n",
       "      <th>16</th>\n",
       "      <td>Transcription factor</td>\n",
       "      <td>2</td>\n",
       "    </tr>\n",
       "    <tr>\n",
       "      <th>17</th>\n",
       "      <td>Enzyme > Hydrolase</td>\n",
       "      <td>1</td>\n",
       "    </tr>\n",
       "  </tbody>\n",
       "</table>\n",
       "</div>"
      ],
      "text/plain": [
       "                                               target_class   N\n",
       "0                          Enzyme > Kinase > Protein Kinase  57\n",
       "1   Membrane receptor > Family A G protein-coupled receptor  49\n",
       "2                   Ion channel > Voltage-gated ion channel  19\n",
       "3                 Transporter > Electrochemical transporter  18\n",
       "4                   Transcription factor > Nuclear receptor  16\n",
       "5                                         Enzyme > Phase II  12\n",
       "6                                  Enzyme > Cytochrome P450  11\n",
       "7                    Ion channel > Ligand-gated ion channel  11\n",
       "8   Membrane receptor > Family B G protein-coupled receptor   9\n",
       "9                  Transporter > Primary active transporter   8\n",
       "10                             Enzyme > Kinase > PI3 Kinase   5\n",
       "11                                  Enzyme > Oxidoreductase   3\n",
       "12                                                   Enzyme   2\n",
       "13                                           Enzyme > Lyase   2\n",
       "14                                        Enzyme > Protease   2\n",
       "15                               Enzyme > Phosphodiesterase   2\n",
       "16                                     Transcription factor   2\n",
       "17                                       Enzyme > Hydrolase   1"
      ]
     },
     "execution_count": 17,
     "metadata": {},
     "output_type": "execute_result"
    }
   ],
   "source": [
    "class_counts = pd.DataFrame(target_class['target_class'].value_counts(), columns=['N']).reset_index()\n",
    "\n",
    "class_counts.columns.values[0] = 'target_class'\n",
    "\n",
    "class_counts.sort('N', ascending=False)"
   ]
  },
  {
   "cell_type": "markdown",
   "metadata": {},
   "source": [
    "### Add a simplified 'summary' classification"
   ]
  },
  {
   "cell_type": "code",
   "execution_count": 18,
   "metadata": {
    "collapsed": false
   },
   "outputs": [],
   "source": [
    "target_class.rename(columns={'target_class': 'target_class_1'}, inplace=True)"
   ]
  },
  {
   "cell_type": "code",
   "execution_count": 19,
   "metadata": {
    "collapsed": true
   },
   "outputs": [],
   "source": [
    "target_class_0 = {\n",
    "      'Membrane receptor > Family A G protein-coupled receptor':  'Membrane receptor > G protein-coupled receptor'\n",
    "    , 'Membrane receptor > Family B G protein-coupled receptor':  'Membrane receptor > G protein-coupled receptor'\n",
    "    , 'Ion channel > Voltage-gated ion channel':                  'Ion channel > Voltage-gated ion channel'\n",
    "    , 'Ion channel > Ligand-gated ion channel':                   'Ion channel > Ligand-gated ion channel'\n",
    "    , 'Transporter > Primary active transporter':                 'Transporter > Primary active transporter'\n",
    "    , 'Transporter > Electrochemical transporter':                'Transporter > Electrochemical transporter'\n",
    "    , 'Transcription factor > Nuclear receptor':                  'Transcription factor'\n",
    "    , 'Transcription factor':                                     'Transcription factor'\n",
    "    , 'Enzyme > Kinase > Protein Kinase':                         'Enzyme > Kinase > Protein Kinase'\n",
    "    , 'Enzyme > Kinase > PI3 Kinase':                             'Enzyme > Kinase > PI3 Kinase'\n",
    "    , 'Enzyme > Cytochrome P450':                                 'Enzyme > Cytochrome P450'\n",
    "    , 'Enzyme > Phase II':                                        'Enzyme > Phase II'\n",
    "    , 'Enzyme':                                                   'Enzyme'\n",
    "    , 'Enzyme > Oxidoreductase':                                  'Enzyme'\n",
    "    , 'Enzyme > Protease':                                        'Enzyme'\n",
    "    , 'Enzyme > Phosphodiesterase':                               'Enzyme'\n",
    "    , 'Enzyme > Lyase':                                           'Enzyme'\n",
    "    , 'Enzyme > Hydrolase':                                       'Enzyme'\n",
    "}\n",
    "\n",
    "target_class['target_class_0'] = target_class['target_class_1'].apply(lambda x: target_class_0[x])\n",
    "\n",
    "target_class = target_class[list(target_class.columns[:-2]) + list(target_class.columns[[-1, -2]])]"
   ]
  },
  {
   "cell_type": "code",
   "execution_count": 20,
   "metadata": {
    "collapsed": false,
    "scrolled": true
   },
   "outputs": [
    {
     "data": {
      "text/plain": [
       "(229, 6)"
      ]
     },
     "execution_count": 20,
     "metadata": {},
     "output_type": "execute_result"
    }
   ],
   "source": [
    "target_class.shape"
   ]
  },
  {
   "cell_type": "markdown",
   "metadata": {},
   "source": [
    "## Simplified class counts"
   ]
  },
  {
   "cell_type": "code",
   "execution_count": 21,
   "metadata": {
    "collapsed": false
   },
   "outputs": [
    {
     "data": {
      "text/html": [
       "<div style=\"max-height:1000px;max-width:1500px;overflow:auto;\">\n",
       "<table border=\"1\" class=\"dataframe\">\n",
       "  <thead>\n",
       "    <tr style=\"text-align: right;\">\n",
       "      <th></th>\n",
       "      <th>target_class_0</th>\n",
       "      <th>N</th>\n",
       "    </tr>\n",
       "  </thead>\n",
       "  <tbody>\n",
       "    <tr>\n",
       "      <th>0</th>\n",
       "      <td>Membrane receptor > G protein-coupled receptor</td>\n",
       "      <td>58</td>\n",
       "    </tr>\n",
       "    <tr>\n",
       "      <th>1</th>\n",
       "      <td>Enzyme > Kinase > Protein Kinase</td>\n",
       "      <td>57</td>\n",
       "    </tr>\n",
       "    <tr>\n",
       "      <th>2</th>\n",
       "      <td>Ion channel > Voltage-gated ion channel</td>\n",
       "      <td>19</td>\n",
       "    </tr>\n",
       "    <tr>\n",
       "      <th>3</th>\n",
       "      <td>Transporter > Electrochemical transporter</td>\n",
       "      <td>18</td>\n",
       "    </tr>\n",
       "    <tr>\n",
       "      <th>4</th>\n",
       "      <td>Transcription factor</td>\n",
       "      <td>18</td>\n",
       "    </tr>\n",
       "    <tr>\n",
       "      <th>5</th>\n",
       "      <td>Enzyme</td>\n",
       "      <td>12</td>\n",
       "    </tr>\n",
       "    <tr>\n",
       "      <th>6</th>\n",
       "      <td>Enzyme > Phase II</td>\n",
       "      <td>12</td>\n",
       "    </tr>\n",
       "    <tr>\n",
       "      <th>7</th>\n",
       "      <td>Enzyme > Cytochrome P450</td>\n",
       "      <td>11</td>\n",
       "    </tr>\n",
       "    <tr>\n",
       "      <th>8</th>\n",
       "      <td>Ion channel > Ligand-gated ion channel</td>\n",
       "      <td>11</td>\n",
       "    </tr>\n",
       "    <tr>\n",
       "      <th>9</th>\n",
       "      <td>Transporter > Primary active transporter</td>\n",
       "      <td>8</td>\n",
       "    </tr>\n",
       "    <tr>\n",
       "      <th>10</th>\n",
       "      <td>Enzyme > Kinase > PI3 Kinase</td>\n",
       "      <td>5</td>\n",
       "    </tr>\n",
       "  </tbody>\n",
       "</table>\n",
       "</div>"
      ],
      "text/plain": [
       "                                    target_class_0   N\n",
       "0   Membrane receptor > G protein-coupled receptor  58\n",
       "1                 Enzyme > Kinase > Protein Kinase  57\n",
       "2          Ion channel > Voltage-gated ion channel  19\n",
       "3        Transporter > Electrochemical transporter  18\n",
       "4                             Transcription factor  18\n",
       "5                                           Enzyme  12\n",
       "6                                Enzyme > Phase II  12\n",
       "7                         Enzyme > Cytochrome P450  11\n",
       "8           Ion channel > Ligand-gated ion channel  11\n",
       "9         Transporter > Primary active transporter   8\n",
       "10                    Enzyme > Kinase > PI3 Kinase   5"
      ]
     },
     "execution_count": 21,
     "metadata": {},
     "output_type": "execute_result"
    }
   ],
   "source": [
    "class_counts_0 = pd.DataFrame(target_class['target_class_0'].value_counts(), columns=['N']).reset_index()\n",
    "\n",
    "class_counts_0.columns.values[0] = 'target_class_0'\n",
    "\n",
    "class_counts_0.sort('N', ascending=False)"
   ]
  },
  {
   "cell_type": "markdown",
   "metadata": {},
   "source": [
    "### Save classification"
   ]
  },
  {
   "cell_type": "code",
   "execution_count": 22,
   "metadata": {
    "collapsed": false
   },
   "outputs": [],
   "source": [
    "# Double-check each symbol has at most one class...\n",
    "\n",
    "assert target_class[['symbol', 'target_class_0']].drop_duplicates()['symbol'].duplicated().any() == False"
   ]
  },
  {
   "cell_type": "code",
   "execution_count": 23,
   "metadata": {
    "collapsed": false
   },
   "outputs": [],
   "source": [
    "target_class.to_pickle('target_class.pkl')"
   ]
  },
  {
   "cell_type": "code",
   "execution_count": 11,
   "metadata": {
    "collapsed": false
   },
   "outputs": [],
   "source": [
    "# Simplified mapping for convenience...\n",
    "\n",
    "target_class_map = target_class[['symbol', 'target_class_0']].drop_duplicates().set_index('symbol')\n",
    "\n",
    "target_class_map.columns = ['target_class']\n",
    "\n",
    "target_class_map.to_pickle('target_class_map.pkl')"
   ]
  },
  {
   "cell_type": "code",
   "execution_count": 24,
   "metadata": {
    "collapsed": false
   },
   "outputs": [],
   "source": [
    "# # Write to RDBMS...\n",
    "\n",
    "# col_types = {\n",
    "#     'chembl_id':      VARCHAR2(20),\n",
    "#     'pref_name':      VARCHAR2(200),\n",
    "#     'symbol':         VARCHAR2(10),\n",
    "#     'approved_name':  VARCHAR2(1000),\n",
    "#     'target_class_0': VARCHAR2(1000),\n",
    "#     'target_class_1': VARCHAR2(1000)\n",
    "# }\n",
    "\n",
    "# target_class.to_sql('tt_target_class', engine, if_exists='replace', index=False, dtype=col_types)"
   ]
  },
  {
   "cell_type": "markdown",
   "metadata": {},
   "source": [
    "## Merge into target data"
   ]
  },
  {
   "cell_type": "code",
   "execution_count": 25,
   "metadata": {
    "collapsed": false
   },
   "outputs": [
    {
     "data": {
      "text/plain": [
       "(377, 9)"
      ]
     },
     "execution_count": 25,
     "metadata": {},
     "output_type": "execute_result"
    }
   ],
   "source": [
    "targets = pd.read_pickle('chembl_targets.pkl') \n",
    "\n",
    "targets.shape"
   ]
  },
  {
   "cell_type": "code",
   "execution_count": 26,
   "metadata": {
    "collapsed": false
   },
   "outputs": [
    {
     "data": {
      "text/plain": [
       "(377, 11)"
      ]
     },
     "execution_count": 26,
     "metadata": {},
     "output_type": "execute_result"
    }
   ],
   "source": [
    "cols = ['chembl_id', 'target_class_0', 'target_class_1']\n",
    "\n",
    "targets = targets.merge(target_class[cols], on='chembl_id', how='left').fillna('N/A')\n",
    "\n",
    "targets.shape"
   ]
  },
  {
   "cell_type": "code",
   "execution_count": 27,
   "metadata": {
    "collapsed": false,
    "scrolled": true
   },
   "outputs": [
    {
     "data": {
      "text/html": [
       "<table border=\"1\" class=\"dataframe\">\n",
       "  <thead>\n",
       "    <tr style=\"text-align: right;\">\n",
       "      <th></th>\n",
       "      <th>symbol</th>\n",
       "      <th>approved_name</th>\n",
       "      <th>targets</th>\n",
       "      <th>n_target</th>\n",
       "      <th>chembl_id</th>\n",
       "      <th>target_type</th>\n",
       "      <th>pref_name</th>\n",
       "      <th>species</th>\n",
       "      <th>exclude</th>\n",
       "      <th>target_class_0</th>\n",
       "      <th>target_class_1</th>\n",
       "    </tr>\n",
       "  </thead>\n",
       "  <tbody>\n",
       "    <tr>\n",
       "      <th>0</th>\n",
       "      <td>ABCB1</td>\n",
       "      <td>ATP-binding cassette, sub-family B (MDR/TAP), member 1</td>\n",
       "      <td>MDR1;7|MDR1;8|ATP-binding cassette, sub-family B (MDR/TAP), member 1;11</td>\n",
       "      <td>1</td>\n",
       "      <td>CHEMBL4302</td>\n",
       "      <td>SINGLE PROTEIN</td>\n",
       "      <td>P-glycoprotein 1</td>\n",
       "      <td>Human</td>\n",
       "      <td>0</td>\n",
       "      <td>Transporter > Primary active transporter</td>\n",
       "      <td>Transporter > Primary active transporter</td>\n",
       "    </tr>\n",
       "    <tr>\n",
       "      <th>1</th>\n",
       "      <td>ABCB1</td>\n",
       "      <td>ATP-binding cassette, sub-family B (MDR/TAP), member 1</td>\n",
       "      <td>MDR1;7|MDR1;8|ATP-binding cassette, sub-family B (MDR/TAP), member 1;11</td>\n",
       "      <td>1</td>\n",
       "      <td>CHEMBL1075229</td>\n",
       "      <td>SINGLE PROTEIN</td>\n",
       "      <td>Multidrug resistance protein 1</td>\n",
       "      <td>Rat</td>\n",
       "      <td>0</td>\n",
       "      <td>N/A</td>\n",
       "      <td>N/A</td>\n",
       "    </tr>\n",
       "    <tr>\n",
       "      <th>2</th>\n",
       "      <td>ABCB11</td>\n",
       "      <td>ATP-binding cassette, sub-family B (MDR/TAP), member 11</td>\n",
       "      <td>BSEP;6|BSEP;7|BSEP;8</td>\n",
       "      <td>1</td>\n",
       "      <td>CHEMBL6020</td>\n",
       "      <td>SINGLE PROTEIN</td>\n",
       "      <td>Bile salt export pump</td>\n",
       "      <td>Human</td>\n",
       "      <td>0</td>\n",
       "      <td>Transporter > Primary active transporter</td>\n",
       "      <td>Transporter > Primary active transporter</td>\n",
       "    </tr>\n",
       "    <tr>\n",
       "      <th>3</th>\n",
       "      <td>ABCB11</td>\n",
       "      <td>ATP-binding cassette, sub-family B (MDR/TAP), member 11</td>\n",
       "      <td>BSEP;6|BSEP;7|BSEP;8</td>\n",
       "      <td>1</td>\n",
       "      <td>CHEMBL2073674</td>\n",
       "      <td>SINGLE PROTEIN</td>\n",
       "      <td>Bile salt export pump</td>\n",
       "      <td>Rat</td>\n",
       "      <td>0</td>\n",
       "      <td>N/A</td>\n",
       "      <td>N/A</td>\n",
       "    </tr>\n",
       "    <tr>\n",
       "      <th>4</th>\n",
       "      <td>ABCB4</td>\n",
       "      <td>ATP-binding cassette, sub-family B (MDR/TAP), member 4</td>\n",
       "      <td>MDR3;7|MDR3;8</td>\n",
       "      <td>1</td>\n",
       "      <td>CHEMBL1743129</td>\n",
       "      <td>SINGLE PROTEIN</td>\n",
       "      <td>Multidrug resistance protein 3</td>\n",
       "      <td>Human</td>\n",
       "      <td>0</td>\n",
       "      <td>Transporter > Primary active transporter</td>\n",
       "      <td>Transporter > Primary active transporter</td>\n",
       "    </tr>\n",
       "  </tbody>\n",
       "</table>"
      ],
      "text/plain": [
       "<IPython.core.display.HTML object>"
      ]
     },
     "execution_count": 27,
     "metadata": {},
     "output_type": "execute_result"
    }
   ],
   "source": [
    "HTML(targets.head().to_html())"
   ]
  },
  {
   "cell_type": "markdown",
   "metadata": {},
   "source": [
    "### Save/Restore\n",
    "\n",
    "File now includes target classes."
   ]
  },
  {
   "cell_type": "code",
   "execution_count": 28,
   "metadata": {
    "collapsed": true
   },
   "outputs": [],
   "source": [
    "# backup_file('chembl_targets.pkl')\n",
    "\n",
    "targets.to_pickle('chembl_targets.pkl')"
   ]
  }
 ],
 "metadata": {
  "kernelspec": {
   "display_name": "Python 2",
   "language": "python",
   "name": "python2"
  },
  "language_info": {
   "codemirror_mode": {
    "name": "ipython",
    "version": 2
   },
   "file_extension": ".py",
   "mimetype": "text/x-python",
   "name": "python",
   "nbconvert_exporter": "python",
   "pygments_lexer": "ipython2",
   "version": "2.7.10"
  }
 },
 "nbformat": 4,
 "nbformat_minor": 0
}
