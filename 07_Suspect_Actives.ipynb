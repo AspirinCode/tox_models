{
 "cells": [
  {
   "cell_type": "markdown",
   "metadata": {},
   "source": [
    "# Suspect Actives\n",
    "\n",
    "Inspect cases where the number of inactives for a compound is greater than the number of actives."
   ]
  },
  {
   "cell_type": "code",
   "execution_count": 1,
   "metadata": {
    "collapsed": false
   },
   "outputs": [],
   "source": [
    "from collections import defaultdict\n",
    "\n",
    "from math import log10, floor, ceil\n",
    "\n",
    "from itertools import chain\n",
    "\n",
    "import seaborn as sns"
   ]
  },
  {
   "cell_type": "markdown",
   "metadata": {},
   "source": [
    "### Configuration"
   ]
  },
  {
   "cell_type": "code",
   "execution_count": 2,
   "metadata": {
    "collapsed": true
   },
   "outputs": [],
   "source": [
    "marker_class_col, color_class_col = 'standard_relation', 'description'"
   ]
  },
  {
   "cell_type": "code",
   "execution_count": 3,
   "metadata": {
    "collapsed": true
   },
   "outputs": [],
   "source": [
    "# ChEMBL connection...\n",
    "\n",
    "engine = create_engine(open('database.txt').read().strip())"
   ]
  },
  {
   "cell_type": "code",
   "execution_count": 4,
   "metadata": {
    "collapsed": false
   },
   "outputs": [],
   "source": [
    "sns.set()"
   ]
  },
  {
   "cell_type": "markdown",
   "metadata": {},
   "source": [
    "### Get suspect actives\n",
    "\n",
    "See SQL files '[tt_activity_counts](SQL/tt_activity_counts.sql)' for further details."
   ]
  },
  {
   "cell_type": "code",
   "execution_count": 5,
   "metadata": {
    "collapsed": false
   },
   "outputs": [
    {
     "name": "stdout",
     "output_type": "stream",
     "text": [
      "----------------------------------------------------------------------------------------------------\n",
      "-- \n",
      "-- Count active and inactive records for compounds.\n",
      "-- \n",
      "-- Note that 'compounds' are here defined in terms of USMILES.\n",
      "-- \n",
      "-- Note also that 'targets' are defined in terms of symbol/species pairs.\n",
      "--\n",
      "-- Note use of source table 'tt_curve_data_v2'; this is to get a full picture of the inactives.\n",
      "-- \n",
      "----------------------------------------------------------------------------------------------------\n",
      "\n",
      "-- drop table tt_activity_counts;\n",
      "\n",
      "--\n",
      "\n",
      "-- \n",
      "\n",
      "create table tt_activity_counts as\n",
      "select\n",
      "    a.*\n",
      "  , case when ((a.n_active > 0) and (a.n_inactive > a.n_active)) then 1 else 0 end as suspect\n",
      "from (\n",
      "  select\n",
      "      a.symbol\n",
      "    , a.species\n",
      "    , b.usmiles\n",
      "    , count(case when nvl(a.active, 0) = 1 then 1 end) n_active\n",
      "    , count(case when nvl(a.active, 0) = 0 then 1 end) n_inactive\n",
      "    , count(*) n_total\n",
      "  from\n",
      "    tt_curve_data_v2 a\n",
      "    join tt_structure_lookup b on a.parent_cmpd_chemblid = b.cmpd\n",
      "  where\n",
      "    a.exclude = 0\n",
      "  group by\n",
      "      a.symbol\n",
      "    , a.species\n",
      "    , b.usmiles\n",
      "  ) a\n",
      "order by\n",
      "    a.symbol\n",
      "  , a.species\n",
      "  , a.usmiles\n",
      ";\n",
      "\n",
      "----------------------------------------------------------------------------------------------------\n",
      "-- End\n",
      "----------------------------------------------------------------------------------------------------\n",
      "\n"
     ]
    }
   ],
   "source": [
    "print(open('SQL/tt_activity_counts.sql').read())"
   ]
  },
  {
   "cell_type": "code",
   "execution_count": 6,
   "metadata": {
    "collapsed": false
   },
   "outputs": [
    {
     "data": {
      "text/plain": [
       "(270, 5)"
      ]
     },
     "execution_count": 6,
     "metadata": {},
     "output_type": "execute_result"
    }
   ],
   "source": [
    "# NB Complicated query is to avoid division-by-zero errors...\n",
    "\n",
    "suspect = pd.read_sql(\"\"\"\n",
    "select \n",
    "    a.symbol\n",
    "  , a.species\n",
    "  , count(case when a.suspect = 1 then 1 end) as n_suspect\n",
    "  , count(case when a.n_active > 0 then 1 end) as n_active\n",
    "  , round(count(case when a.suspect = 1 then 1 end)/count(case when a.n_active > 0 then 1 end) * 100.0, 1) as pct_suspect\n",
    "from\n",
    "  tt_activity_counts a\n",
    "  join (\n",
    "    select \n",
    "        symbol\n",
    "      , species\n",
    "      , count(case when n_active > 0 then 1 end) as n_active\n",
    "    from\n",
    "      tt_activity_counts a\n",
    "    group by\n",
    "        symbol\n",
    "      , species\n",
    "  ) b on a.symbol = b.symbol and a.species = b.species\n",
    "where\n",
    "  b.n_active > 0\n",
    "group by\n",
    "    a.symbol\n",
    "  , a.species\n",
    "order by\n",
    "  pct_suspect desc\n",
    "  , a.symbol\n",
    "  , a.species\n",
    "\"\"\", engine)\n",
    "\n",
    "suspect.shape"
   ]
  },
  {
   "cell_type": "code",
   "execution_count": 7,
   "metadata": {
    "collapsed": false,
    "scrolled": true
   },
   "outputs": [
    {
     "data": {
      "text/html": [
       "<div style=\"max-height:1000px;max-width:1500px;overflow:auto;\">\n",
       "<table border=\"1\" class=\"dataframe\">\n",
       "  <thead>\n",
       "    <tr style=\"text-align: right;\">\n",
       "      <th></th>\n",
       "      <th>symbol</th>\n",
       "      <th>species</th>\n",
       "      <th>n_suspect</th>\n",
       "      <th>n_active</th>\n",
       "      <th>pct_suspect</th>\n",
       "    </tr>\n",
       "  </thead>\n",
       "  <tbody>\n",
       "    <tr>\n",
       "      <th>0</th>\n",
       "      <td>GRIN1</td>\n",
       "      <td>Rat</td>\n",
       "      <td>108</td>\n",
       "      <td>706</td>\n",
       "      <td>15.3</td>\n",
       "    </tr>\n",
       "    <tr>\n",
       "      <th>3</th>\n",
       "      <td>KCNJ11</td>\n",
       "      <td>Human</td>\n",
       "      <td>8</td>\n",
       "      <td>84</td>\n",
       "      <td>9.5</td>\n",
       "    </tr>\n",
       "    <tr>\n",
       "      <th>5</th>\n",
       "      <td>VDR</td>\n",
       "      <td>Human</td>\n",
       "      <td>12</td>\n",
       "      <td>176</td>\n",
       "      <td>6.8</td>\n",
       "    </tr>\n",
       "    <tr>\n",
       "      <th>7</th>\n",
       "      <td>GRIN1</td>\n",
       "      <td>Human</td>\n",
       "      <td>17</td>\n",
       "      <td>273</td>\n",
       "      <td>6.2</td>\n",
       "    </tr>\n",
       "    <tr>\n",
       "      <th>10</th>\n",
       "      <td>AHR</td>\n",
       "      <td>Human</td>\n",
       "      <td>6</td>\n",
       "      <td>172</td>\n",
       "      <td>3.5</td>\n",
       "    </tr>\n",
       "    <tr>\n",
       "      <th>11</th>\n",
       "      <td>CHRNA1</td>\n",
       "      <td>Human</td>\n",
       "      <td>2</td>\n",
       "      <td>58</td>\n",
       "      <td>3.4</td>\n",
       "    </tr>\n",
       "    <tr>\n",
       "      <th>12</th>\n",
       "      <td>DRD1</td>\n",
       "      <td>Human</td>\n",
       "      <td>23</td>\n",
       "      <td>687</td>\n",
       "      <td>3.3</td>\n",
       "    </tr>\n",
       "  </tbody>\n",
       "</table>\n",
       "</div>"
      ],
      "text/plain": [
       "    symbol species  n_suspect  n_active  pct_suspect\n",
       "0    GRIN1     Rat        108       706         15.3\n",
       "3   KCNJ11   Human          8        84          9.5\n",
       "5      VDR   Human         12       176          6.8\n",
       "7    GRIN1   Human         17       273          6.2\n",
       "10     AHR   Human          6       172          3.5\n",
       "11  CHRNA1   Human          2        58          3.4\n",
       "12    DRD1   Human         23       687          3.3"
      ]
     },
     "execution_count": 7,
     "metadata": {},
     "output_type": "execute_result"
    }
   ],
   "source": [
    "suspect.query(\"n_active > 50 and pct_suspect >= 3\")"
   ]
  },
  {
   "cell_type": "markdown",
   "metadata": {},
   "source": [
    "### Targets\n",
    "\n",
    "Inspect data for targets with high fraction of 'suspect' data points."
   ]
  },
  {
   "cell_type": "code",
   "execution_count": 8,
   "metadata": {
    "collapsed": true
   },
   "outputs": [],
   "source": [
    "# symbol, species = 'GRIN1', 'Rat'\n",
    "\n",
    "symbol, species = 'KCNJ11', 'Human'\n",
    "\n",
    "# symbol, species = 'VDR', 'Human'"
   ]
  },
  {
   "cell_type": "code",
   "execution_count": 9,
   "metadata": {
    "collapsed": true
   },
   "outputs": [],
   "source": [
    "# Minimum number of activities to keep assay in plot..\n",
    "\n",
    "min_n = 2"
   ]
  },
  {
   "cell_type": "code",
   "execution_count": 10,
   "metadata": {
    "collapsed": false
   },
   "outputs": [
    {
     "data": {
      "text/plain": [
       "(34, 36)"
      ]
     },
     "execution_count": 10,
     "metadata": {},
     "output_type": "execute_result"
    }
   ],
   "source": [
    "# Get raw data...\n",
    "\n",
    "data = pd.read_sql(\"\"\"\n",
    "select\n",
    "      a.*\n",
    "    , b.usmiles\n",
    "from\n",
    "     tt_curve_data_v2 a\n",
    "join tt_structure_lookup b on a.parent_cmpd_chemblid = b.cmpd\n",
    "join tt_activity_counts c on a.symbol = c.symbol and a.species = c.species and b.usmiles = c.usmiles\n",
    "where\n",
    "    a.symbol  = :symbol\n",
    "and a.species = :species\n",
    "and c.suspect = 1\n",
    "and a.exclude = 0\n",
    "and a.nat >= 10\n",
    "and a.nat <= 50\n",
    "order by\n",
    "    b.usmiles\n",
    "  , a.parent_cmpd_chemblid\n",
    "  , a.description\n",
    "  , a.standard_relation\n",
    "  , a.active\n",
    "\"\"\", engine, params={'symbol': symbol, 'species': species})\n",
    "\n",
    "data.shape"
   ]
  },
  {
   "cell_type": "markdown",
   "metadata": {},
   "source": [
    "### Table of assays"
   ]
  },
  {
   "cell_type": "code",
   "execution_count": 11,
   "metadata": {
    "collapsed": false
   },
   "outputs": [
    {
     "data": {
      "text/plain": [
       "(13, 3)"
      ]
     },
     "execution_count": 11,
     "metadata": {},
     "output_type": "execute_result"
    }
   ],
   "source": [
    "# Table of assays...\n",
    "\n",
    "table_of_assays = data.groupby(['description', 'assay_chemblid']).apply(len).to_frame(name='n').reset_index().sort(['n', 'description'], ascending=[0, 1])\n",
    "\n",
    "table_of_assays.shape"
   ]
  },
  {
   "cell_type": "code",
   "execution_count": 12,
   "metadata": {
    "collapsed": false
   },
   "outputs": [
    {
     "data": {
      "text/plain": [
       "(9, 3)"
      ]
     },
     "execution_count": 12,
     "metadata": {},
     "output_type": "execute_result"
    }
   ],
   "source": [
    "# Discard smaller assays...\n",
    "\n",
    "table_of_assays.query(\"n < @min_n\").shape"
   ]
  },
  {
   "cell_type": "code",
   "execution_count": 13,
   "metadata": {
    "collapsed": false
   },
   "outputs": [
    {
     "data": {
      "text/plain": [
       "(4, 3)"
      ]
     },
     "execution_count": 13,
     "metadata": {},
     "output_type": "execute_result"
    }
   ],
   "source": [
    "table_of_assays = table_of_assays.query(\"n >= @min_n\")\n",
    "\n",
    "table_of_assays.shape"
   ]
  },
  {
   "cell_type": "code",
   "execution_count": 14,
   "metadata": {
    "collapsed": false
   },
   "outputs": [
    {
     "data": {
      "text/plain": [
       "(25, 36)"
      ]
     },
     "execution_count": 14,
     "metadata": {},
     "output_type": "execute_result"
    }
   ],
   "source": [
    "# Take only data from larger assays...\n",
    "\n",
    "assay_chemblids = table_of_assays['assay_chemblid'].tolist()\n",
    "\n",
    "data_0 = data\n",
    "\n",
    "data = data.query(\"assay_chemblid in @assay_chemblids\").reset_index(drop=True)\n",
    "\n",
    "data.shape"
   ]
  },
  {
   "cell_type": "code",
   "execution_count": 15,
   "metadata": {
    "collapsed": true
   },
   "outputs": [],
   "source": [
    "# Add index number of USMILES (i.e. as they will appear on X-axis of plot)...\n",
    "\n",
    "data['usmiles_n'] = pd.Categorical.from_array(data['usmiles']).categories.get_indexer(data['usmiles'])"
   ]
  },
  {
   "cell_type": "markdown",
   "metadata": {},
   "source": [
    "### Table of compounds"
   ]
  },
  {
   "cell_type": "code",
   "execution_count": 16,
   "metadata": {
    "collapsed": false
   },
   "outputs": [
    {
     "data": {
      "text/plain": [
       "(8, 2)"
      ]
     },
     "execution_count": 16,
     "metadata": {},
     "output_type": "execute_result"
    }
   ],
   "source": [
    "# Table of compounds...\n",
    "\n",
    "table_of_compounds = data[['usmiles', 'parent_cmpd_chemblid']].drop_duplicates().groupby('usmiles').apply(lambda x: sorted(x['parent_cmpd_chemblid'])).to_frame('cmpds').reset_index()\n",
    "\n",
    "table_of_compounds.index.name = 'usmiles_n'\n",
    "\n",
    "table_of_compounds.shape"
   ]
  },
  {
   "cell_type": "markdown",
   "metadata": {},
   "source": [
    "### Plot chart"
   ]
  },
  {
   "cell_type": "code",
   "execution_count": 17,
   "metadata": {
    "collapsed": false
   },
   "outputs": [],
   "source": [
    "data[marker_class_col] = data[marker_class_col].fillna(' ')"
   ]
  },
  {
   "cell_type": "code",
   "execution_count": 18,
   "metadata": {
    "collapsed": true
   },
   "outputs": [],
   "source": [
    "# Colours...\n",
    "\n",
    "def get_color_map(n_classes):\n",
    "\n",
    "    n1 = int(round(n_classes/2))*2 # Round up to next even number for convenience\n",
    "        \n",
    "    color_map = plt.get_cmap('jet')(np.linspace(0.0, 1.0, n1))\n",
    "\n",
    "    return color_map[list(chain.from_iterable(zip(range(0, int(n1/2)), range(int(n1/2), n1))))[:n_classes]]\n",
    "\n",
    "color_classes = sorted(data[color_class_col].unique())\n",
    "\n",
    "color_map = get_color_map(len(color_classes))"
   ]
  },
  {
   "cell_type": "code",
   "execution_count": 19,
   "metadata": {
    "collapsed": false
   },
   "outputs": [],
   "source": [
    "# Marker shape...\n",
    "\n",
    "marker_classes = sorted(data[marker_class_col].unique())\n",
    "\n",
    "marker_list = ['o', 's', '^']"
   ]
  },
  {
   "cell_type": "code",
   "execution_count": 20,
   "metadata": {
    "collapsed": false
   },
   "outputs": [
    {
     "data": {
      "text/plain": [
       "8"
      ]
     },
     "execution_count": 20,
     "metadata": {},
     "output_type": "execute_result"
    }
   ],
   "source": [
    "# List of USMILES for X-axis...\n",
    "\n",
    "usmiles = table_of_compounds['usmiles'].tolist()\n",
    "\n",
    "len(usmiles)"
   ]
  },
  {
   "cell_type": "code",
   "execution_count": 21,
   "metadata": {
    "collapsed": false
   },
   "outputs": [
    {
     "data": {
      "image/png": "[encoded data removed]",
      "text/plain": [
       "<matplotlib.figure.Figure at 0x11a857910>"
      ]
     },
     "metadata": {},
     "output_type": "display_data"
    }
   ],
   "source": [
    "# Plot...\n",
    "\n",
    "fig, ax = plt.subplots()\n",
    "\n",
    "fig.set_size_inches(40, 10)\n",
    "\n",
    "# X-axis...\n",
    "\n",
    "x_positions = range(len(usmiles))\n",
    "\n",
    "ax.set_xlim((x_positions[0]-0.5, x_positions[-1]+0.5))\n",
    "\n",
    "ax.set_xticks(x_positions)\n",
    "\n",
    "ax.tick_params(axis='both', direction='out')\n",
    "\n",
    "ax.set_xticklabels(x_positions, fontsize=10, rotation=90)\n",
    "\n",
    "ax.set_xlabel('USMILES number')\n",
    "\n",
    "# Y-axis...\n",
    "\n",
    "y = [-log10(x/10**9) if not np.isnan(x) else 3.0 for x in data['standard_value']]\n",
    "\n",
    "ax.set_ylim((floor(min(y))-0.25, ceil(max(y))+0.25))\n",
    "\n",
    "ax.set_ylabel('pActivity')\n",
    "            \n",
    "# Add line...\n",
    "            \n",
    "ax.plot((x_positions[0]-0.5, x_positions[-1]+0.5), (5, 5), color='m', linestyle='--', linewidth=2)\n",
    "\n",
    "######\n",
    "\n",
    "point_sets = defaultdict(list)\n",
    "\n",
    "for i, color_class in enumerate(color_classes):\n",
    "    \n",
    "    ### logging.info(\"{}) color_class: '{}'\".format(i, color_class))\n",
    "        \n",
    "    for j, marker_class in enumerate(marker_classes):\n",
    "        \n",
    "        ### logging.info(\"  {}) marker_class: '{}'\".format(j, marker_class))\n",
    "        \n",
    "        subset = data.query(\"({} == @color_class) and ({} == @marker_class)\".format(color_class_col, marker_class_col))\n",
    "        \n",
    "        x_subset = [usmiles.index(x) for x in subset['usmiles']]\n",
    "        \n",
    "        ### logging.info(\"    x_subset: [{}]\".format(', '.join(\"{}\".format(x) for x in x_subset)))\n",
    "        \n",
    "        y_subset = [-log10(x/10**9) if not np.isnan(x) else 3.0 for x in subset['standard_value']]\n",
    "        \n",
    "        assert(len(x_subset) == len(y_subset))\n",
    "                \n",
    "        ### logging.info(\"    y_subset: [{}]\".format(', '.join(\"{}\".format(round(x, 2)) for x in y_subset)))\n",
    "        \n",
    "        point_set = ax.scatter(x_subset, y_subset, s=100, color=color_map[color_classes.index(color_class)], marker=marker_list[marker_classes.index(marker_class)], label=\"{}, {}\".format(color_class, marker_class))\n",
    "        \n",
    "        point_sets[i].append(point_set)\n",
    "                \n",
    "######\n",
    "\n",
    "legend0 = ax.legend(point_sets[0], marker_classes, bbox_to_anchor=(0.0, -0.1), loc=2)\n",
    "\n",
    "legend1 = ax.legend([x[0] for x in point_sets.values()], color_classes, bbox_to_anchor=(0.05, -0.1), loc=2)\n",
    "\n",
    "_ = ax.add_artist(legend0)"
   ]
  },
  {
   "cell_type": "markdown",
   "metadata": {},
   "source": [
    "_N.B._ 3 is used as a dummy-value for missing activity values."
   ]
  },
  {
   "cell_type": "code",
   "execution_count": 22,
   "metadata": {
    "collapsed": false,
    "scrolled": true
   },
   "outputs": [
    {
     "data": {
      "text/html": [
       "<table border=\"1\" class=\"dataframe\">\n",
       "  <thead>\n",
       "    <tr style=\"text-align: right;\">\n",
       "      <th></th>\n",
       "      <th>usmiles</th>\n",
       "      <th>cmpds</th>\n",
       "    </tr>\n",
       "    <tr>\n",
       "      <th>usmiles_n</th>\n",
       "      <th></th>\n",
       "      <th></th>\n",
       "    </tr>\n",
       "  </thead>\n",
       "  <tbody>\n",
       "    <tr>\n",
       "      <th>0</th>\n",
       "      <td>CC(C)(C)NC1=NS(=O)(=O)c2sc(Cl)cc2N1</td>\n",
       "      <td>[CHEMBL336586]</td>\n",
       "    </tr>\n",
       "    <tr>\n",
       "      <th>1</th>\n",
       "      <td>CC(C)NC1=NS(=O)(=O)c2sc(Cl)cc2N1</td>\n",
       "      <td>[CHEMBL131971]</td>\n",
       "    </tr>\n",
       "    <tr>\n",
       "      <th>2</th>\n",
       "      <td>CC1(NC2=NS(=O)(=O)c3sc(Cl)cc3N2)CCC1</td>\n",
       "      <td>[CHEMBL134168]</td>\n",
       "    </tr>\n",
       "    <tr>\n",
       "      <th>3</th>\n",
       "      <td>CC1=NS(=O)(=O)c2cc(Cl)ccc2N1</td>\n",
       "      <td>[CHEMBL181]</td>\n",
       "    </tr>\n",
       "    <tr>\n",
       "      <th>4</th>\n",
       "      <td>CCC(C)(C)NC1=NS(=O)(=O)c2sc(Cl)cc2N1</td>\n",
       "      <td>[CHEMBL135091]</td>\n",
       "    </tr>\n",
       "    <tr>\n",
       "      <th>5</th>\n",
       "      <td>CCC(C)NC1=NS(=O)(=O)c2sc(Cl)cc2N1</td>\n",
       "      <td>[CHEMBL2111887]</td>\n",
       "    </tr>\n",
       "    <tr>\n",
       "      <th>6</th>\n",
       "      <td>CCCNC1=NS(=O)(=O)c2sc(Cl)cc2N1</td>\n",
       "      <td>[CHEMBL133596]</td>\n",
       "    </tr>\n",
       "    <tr>\n",
       "      <th>7</th>\n",
       "      <td>O=S1(=O)NC(NC2CCC2)=Nc2cc(Cl)sc21</td>\n",
       "      <td>[CHEMBL133663]</td>\n",
       "    </tr>\n",
       "  </tbody>\n",
       "</table>"
      ],
      "text/plain": [
       "<IPython.core.display.HTML object>"
      ]
     },
     "execution_count": 22,
     "metadata": {},
     "output_type": "execute_result"
    }
   ],
   "source": [
    "# Inspect compounds...\n",
    "\n",
    "HTML(table_of_compounds.to_html())"
   ]
  },
  {
   "cell_type": "code",
   "execution_count": 23,
   "metadata": {
    "collapsed": false,
    "scrolled": true
   },
   "outputs": [
    {
     "data": {
      "text/html": [
       "<table border=\"1\" class=\"dataframe\">\n",
       "  <thead>\n",
       "    <tr style=\"text-align: right;\">\n",
       "      <th></th>\n",
       "      <th>assay_chemblid</th>\n",
       "      <th>description</th>\n",
       "      <th>parent_cmpd_chemblid</th>\n",
       "      <th>standard_relation</th>\n",
       "      <th>standard_value</th>\n",
       "      <th>standard_units</th>\n",
       "      <th>pchembl_value</th>\n",
       "      <th>active</th>\n",
       "      <th>usmiles_n</th>\n",
       "      <th>usmiles</th>\n",
       "    </tr>\n",
       "  </thead>\n",
       "  <tbody>\n",
       "    <tr>\n",
       "      <th>0</th>\n",
       "      <td>CHEMBL810541</td>\n",
       "      <td>Inhibition of [3H]glibenclamide binding to HEK293 cells co-expressing human Sulfonylurea receptor SUR1 and Inward rectifier K+ channel Kir6.2 at high affinity state with 2 mM MgATP</td>\n",
       "      <td>CHEMBL336586</td>\n",
       "      <td>=</td>\n",
       "      <td>230</td>\n",
       "      <td>nM</td>\n",
       "      <td>6.64</td>\n",
       "      <td>1</td>\n",
       "      <td>0</td>\n",
       "      <td>CC(C)(C)NC1=NS(=O)(=O)c2sc(Cl)cc2N1</td>\n",
       "    </tr>\n",
       "    <tr>\n",
       "      <th>1</th>\n",
       "      <td>CHEMBL810542</td>\n",
       "      <td>Inhibition of [3H]glibenclamide binding to HEK293 cells co-expressing human Sulfonylurea receptor SUR1 and Inward rectifier K+ channel Kir6.2 at low affinity state with 2 mM MgATP</td>\n",
       "      <td>CHEMBL336586</td>\n",
       "      <td>=</td>\n",
       "      <td>393000</td>\n",
       "      <td>nM</td>\n",
       "      <td>NaN</td>\n",
       "      <td>0</td>\n",
       "      <td>0</td>\n",
       "      <td>CC(C)(C)NC1=NS(=O)(=O)c2sc(Cl)cc2N1</td>\n",
       "    </tr>\n",
       "    <tr>\n",
       "      <th>2</th>\n",
       "      <td>CHEMBL810543</td>\n",
       "      <td>Inhibition of [3H]glibenclamide binding to HEK293 cells co-expressing human Sulfonylurea receptor SUR1 and Inward rectifier K+ channel Kir6.2 without ATP</td>\n",
       "      <td>CHEMBL336586</td>\n",
       "      <td>=</td>\n",
       "      <td>1350000</td>\n",
       "      <td>nM</td>\n",
       "      <td>NaN</td>\n",
       "      <td>0</td>\n",
       "      <td>0</td>\n",
       "      <td>CC(C)(C)NC1=NS(=O)(=O)c2sc(Cl)cc2N1</td>\n",
       "    </tr>\n",
       "    <tr>\n",
       "      <th>3</th>\n",
       "      <td>CHEMBL810541</td>\n",
       "      <td>Inhibition of [3H]glibenclamide binding to HEK293 cells co-expressing human Sulfonylurea receptor SUR1 and Inward rectifier K+ channel Kir6.2 at high affinity state with 2 mM MgATP</td>\n",
       "      <td>CHEMBL131971</td>\n",
       "      <td>=</td>\n",
       "      <td>340</td>\n",
       "      <td>nM</td>\n",
       "      <td>6.47</td>\n",
       "      <td>1</td>\n",
       "      <td>1</td>\n",
       "      <td>CC(C)NC1=NS(=O)(=O)c2sc(Cl)cc2N1</td>\n",
       "    </tr>\n",
       "    <tr>\n",
       "      <th>4</th>\n",
       "      <td>CHEMBL810542</td>\n",
       "      <td>Inhibition of [3H]glibenclamide binding to HEK293 cells co-expressing human Sulfonylurea receptor SUR1 and Inward rectifier K+ channel Kir6.2 at low affinity state with 2 mM MgATP</td>\n",
       "      <td>CHEMBL131971</td>\n",
       "      <td>=</td>\n",
       "      <td>187000</td>\n",
       "      <td>nM</td>\n",
       "      <td>NaN</td>\n",
       "      <td>0</td>\n",
       "      <td>1</td>\n",
       "      <td>CC(C)NC1=NS(=O)(=O)c2sc(Cl)cc2N1</td>\n",
       "    </tr>\n",
       "    <tr>\n",
       "      <th>5</th>\n",
       "      <td>CHEMBL810543</td>\n",
       "      <td>Inhibition of [3H]glibenclamide binding to HEK293 cells co-expressing human Sulfonylurea receptor SUR1 and Inward rectifier K+ channel Kir6.2 without ATP</td>\n",
       "      <td>CHEMBL131971</td>\n",
       "      <td>=</td>\n",
       "      <td>554000</td>\n",
       "      <td>nM</td>\n",
       "      <td>NaN</td>\n",
       "      <td>0</td>\n",
       "      <td>1</td>\n",
       "      <td>CC(C)NC1=NS(=O)(=O)c2sc(Cl)cc2N1</td>\n",
       "    </tr>\n",
       "    <tr>\n",
       "      <th>6</th>\n",
       "      <td>CHEMBL810541</td>\n",
       "      <td>Inhibition of [3H]glibenclamide binding to HEK293 cells co-expressing human Sulfonylurea receptor SUR1 and Inward rectifier K+ channel Kir6.2 at high affinity state with 2 mM MgATP</td>\n",
       "      <td>CHEMBL134168</td>\n",
       "      <td>=</td>\n",
       "      <td>3</td>\n",
       "      <td>nM</td>\n",
       "      <td>8.52</td>\n",
       "      <td>1</td>\n",
       "      <td>2</td>\n",
       "      <td>CC1(NC2=NS(=O)(=O)c3sc(Cl)cc3N2)CCC1</td>\n",
       "    </tr>\n",
       "    <tr>\n",
       "      <th>7</th>\n",
       "      <td>CHEMBL810542</td>\n",
       "      <td>Inhibition of [3H]glibenclamide binding to HEK293 cells co-expressing human Sulfonylurea receptor SUR1 and Inward rectifier K+ channel Kir6.2 at low affinity state with 2 mM MgATP</td>\n",
       "      <td>CHEMBL134168</td>\n",
       "      <td>=</td>\n",
       "      <td>10800</td>\n",
       "      <td>nM</td>\n",
       "      <td>4.97</td>\n",
       "      <td>0</td>\n",
       "      <td>2</td>\n",
       "      <td>CC1(NC2=NS(=O)(=O)c3sc(Cl)cc3N2)CCC1</td>\n",
       "    </tr>\n",
       "    <tr>\n",
       "      <th>8</th>\n",
       "      <td>CHEMBL810543</td>\n",
       "      <td>Inhibition of [3H]glibenclamide binding to HEK293 cells co-expressing human Sulfonylurea receptor SUR1 and Inward rectifier K+ channel Kir6.2 without ATP</td>\n",
       "      <td>CHEMBL134168</td>\n",
       "      <td>=</td>\n",
       "      <td>859000</td>\n",
       "      <td>nM</td>\n",
       "      <td>NaN</td>\n",
       "      <td>0</td>\n",
       "      <td>2</td>\n",
       "      <td>CC1(NC2=NS(=O)(=O)c3sc(Cl)cc3N2)CCC1</td>\n",
       "    </tr>\n",
       "    <tr>\n",
       "      <th>9</th>\n",
       "      <td>CHEMBL810543</td>\n",
       "      <td>Inhibition of [3H]glibenclamide binding to HEK293 cells co-expressing human Sulfonylurea receptor SUR1 and Inward rectifier K+ channel Kir6.2 without ATP</td>\n",
       "      <td>CHEMBL181</td>\n",
       "      <td>=</td>\n",
       "      <td>750000</td>\n",
       "      <td>nM</td>\n",
       "      <td>NaN</td>\n",
       "      <td>0</td>\n",
       "      <td>3</td>\n",
       "      <td>CC1=NS(=O)(=O)c2cc(Cl)ccc2N1</td>\n",
       "    </tr>\n",
       "    <tr>\n",
       "      <th>10</th>\n",
       "      <td>CHEMBL810541</td>\n",
       "      <td>Inhibition of [3H]glibenclamide binding to HEK293 cells co-expressing human Sulfonylurea receptor SUR1 and Inward rectifier K+ channel Kir6.2 at high affinity state with 2 mM MgATP</td>\n",
       "      <td>CHEMBL135091</td>\n",
       "      <td>=</td>\n",
       "      <td>180</td>\n",
       "      <td>nM</td>\n",
       "      <td>6.74</td>\n",
       "      <td>1</td>\n",
       "      <td>4</td>\n",
       "      <td>CCC(C)(C)NC1=NS(=O)(=O)c2sc(Cl)cc2N1</td>\n",
       "    </tr>\n",
       "    <tr>\n",
       "      <th>11</th>\n",
       "      <td>CHEMBL810542</td>\n",
       "      <td>Inhibition of [3H]glibenclamide binding to HEK293 cells co-expressing human Sulfonylurea receptor SUR1 and Inward rectifier K+ channel Kir6.2 at low affinity state with 2 mM MgATP</td>\n",
       "      <td>CHEMBL135091</td>\n",
       "      <td>=</td>\n",
       "      <td>375000</td>\n",
       "      <td>nM</td>\n",
       "      <td>NaN</td>\n",
       "      <td>0</td>\n",
       "      <td>4</td>\n",
       "      <td>CCC(C)(C)NC1=NS(=O)(=O)c2sc(Cl)cc2N1</td>\n",
       "    </tr>\n",
       "    <tr>\n",
       "      <th>12</th>\n",
       "      <td>CHEMBL810543</td>\n",
       "      <td>Inhibition of [3H]glibenclamide binding to HEK293 cells co-expressing human Sulfonylurea receptor SUR1 and Inward rectifier K+ channel Kir6.2 without ATP</td>\n",
       "      <td>CHEMBL135091</td>\n",
       "      <td>=</td>\n",
       "      <td>899000</td>\n",
       "      <td>nM</td>\n",
       "      <td>NaN</td>\n",
       "      <td>0</td>\n",
       "      <td>4</td>\n",
       "      <td>CCC(C)(C)NC1=NS(=O)(=O)c2sc(Cl)cc2N1</td>\n",
       "    </tr>\n",
       "    <tr>\n",
       "      <th>13</th>\n",
       "      <td>CHEMBL810541</td>\n",
       "      <td>Inhibition of [3H]glibenclamide binding to HEK293 cells co-expressing human Sulfonylurea receptor SUR1 and Inward rectifier K+ channel Kir6.2 at high affinity state with 2 mM MgATP</td>\n",
       "      <td>CHEMBL2111887</td>\n",
       "      <td>=</td>\n",
       "      <td>460</td>\n",
       "      <td>nM</td>\n",
       "      <td>6.34</td>\n",
       "      <td>1</td>\n",
       "      <td>5</td>\n",
       "      <td>CCC(C)NC1=NS(=O)(=O)c2sc(Cl)cc2N1</td>\n",
       "    </tr>\n",
       "    <tr>\n",
       "      <th>14</th>\n",
       "      <td>CHEMBL810541</td>\n",
       "      <td>Inhibition of [3H]glibenclamide binding to HEK293 cells co-expressing human Sulfonylurea receptor SUR1 and Inward rectifier K+ channel Kir6.2 at high affinity state with 2 mM MgATP</td>\n",
       "      <td>CHEMBL2111887</td>\n",
       "      <td>=</td>\n",
       "      <td>640</td>\n",
       "      <td>nM</td>\n",
       "      <td>6.19</td>\n",
       "      <td>1</td>\n",
       "      <td>5</td>\n",
       "      <td>CCC(C)NC1=NS(=O)(=O)c2sc(Cl)cc2N1</td>\n",
       "    </tr>\n",
       "    <tr>\n",
       "      <th>15</th>\n",
       "      <td>CHEMBL810542</td>\n",
       "      <td>Inhibition of [3H]glibenclamide binding to HEK293 cells co-expressing human Sulfonylurea receptor SUR1 and Inward rectifier K+ channel Kir6.2 at low affinity state with 2 mM MgATP</td>\n",
       "      <td>CHEMBL2111887</td>\n",
       "      <td>=</td>\n",
       "      <td>224000</td>\n",
       "      <td>nM</td>\n",
       "      <td>NaN</td>\n",
       "      <td>0</td>\n",
       "      <td>5</td>\n",
       "      <td>CCC(C)NC1=NS(=O)(=O)c2sc(Cl)cc2N1</td>\n",
       "    </tr>\n",
       "    <tr>\n",
       "      <th>16</th>\n",
       "      <td>CHEMBL810542</td>\n",
       "      <td>Inhibition of [3H]glibenclamide binding to HEK293 cells co-expressing human Sulfonylurea receptor SUR1 and Inward rectifier K+ channel Kir6.2 at low affinity state with 2 mM MgATP</td>\n",
       "      <td>CHEMBL2111887</td>\n",
       "      <td>=</td>\n",
       "      <td>309000</td>\n",
       "      <td>nM</td>\n",
       "      <td>NaN</td>\n",
       "      <td>0</td>\n",
       "      <td>5</td>\n",
       "      <td>CCC(C)NC1=NS(=O)(=O)c2sc(Cl)cc2N1</td>\n",
       "    </tr>\n",
       "    <tr>\n",
       "      <th>17</th>\n",
       "      <td>CHEMBL810540</td>\n",
       "      <td>Inhibition of [3H]glibenclamide binding to HEK293 cells co-expressing human Sulfonylurea receptor SUR1 and Inward rectifier K+ channel Kir6.2 without ATP</td>\n",
       "      <td>CHEMBL2111887</td>\n",
       "      <td>=</td>\n",
       "      <td>487000</td>\n",
       "      <td>nM</td>\n",
       "      <td>NaN</td>\n",
       "      <td>0</td>\n",
       "      <td>5</td>\n",
       "      <td>CCC(C)NC1=NS(=O)(=O)c2sc(Cl)cc2N1</td>\n",
       "    </tr>\n",
       "    <tr>\n",
       "      <th>18</th>\n",
       "      <td>CHEMBL810540</td>\n",
       "      <td>Inhibition of [3H]glibenclamide binding to HEK293 cells co-expressing human Sulfonylurea receptor SUR1 and Inward rectifier K+ channel Kir6.2 without ATP</td>\n",
       "      <td>CHEMBL2111887</td>\n",
       "      <td>=</td>\n",
       "      <td>420000</td>\n",
       "      <td>nM</td>\n",
       "      <td>NaN</td>\n",
       "      <td>0</td>\n",
       "      <td>5</td>\n",
       "      <td>CCC(C)NC1=NS(=O)(=O)c2sc(Cl)cc2N1</td>\n",
       "    </tr>\n",
       "    <tr>\n",
       "      <th>19</th>\n",
       "      <td>CHEMBL810541</td>\n",
       "      <td>Inhibition of [3H]glibenclamide binding to HEK293 cells co-expressing human Sulfonylurea receptor SUR1 and Inward rectifier K+ channel Kir6.2 at high affinity state with 2 mM MgATP</td>\n",
       "      <td>CHEMBL133596</td>\n",
       "      <td>=</td>\n",
       "      <td>2270</td>\n",
       "      <td>nM</td>\n",
       "      <td>5.64</td>\n",
       "      <td>1</td>\n",
       "      <td>6</td>\n",
       "      <td>CCCNC1=NS(=O)(=O)c2sc(Cl)cc2N1</td>\n",
       "    </tr>\n",
       "    <tr>\n",
       "      <th>20</th>\n",
       "      <td>CHEMBL810542</td>\n",
       "      <td>Inhibition of [3H]glibenclamide binding to HEK293 cells co-expressing human Sulfonylurea receptor SUR1 and Inward rectifier K+ channel Kir6.2 at low affinity state with 2 mM MgATP</td>\n",
       "      <td>CHEMBL133596</td>\n",
       "      <td>=</td>\n",
       "      <td>584000</td>\n",
       "      <td>nM</td>\n",
       "      <td>NaN</td>\n",
       "      <td>0</td>\n",
       "      <td>6</td>\n",
       "      <td>CCCNC1=NS(=O)(=O)c2sc(Cl)cc2N1</td>\n",
       "    </tr>\n",
       "    <tr>\n",
       "      <th>21</th>\n",
       "      <td>CHEMBL810543</td>\n",
       "      <td>Inhibition of [3H]glibenclamide binding to HEK293 cells co-expressing human Sulfonylurea receptor SUR1 and Inward rectifier K+ channel Kir6.2 without ATP</td>\n",
       "      <td>CHEMBL133596</td>\n",
       "      <td>=</td>\n",
       "      <td>924000</td>\n",
       "      <td>nM</td>\n",
       "      <td>NaN</td>\n",
       "      <td>0</td>\n",
       "      <td>6</td>\n",
       "      <td>CCCNC1=NS(=O)(=O)c2sc(Cl)cc2N1</td>\n",
       "    </tr>\n",
       "    <tr>\n",
       "      <th>22</th>\n",
       "      <td>CHEMBL810541</td>\n",
       "      <td>Inhibition of [3H]glibenclamide binding to HEK293 cells co-expressing human Sulfonylurea receptor SUR1 and Inward rectifier K+ channel Kir6.2 at high affinity state with 2 mM MgATP</td>\n",
       "      <td>CHEMBL133663</td>\n",
       "      <td>=</td>\n",
       "      <td>120</td>\n",
       "      <td>nM</td>\n",
       "      <td>6.92</td>\n",
       "      <td>1</td>\n",
       "      <td>7</td>\n",
       "      <td>O=S1(=O)NC(NC2CCC2)=Nc2cc(Cl)sc21</td>\n",
       "    </tr>\n",
       "    <tr>\n",
       "      <th>23</th>\n",
       "      <td>CHEMBL810542</td>\n",
       "      <td>Inhibition of [3H]glibenclamide binding to HEK293 cells co-expressing human Sulfonylurea receptor SUR1 and Inward rectifier K+ channel Kir6.2 at low affinity state with 2 mM MgATP</td>\n",
       "      <td>CHEMBL133663</td>\n",
       "      <td>=</td>\n",
       "      <td>146000</td>\n",
       "      <td>nM</td>\n",
       "      <td>NaN</td>\n",
       "      <td>0</td>\n",
       "      <td>7</td>\n",
       "      <td>O=S1(=O)NC(NC2CCC2)=Nc2cc(Cl)sc21</td>\n",
       "    </tr>\n",
       "    <tr>\n",
       "      <th>24</th>\n",
       "      <td>CHEMBL810543</td>\n",
       "      <td>Inhibition of [3H]glibenclamide binding to HEK293 cells co-expressing human Sulfonylurea receptor SUR1 and Inward rectifier K+ channel Kir6.2 without ATP</td>\n",
       "      <td>CHEMBL133663</td>\n",
       "      <td>=</td>\n",
       "      <td>943000</td>\n",
       "      <td>nM</td>\n",
       "      <td>NaN</td>\n",
       "      <td>0</td>\n",
       "      <td>7</td>\n",
       "      <td>O=S1(=O)NC(NC2CCC2)=Nc2cc(Cl)sc21</td>\n",
       "    </tr>\n",
       "  </tbody>\n",
       "</table>"
      ],
      "text/plain": [
       "<IPython.core.display.HTML object>"
      ]
     },
     "execution_count": 23,
     "metadata": {},
     "output_type": "execute_result"
    }
   ],
   "source": [
    "# Inspect raw data...\n",
    "    \n",
    "cols = ['assay_chemblid', 'description', 'parent_cmpd_chemblid', 'standard_relation', 'standard_value', 'standard_units', 'pchembl_value', 'active', 'usmiles_n', 'usmiles']\n",
    "\n",
    "HTML(data[cols].to_html())"
   ]
  },
  {
   "cell_type": "code",
   "execution_count": 24,
   "metadata": {
    "collapsed": false
   },
   "outputs": [
    {
     "data": {
      "text/html": [
       "<div style=\"max-height:1000px;max-width:1500px;overflow:auto;\">\n",
       "<table border=\"1\" class=\"dataframe\">\n",
       "  <thead>\n",
       "    <tr style=\"text-align: right;\">\n",
       "      <th></th>\n",
       "      <th>description</th>\n",
       "      <th>assay_chemblid</th>\n",
       "      <th>n</th>\n",
       "    </tr>\n",
       "  </thead>\n",
       "  <tbody>\n",
       "    <tr>\n",
       "      <th>0</th>\n",
       "      <td>Inhibition of [3H]glibenclamide binding to HEK293 cells co-expressing human Sulfonylurea receptor SUR1 and Inward rectifier K+ channel Kir6.2 at high affinity state with 2 mM MgATP</td>\n",
       "      <td><a target=\"_blank\" href=\"https://www.ebi.ac.uk/chembl/assay/inspect/CHEMBL810541\">CHEMBL810541</a></td>\n",
       "      <td>8</td>\n",
       "    </tr>\n",
       "    <tr>\n",
       "      <th>1</th>\n",
       "      <td>Inhibition of [3H]glibenclamide binding to HEK293 cells co-expressing human Sulfonylurea receptor SUR1 and Inward rectifier K+ channel Kir6.2 at low affinity state with 2 mM MgATP</td>\n",
       "      <td><a target=\"_blank\" href=\"https://www.ebi.ac.uk/chembl/assay/inspect/CHEMBL810542\">CHEMBL810542</a></td>\n",
       "      <td>8</td>\n",
       "    </tr>\n",
       "    <tr>\n",
       "      <th>2</th>\n",
       "      <td>Inhibition of [3H]glibenclamide binding to HEK293 cells co-expressing human Sulfonylurea receptor SUR1 and Inward rectifier K+ channel Kir6.2 without ATP</td>\n",
       "      <td><a target=\"_blank\" href=\"https://www.ebi.ac.uk/chembl/assay/inspect/CHEMBL810543\">CHEMBL810543</a></td>\n",
       "      <td>7</td>\n",
       "    </tr>\n",
       "    <tr>\n",
       "      <th>3</th>\n",
       "      <td>Inhibition of [3H]glibenclamide binding to HEK293 cells co-expressing human Sulfonylurea receptor SUR1 and Inward rectifier K+ channel Kir6.2 without ATP</td>\n",
       "      <td><a target=\"_blank\" href=\"https://www.ebi.ac.uk/chembl/assay/inspect/CHEMBL810540\">CHEMBL810540</a></td>\n",
       "      <td>2</td>\n",
       "    </tr>\n",
       "  </tbody>\n",
       "</table>\n",
       "</div>"
      ],
      "text/plain": [
       "                                                                                                                                                                            description                                                                                      assay_chemblid  n\n",
       "0  Inhibition of [3H]glibenclamide binding to HEK293 cells co-expressing human Sulfonylurea receptor SUR1 and Inward rectifier K+ channel Kir6.2 at high affinity state with 2 mM MgATP  <a target=\"_blank\" href=\"https://www.ebi.ac.uk/chembl/assay/inspect/CHEMBL810541\">CHEMBL810541</a>  8\n",
       "1   Inhibition of [3H]glibenclamide binding to HEK293 cells co-expressing human Sulfonylurea receptor SUR1 and Inward rectifier K+ channel Kir6.2 at low affinity state with 2 mM MgATP  <a target=\"_blank\" href=\"https://www.ebi.ac.uk/chembl/assay/inspect/CHEMBL810542\">CHEMBL810542</a>  8\n",
       "2                             Inhibition of [3H]glibenclamide binding to HEK293 cells co-expressing human Sulfonylurea receptor SUR1 and Inward rectifier K+ channel Kir6.2 without ATP  <a target=\"_blank\" href=\"https://www.ebi.ac.uk/chembl/assay/inspect/CHEMBL810543\">CHEMBL810543</a>  7\n",
       "3                             Inhibition of [3H]glibenclamide binding to HEK293 cells co-expressing human Sulfonylurea receptor SUR1 and Inward rectifier K+ channel Kir6.2 without ATP  <a target=\"_blank\" href=\"https://www.ebi.ac.uk/chembl/assay/inspect/CHEMBL810540\">CHEMBL810540</a>  2"
      ]
     },
     "execution_count": 24,
     "metadata": {},
     "output_type": "execute_result"
    }
   ],
   "source": [
    "# Inspect assays...\n",
    "\n",
    "def f(x):\n",
    "    \n",
    "    x['assay_chemblid'] = '<a target=\"_blank\" href=\"https://www.ebi.ac.uk/chembl/assay/inspect/{}\">{}</a>'.format(* [x['assay_chemblid']]*2)\n",
    "    \n",
    "    return x\n",
    "\n",
    "table_of_assays.sort('description').reset_index(drop=True).apply(f, axis=1)"
   ]
  },
  {
   "cell_type": "markdown",
   "metadata": {},
   "source": [
    "### Conclusions\n",
    "\n",
    "* GRIN1 / Rat: there seems to be considerable discepancies among the various assays, and merging data for the different isoforms may not be supportable in this case. This can also be seen in the notebook '[GRIN1](Correlation_Targets_Rat.html)'."
   ]
  }
 ],
 "metadata": {
  "kernelspec": {
   "display_name": "Python 2",
   "language": "python",
   "name": "python2"
  },
  "language_info": {
   "codemirror_mode": {
    "name": "ipython",
    "version": 2
   },
   "file_extension": ".py",
   "mimetype": "text/x-python",
   "name": "python",
   "nbconvert_exporter": "python",
   "pygments_lexer": "ipython2",
   "version": "2.7.10"
  }
 },
 "nbformat": 4,
 "nbformat_minor": 0
}
