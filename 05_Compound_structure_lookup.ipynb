{
 "cells": [
  {
   "cell_type": "markdown",
   "metadata": {},
   "source": [
    "# Compound structure lookup"
   ]
  },
  {
   "cell_type": "code",
   "execution_count": 1,
   "metadata": {
    "collapsed": true
   },
   "outputs": [],
   "source": [
    "# ChEMBL connection...\n",
    "\n",
    "engine = create_engine(open('database.txt').read().strip())"
   ]
  },
  {
   "cell_type": "markdown",
   "metadata": {},
   "source": [
    "## Get SMILES and parent_cmpd_chemblid\n",
    "\n",
    "See notebook [02_Map_ChEMBL_targets_and_get_curve_data](02_Map_ChEMBL_targets_and_get_curve_data.ipynb#get_curve_data) for details on how data table '`tt_curve_data_v2`' was created. It is used here as it subsumes table '`tt_curve_data_v1`'."
   ]
  },
  {
   "cell_type": "code",
   "execution_count": 2,
   "metadata": {
    "collapsed": false
   },
   "outputs": [
    {
     "data": {
      "text/plain": [
       "(263626, 4)"
      ]
     },
     "execution_count": 2,
     "metadata": {},
     "output_type": "execute_result"
    }
   ],
   "source": [
    "tt_structure_lookup = pd.read_sql_query(\"\"\"\n",
    "    select distinct\n",
    "          parent_cmpd_chemblid as cmpd\n",
    "        , smiles\n",
    "        , amw\n",
    "        , nat\n",
    "    from\n",
    "        tt_curve_data_v2\n",
    "    order by\n",
    "        parent_cmpd_chemblid\n",
    "\"\"\", engine)\n",
    "\n",
    "tt_structure_lookup.shape"
   ]
  },
  {
   "cell_type": "markdown",
   "metadata": {},
   "source": [
    "## Add molecules"
   ]
  },
  {
   "cell_type": "code",
   "execution_count": 3,
   "metadata": {
    "collapsed": true
   },
   "outputs": [],
   "source": [
    "# Add molecules...\n",
    "\n",
    "PandasTools.AddMoleculeColumnToFrame(tt_structure_lookup, smilesCol='smiles', molCol='mol')"
   ]
  },
  {
   "cell_type": "code",
   "execution_count": 4,
   "metadata": {
    "collapsed": false
   },
   "outputs": [
    {
     "data": {
      "text/plain": [
       "6"
      ]
     },
     "execution_count": 4,
     "metadata": {},
     "output_type": "execute_result"
    }
   ],
   "source": [
    "# Check for failures to build a molecule...\n",
    "\n",
    "failed = tt_structure_lookup['mol'].isnull()\n",
    "\n",
    "sum(failed)"
   ]
  },
  {
   "cell_type": "code",
   "execution_count": 5,
   "metadata": {
    "collapsed": false
   },
   "outputs": [
    {
     "data": {
      "text/html": [
       "<div style=\"max-height:1000px;max-width:1500px;overflow:auto;\">\n",
       "<table border=\"1\" class=\"dataframe\">\n",
       "  <thead>\n",
       "    <tr style=\"text-align: right;\">\n",
       "      <th></th>\n",
       "      <th>cmpd</th>\n",
       "      <th>smiles</th>\n",
       "      <th>amw</th>\n",
       "      <th>nat</th>\n",
       "      <th>mol</th>\n",
       "    </tr>\n",
       "  </thead>\n",
       "  <tbody>\n",
       "    <tr>\n",
       "      <th>7494</th>\n",
       "      <td>CHEMBL1161633</td>\n",
       "      <td>OCl(=O)=O</td>\n",
       "      <td>84.46</td>\n",
       "      <td>4</td>\n",
       "      <td>None</td>\n",
       "    </tr>\n",
       "    <tr>\n",
       "      <th>7496</th>\n",
       "      <td>CHEMBL1161635</td>\n",
       "      <td>OBr(=O)=O</td>\n",
       "      <td>128.91</td>\n",
       "      <td>4</td>\n",
       "      <td>None</td>\n",
       "    </tr>\n",
       "    <tr>\n",
       "      <th>7498</th>\n",
       "      <td>CHEMBL1161637</td>\n",
       "      <td>OI(=O)(=O)=O</td>\n",
       "      <td>191.91</td>\n",
       "      <td>5</td>\n",
       "      <td>None</td>\n",
       "    </tr>\n",
       "    <tr>\n",
       "      <th>144981</th>\n",
       "      <td>CHEMBL181124</td>\n",
       "      <td>F[P-](F)(F)(F)(F)F</td>\n",
       "      <td>144.96</td>\n",
       "      <td>7</td>\n",
       "      <td>None</td>\n",
       "    </tr>\n",
       "    <tr>\n",
       "      <th>151011</th>\n",
       "      <td>CHEMBL1906899</td>\n",
       "      <td>OCl=O</td>\n",
       "      <td>68.46</td>\n",
       "      <td>3</td>\n",
       "      <td>None</td>\n",
       "    </tr>\n",
       "    <tr>\n",
       "      <th>235724</th>\n",
       "      <td>CHEMBL450200</td>\n",
       "      <td>CC1=NC2=N(=NC=N2)C(=C1)OCCCN(CC(c3ccccc3)c4ccccc4)Cc5cccc(c5Cl)C(F)(F)F</td>\n",
       "      <td>580.04</td>\n",
       "      <td>41</td>\n",
       "      <td>None</td>\n",
       "    </tr>\n",
       "  </tbody>\n",
       "</table>\n",
       "</div>"
      ],
      "text/plain": [
       "                 cmpd                                                                   smiles     amw  nat   mol\n",
       "7494    CHEMBL1161633                                                                OCl(=O)=O   84.46    4  None\n",
       "7496    CHEMBL1161635                                                                OBr(=O)=O  128.91    4  None\n",
       "7498    CHEMBL1161637                                                             OI(=O)(=O)=O  191.91    5  None\n",
       "144981   CHEMBL181124                                                       F[P-](F)(F)(F)(F)F  144.96    7  None\n",
       "151011  CHEMBL1906899                                                                    OCl=O   68.46    3  None\n",
       "235724   CHEMBL450200  CC1=NC2=N(=NC=N2)C(=C1)OCCCN(CC(c3ccccc3)c4ccccc4)Cc5cccc(c5Cl)C(F)(F)F  580.04   41  None"
      ]
     },
     "execution_count": 5,
     "metadata": {},
     "output_type": "execute_result"
    }
   ],
   "source": [
    "# Inspect failures...\n",
    "\n",
    "tt_structure_lookup[failed]"
   ]
  },
  {
   "cell_type": "code",
   "execution_count": 6,
   "metadata": {
    "collapsed": false
   },
   "outputs": [
    {
     "data": {
      "text/plain": [
       "(263620, 5)"
      ]
     },
     "execution_count": 6,
     "metadata": {},
     "output_type": "execute_result"
    }
   ],
   "source": [
    "# Remove failed records...\n",
    "\n",
    "tt_structure_lookup = tt_structure_lookup[~failed].reset_index(drop=True)\n",
    "\n",
    "tt_structure_lookup.shape"
   ]
  },
  {
   "cell_type": "markdown",
   "metadata": {},
   "source": [
    "## Add USMILES"
   ]
  },
  {
   "cell_type": "code",
   "execution_count": 7,
   "metadata": {
    "collapsed": false
   },
   "outputs": [
    {
     "data": {
      "text/plain": [
       "(263620, 6)"
      ]
     },
     "execution_count": 7,
     "metadata": {},
     "output_type": "execute_result"
    }
   ],
   "source": [
    "# Add USMILES...\n",
    "    \n",
    "tt_structure_lookup['usmiles'] = tt_structure_lookup['mol'].apply(lambda x: Chem.MolToSmiles(x) if x else None)\n",
    "\n",
    "tt_structure_lookup.shape"
   ]
  },
  {
   "cell_type": "code",
   "execution_count": 8,
   "metadata": {
    "collapsed": false
   },
   "outputs": [
    {
     "data": {
      "text/plain": [
       "0"
      ]
     },
     "execution_count": 8,
     "metadata": {},
     "output_type": "execute_result"
    }
   ],
   "source": [
    "failed = tt_structure_lookup['usmiles'].isnull()\n",
    "\n",
    "sum(failed)"
   ]
  },
  {
   "cell_type": "markdown",
   "metadata": {},
   "source": [
    "## Add Murko Scaffolds"
   ]
  },
  {
   "cell_type": "code",
   "execution_count": 9,
   "metadata": {
    "collapsed": false
   },
   "outputs": [
    {
     "data": {
      "text/plain": [
       "(263620, 7)"
      ]
     },
     "execution_count": 9,
     "metadata": {},
     "output_type": "execute_result"
    }
   ],
   "source": [
    "# Add Murko Scaffolds...\n",
    "\n",
    "PandasTools.AddMurckoToFrame(tt_structure_lookup, molCol='mol', MurckoCol='core_smiles', Generic=False)\n",
    "\n",
    "tt_structure_lookup.shape"
   ]
  },
  {
   "cell_type": "code",
   "execution_count": 10,
   "metadata": {
    "collapsed": false
   },
   "outputs": [
    {
     "data": {
      "text/plain": [
       "0"
      ]
     },
     "execution_count": 10,
     "metadata": {},
     "output_type": "execute_result"
    }
   ],
   "source": [
    "failed = tt_structure_lookup['core_smiles'].isnull()\n",
    "\n",
    "sum(failed)"
   ]
  },
  {
   "cell_type": "code",
   "execution_count": 11,
   "metadata": {
    "collapsed": false
   },
   "outputs": [
    {
     "data": {
      "text/html": [
       "<div style=\"max-height:1000px;max-width:1500px;overflow:auto;\">\n",
       "<table border=\"1\" class=\"dataframe\">\n",
       "  <thead>\n",
       "    <tr style=\"text-align: right;\">\n",
       "      <th></th>\n",
       "      <th>cmpd</th>\n",
       "      <th>smiles</th>\n",
       "      <th>amw</th>\n",
       "      <th>nat</th>\n",
       "      <th>mol</th>\n",
       "      <th>usmiles</th>\n",
       "      <th>core_smiles</th>\n",
       "    </tr>\n",
       "  </thead>\n",
       "  <tbody>\n",
       "    <tr>\n",
       "      <th>0</th>\n",
       "      <td>CHEMBL1</td>\n",
       "      <td>COc1ccc2[C@@H]3[C@H](COc2c1)C(C)(C)OC4=C3C(=O)C(=O)C5=C4OC(C)(C)[C@@H]6COc7cc(OC)ccc7[C@H]56</td>\n",
       "      <td>544.59</td>\n",
       "      <td>40</td>\n",
       "      <td><img src=\"data:image/png;base64,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\" alt=\"Mol\"/></td>\n",
       "      <td>COc1ccc2c(c1)OCC1C2C2=C(OC1(C)C)C1=C(C(=O)C2=O)C2c3ccc(OC)cc3OCC2C(C)(C)O1</td>\n",
       "      <td>O=C1C(=O)C2=C(OCC3COc4ccccc4C23)C2=C1C1c3ccccc3OCC1CO2</td>\n",
       "    </tr>\n",
       "  </tbody>\n",
       "</table>\n",
       "</div>"
      ],
      "text/plain": [
       "      cmpd                                                                                        smiles     amw  nat                                                                                                                                                                                                                                                                                                                                                                                                                                                                                                                                                                                                                                                                                                                                                                                                                                                                                                                                                                                                                                                                                                                                                                                                                                                                                                                                                                                                                                                                                                                                                                                                                                                                                                                                                                                                                                                                                                                                                                                                                                                                                                                                                                                                                                                                                                                                                                                                                                                                                                                                                                                                                                                                                                                                                                                                                                                                                                                                                                                                                                                                                                                                                                                                                                                                                                                                                                                                                                                                                                                                                                                                                                                                                                                                                                                                                                                                                                                                                                                                                                                                                                                                                                                                                                                                                                                                                                                                                                                                                                                                                                                                                                                                                                                                                                                                                                                                                                                                                                                                                                                                                                                                                                                                                                                                                                                                                                                                                                                                                                                                                                                                                                                                                                                                                                                                                                                                                                                                                                                                                                                                                                                                                                                                                                                                                                                                                                                                                                                                                                                                                                                                                                                                                                                                                                                                                                                                                                                                                                                                                                                                                                                                                                                                                                                                                                                                                                                                                                                                                                                                                                                                                                                                                                                                                                                                                                                                                                                                                                                                                                                                                                                                                                                                                                                                                                                                                                                                                                                                                                                                                                                                                                                                                                                                                                                                                                                                                                                                                                                                                                                                                                                                                                                                                                                                                                                                                                                                                                                                                                                                                                                                                                                                                                                                                                                                                                                                                                                                                                                                                                                                                                                                                                                                                                                                                                                                                                                                                                                                                                                                                                                                                                                                                                                                                                                                                                                                                                                                                                                                                                                                                                                                                                                                                                                                                                                                                                                                                                                                                                                                                                                                                                                                                                                                                                                                                                                                                                                                                                                                                                                                                                                                                                                                                                                                                                                                                                                                                                                                                                                                                                                                                                                                                                                                                                                                                                                                                                                                                                                                                                                                                                                                                                                                                                                                                                                                                                                                                                                                                                                                                                                                                                                                                                                                                                                                                                                                                                                                                                                                                                                                                                                                                                                                                                                                                                                                                                                                                                                                                                                                                                                                                                                                                                                                                                                                                                                                                                                                                                                                                                                                                                                                                                                                                                                                                                                                                                                                                                                                                                                                                                                                                                                                                                                                                                                                                                                                                                                                                                                                                                                                                                                                                                                                                                                                                                                                                                                                                                                                                                                                                                                                                                                                                                                                                                                                                                                                                                                                                                                                                                                                                                                                                                                                                                                                                                                                                                                                                                                                                                                                                                                                                                                                                                                                                                                                                                                                                                                                                                                                                                                                                                                                                                                                                                                                                                                                            mol                                                                     usmiles                                             core_smiles\n",
       "0  CHEMBL1  COc1ccc2[C@@H]3[C@H](COc2c1)C(C)(C)OC4=C3C(=O)C(=O)C5=C4OC(C)(C)[C@@H]6COc7cc(OC)ccc7[C@H]56  544.59   40  <img src=\"data:image/png;base64,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\" alt=\"Mol\"/>  COc1ccc2c(c1)OCC1C2C2=C(OC1(C)C)C1=C(C(=O)C2=O)C2c3ccc(OC)cc3OCC2C(C)(C)O1  O=C1C(=O)C2=C(OCC3COc4ccccc4C23)C2=C1C1c3ccccc3OCC1CO2"
      ]
     },
     "execution_count": 11,
     "metadata": {},
     "output_type": "execute_result"
    }
   ],
   "source": [
    "tt_structure_lookup.head(1)"
   ]
  },
  {
   "cell_type": "markdown",
   "metadata": {},
   "source": [
    "## Save table"
   ]
  },
  {
   "cell_type": "code",
   "execution_count": 12,
   "metadata": {
    "collapsed": true
   },
   "outputs": [],
   "source": [
    "# Save locally...\n",
    "\n",
    "tt_structure_lookup.to_pickle('tt_structure_lookup.pkl')"
   ]
  },
  {
   "cell_type": "code",
   "execution_count": 22,
   "metadata": {
    "collapsed": false
   },
   "outputs": [],
   "source": [
    "# Write to RDBMS...\n",
    "\n",
    "tt_structure_lookup[['cmpd', 'smiles', 'amw', 'nat', 'usmiles', 'core_smiles']].to_sql('tt_structure_lookup', engine, dtype={\n",
    "    'cmpd':        VARCHAR2(20),\n",
    "    'smiles':      VARCHAR2(4000),\n",
    "    'amw':         NUMBER(9, 2),\n",
    "    'nat':         NUMBER(3, 0),\n",
    "    'usmiles':     VARCHAR2(4000),\n",
    "    'core_smiles': VARCHAR2(4000),\n",
    "}, if_exists='replace', index=False)\n",
    "\n",
    "# Add indexes...\n",
    "\n",
    "for col in ['cmpd', 'smiles', 'usmiles']: engine.execute(\"create index {}_idx on tt_structure_lookup({})\".format(*[col]*2))"
   ]
  },
  {
   "cell_type": "markdown",
   "metadata": {},
   "source": [
    "## Checks"
   ]
  },
  {
   "cell_type": "code",
   "execution_count": 23,
   "metadata": {
    "collapsed": false
   },
   "outputs": [
    {
     "data": {
      "text/plain": [
       "263620"
      ]
     },
     "execution_count": 23,
     "metadata": {},
     "output_type": "execute_result"
    }
   ],
   "source": [
    "engine.execute(\"select count(*) n from tt_structure_lookup\").fetchone()[0]"
   ]
  },
  {
   "cell_type": "code",
   "execution_count": 24,
   "metadata": {
    "collapsed": false
   },
   "outputs": [
    {
     "name": "stdout",
     "output_type": "stream",
     "text": [
      "CPU times: user 5.77 s, sys: 331 ms, total: 6.1 s\n",
      "Wall time: 8.79 s\n"
     ]
    }
   ],
   "source": [
    "%%time\n",
    "\n",
    "df = pd.read_sql_table('tt_structure_lookup', engine)"
   ]
  },
  {
   "cell_type": "code",
   "execution_count": 25,
   "metadata": {
    "collapsed": false
   },
   "outputs": [
    {
     "data": {
      "text/plain": [
       "(263620, 6)"
      ]
     },
     "execution_count": 25,
     "metadata": {},
     "output_type": "execute_result"
    }
   ],
   "source": [
    "df.shape"
   ]
  },
  {
   "cell_type": "code",
   "execution_count": 26,
   "metadata": {
    "collapsed": false
   },
   "outputs": [
    {
     "data": {
      "text/plain": [
       "263620"
      ]
     },
     "execution_count": 26,
     "metadata": {},
     "output_type": "execute_result"
    }
   ],
   "source": [
    "df['cmpd'].unique().size"
   ]
  },
  {
   "cell_type": "markdown",
   "metadata": {},
   "source": [
    "As expected, `parent_cmpd_chemblid` is unique."
   ]
  },
  {
   "cell_type": "code",
   "execution_count": 27,
   "metadata": {
    "collapsed": false
   },
   "outputs": [
    {
     "data": {
      "text/plain": [
       "263558"
      ]
     },
     "execution_count": 27,
     "metadata": {},
     "output_type": "execute_result"
    }
   ],
   "source": [
    "df['smiles'].unique().size"
   ]
  },
  {
   "cell_type": "markdown",
   "metadata": {},
   "source": [
    "The SMILES cound is slightly smaller than the `parent_cmpd_chemblid` count (which corresponds to InChIs) as some compounds (e.g. -N=N-) cannot have their stereochemistry represented in SMILES, so multiple stereoisomers give degenerate SMILES."
   ]
  },
  {
   "cell_type": "code",
   "execution_count": 28,
   "metadata": {
    "collapsed": false
   },
   "outputs": [
    {
     "data": {
      "text/plain": [
       "253617"
      ]
     },
     "execution_count": 28,
     "metadata": {},
     "output_type": "execute_result"
    }
   ],
   "source": [
    "df['usmiles'].unique().size"
   ]
  },
  {
   "cell_type": "markdown",
   "metadata": {},
   "source": [
    "Count for unique USMILES is smaller as expected."
   ]
  }
 ],
 "metadata": {
  "kernelspec": {
   "display_name": "Python 2",
   "language": "python",
   "name": "python2"
  },
  "language_info": {
   "codemirror_mode": {
    "name": "ipython",
    "version": 2
   },
   "file_extension": ".py",
   "mimetype": "text/x-python",
   "name": "python",
   "nbconvert_exporter": "python",
   "pygments_lexer": "ipython2",
   "version": "2.7.10"
  }
 },
 "nbformat": 4,
 "nbformat_minor": 0
}
