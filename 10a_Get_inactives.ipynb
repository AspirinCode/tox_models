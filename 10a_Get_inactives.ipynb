{
 "cells": [
  {
   "cell_type": "markdown",
   "metadata": {},
   "source": [
    "# Inactives\n",
    "\n",
    "For testing purposes."
   ]
  },
  {
   "cell_type": "code",
   "execution_count": 26,
   "metadata": {
    "collapsed": true
   },
   "outputs": [],
   "source": [
    "import cPickle as pickle\n",
    "\n",
    "from local_utils.rdkit_utils import FP"
   ]
  },
  {
   "cell_type": "markdown",
   "metadata": {},
   "source": [
    "## Config"
   ]
  },
  {
   "cell_type": "code",
   "execution_count": 27,
   "metadata": {
    "collapsed": true
   },
   "outputs": [],
   "source": [
    "# Maximun number of inactives to take if available...\n",
    "\n",
    "n_max = 1000"
   ]
  },
  {
   "cell_type": "code",
   "execution_count": 28,
   "metadata": {
    "collapsed": true
   },
   "outputs": [],
   "source": [
    "# ChEMBL connection...\n",
    "\n",
    "engine = create_engine(open('database.txt').read().strip())"
   ]
  },
  {
   "cell_type": "markdown",
   "metadata": {},
   "source": [
    "##  Actives\n",
    "\n",
    "Active parent compounds for those Human targets which have at least the minimium required number of actives (_i.e._ those involved in the model building).\n",
    "\n",
    "* See notebook '[10_Get_actives_and_mols](10_Get_actives_and_mols.ipynb)' for further details of files'`actives.pkl` and '`active_mols.pkl`'."
   ]
  },
  {
   "cell_type": "code",
   "execution_count": 29,
   "metadata": {
    "collapsed": false
   },
   "outputs": [
    {
     "data": {
      "text/plain": [
       "((167055, 2), (104749, 3))"
      ]
     },
     "execution_count": 29,
     "metadata": {},
     "output_type": "execute_result"
    }
   ],
   "source": [
    "actives, active_mols = pickle.load(open('actives.pkl'))\n",
    "\n",
    "actives.shape, active_mols.shape"
   ]
  },
  {
   "cell_type": "code",
   "execution_count": 30,
   "metadata": {
    "collapsed": false
   },
   "outputs": [
    {
     "data": {
      "text/html": [
       "<div style=\"max-height:1000px;max-width:1500px;overflow:auto;\">\n",
       "<table border=\"1\" class=\"dataframe\">\n",
       "  <thead>\n",
       "    <tr style=\"text-align: right;\">\n",
       "      <th></th>\n",
       "      <th>symbol</th>\n",
       "      <th>usmiles</th>\n",
       "    </tr>\n",
       "    <tr>\n",
       "      <th>symbol</th>\n",
       "      <th></th>\n",
       "      <th></th>\n",
       "    </tr>\n",
       "  </thead>\n",
       "  <tbody>\n",
       "    <tr>\n",
       "      <th>ABCB1</th>\n",
       "      <td>ABCB1</td>\n",
       "      <td>C=CC(C)(C)c1c(O)cc(O)c2c(=O)c(O)c(-c3ccc(OC)cc3)oc12</td>\n",
       "    </tr>\n",
       "  </tbody>\n",
       "</table>\n",
       "</div>"
      ],
      "text/plain": [
       "       symbol                                               usmiles\n",
       "symbol                                                             \n",
       "ABCB1   ABCB1  C=CC(C)(C)c1c(O)cc(O)c2c(=O)c(O)c(-c3ccc(OC)cc3)oc12"
      ]
     },
     "execution_count": 30,
     "metadata": {},
     "output_type": "execute_result"
    }
   ],
   "source": [
    "actives.head(1)"
   ]
  },
  {
   "cell_type": "code",
   "execution_count": 31,
   "metadata": {
    "collapsed": false
   },
   "outputs": [
    {
     "data": {
      "text/html": [
       "<div style=\"max-height:1000px;max-width:1500px;overflow:auto;\">\n",
       "<table border=\"1\" class=\"dataframe\">\n",
       "  <thead>\n",
       "    <tr style=\"text-align: right;\">\n",
       "      <th></th>\n",
       "      <th>mol</th>\n",
       "      <th>FP</th>\n",
       "      <th>core_smiles</th>\n",
       "    </tr>\n",
       "    <tr>\n",
       "      <th>usmiles</th>\n",
       "      <th></th>\n",
       "      <th></th>\n",
       "      <th></th>\n",
       "    </tr>\n",
       "  </thead>\n",
       "  <tbody>\n",
       "    <tr>\n",
       "      <th>C=CC(C)(C)c1c(O)cc(O)c2c(=O)c(O)c(-c3ccc(OC)cc3)oc12</th>\n",
       "      <td><img src=\"data:image/png;base64,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\" alt=\"Mol\"/></td>\n",
       "      <td>[0 0 0 ..., 0 0 0]</td>\n",
       "      <td>O=c1cc(-c2ccccc2)oc2ccccc12</td>\n",
       "    </tr>\n",
       "  </tbody>\n",
       "</table>\n",
       "</div>"
      ],
      "text/plain": [
       "                                                                                                                                                                                                                                                                                                                                                                                                                                                                                                                                                                                                                                                                                                                                                                                                                                                                                                                                                                                                                                                                                                                                                                                                                                                                                                                                                                                                                                                                                                                                                                                                                                                                                                                                                                                                                                                                                                                                                                                                                                                                                                                                                                                                                                                                                                                                                                                                                                                                                                                                                                                                                                                                                                                                                                                                                                                                                                                                                                                                                                                                                                                                                                                                                                                                                                                                                                                                                                                                                                                                                                                                                                                                                                                                                                                                                                                                                                                                                                                                                                                                                                                                                                                                                                                                                                                                                                                                                                                                                                                                                                                                                                                                                                                                                                                                                                                                                                                                                                                                                                                                                                                                                                                                                                                                                                                                                                                                                                                                                                                                                                                                                                                                                                                                                                                                                                                                                                                                                                                                                                                                                                                                                                                                                                                                                                                                                                                                                                                                                                                                                                                                                                                                                                                                                                                                                                                                                                                                                                                                                                                                                                                                                                                                                                                                                                                                                                                                                                                                                                                                                                                                                                                                                                                                                                                                                                                                                                                                                                                                                                                                                                                                                                                                                                                                                                                                                                                                                                                                                                                                                                                                                                                                                                                                                                                                                                                                                                                                                                                                                                                                                                                                                                                                                                                                                                                                                                                                                                                                                                                                                                                                                                                                                                                                                                                                                                                                                                                                                                                                                                                                                                                                                                                                                                                                                                                                                                                                                                                                                                                                                                                                                                                                                                                                                                                                                                                                                                                                                                                                                                                                                                                                                                                                                                                                                                                                                                                                                                                                                                                                                                                                                                                                                                                                                                                                                                                                                                                                                                                                                                                                                                                                                                                                                                                                                                                                                                                                                                                                                                                                                                                                                                                                                                                                                                                                                                                                                                                                                                                                                                                                                                                                                                                                                                                                                                                                                                                                                                                                                                                                                                                                                                                                                                                                                                                                                                                                                                                                                                                                                                                                                                                                                                                                                                                                                                                                                                                                                                                                                                                                                                                                                                                                                                                                                                                                                                                                                                                                                                                                                                                                                                                                                                                                                                                                                                                                                                                                                                                                                                                                                                                                                                                        mol                  FP                  core_smiles\n",
       "usmiles                                                                                                                                                                                                                                                                                                                                                                                                                                                                                                                                                                                                                                                                                                                                                                                                                                                                                                                                                                                                                                                                                                                                                                                                                                                                                                                                                                                                                                                                                                                                                                                                                                                                                                                                                                                                                                                                                                                                                                                                                                                                                                                                                                                                                                                                                                                                                                                                                                                                                                                                                                                                                                                                                                                                                                                                                                                                                                                                                                                                                                                                                                                                                                                                                                                                                                                                                                                                                                                                                                                                                                                                                                                                                                                                                                                                                                                                                                                                                                                                                                                                                                                                                                                                                                                                                                                                                                                                                                                                                                                                                                                                                                                                                                                                                                                                                                                                                                                                                                                                                                                                                                                                                                                                                                                                                                                                                                                                                                                                                                                                                                                                                                                                                                                                                                                                                                                                                                                                                                                                                                                                                                                                                                                                                                                                                                                                                                                                                                                                                                                                                                                                                                                                                                                                                                                                                                                                                                                                                                                                                                                                                                                                                                                                                                                                                                                                                                                                                                                                                                                                                                                                                                                                                                                                                                                                                                                                                                                                                                                                                                                                                                                                                                                                                                                                                                                                                                                                                                                                                                                                                                                                                                                                                                                                                                                                                                                                                                                                                                                                                                                                                                                                                                                                                                                                                                                                                                                                                                                                                                                                                                                                                                                                                                                                                                                                                                                                                                                                                                                                                                                                                                                                                                                                                                                                                                                                                                                                                                                                                                                                                                                                                                                                                                                                                                                                                                                                                                                                                                                                                                                                                                                                                                                                                                                                                                                                                                                                                                                                                                                                                                                                                                                                                                                                                                                                                                                                                                                                                                                                                                                                                                                                                                                                                                                                                                                                                                                                                                                                                                                                                                                                                                                                                                                                                                                                                                                                                                                                                                                                                                                                                                                                                                                                                                                                                                                                                                                                                                                                                                                                                                                                                                                                                                                                                                                                                                                                                                                                                                                                                                                                                                                                                                                                                                                                                                                                                                                                                                                                                                                                                                                                                                                                                                                                                                                                                                                                                                                                                                                                                                                                                                                                                                                                                                                                                                                                                                                                                                                                                                                                                                                                                                                                                                     \n",
       "C=CC(C)(C)c1c(O)cc(O)c2c(=O)c(O)c(-c3ccc(OC)cc3)oc12  <img src=\"data:image/png;base64,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\" alt=\"Mol\"/>  [0 0 0 ..., 0 0 0]  O=c1cc(-c2ccccc2)oc2ccccc12"
      ]
     },
     "execution_count": 31,
     "metadata": {},
     "output_type": "execute_result"
    }
   ],
   "source": [
    "active_mols.head(1)"
   ]
  },
  {
   "cell_type": "markdown",
   "metadata": {},
   "source": [
    "## Get Inactives\n",
    "\n",
    "Get all inactives for the targets of interest.\n",
    "\n",
    "Attempt to select those that are relatively unambiguous."
   ]
  },
  {
   "cell_type": "code",
   "execution_count": 32,
   "metadata": {
    "collapsed": false
   },
   "outputs": [
    {
     "data": {
      "text/plain": [
       "138"
      ]
     },
     "execution_count": 32,
     "metadata": {},
     "output_type": "execute_result"
    }
   ],
   "source": [
    "# Symbols for the targets of interest...\n",
    "\n",
    "symbols = actives.index.unique().tolist()\n",
    "\n",
    "len(symbols)"
   ]
  },
  {
   "cell_type": "code",
   "execution_count": 33,
   "metadata": {
    "collapsed": false
   },
   "outputs": [
    {
     "data": {
      "text/plain": [
       "(192530, 2)"
      ]
     },
     "execution_count": 33,
     "metadata": {},
     "output_type": "execute_result"
    }
   ],
   "source": [
    "inactives = pd.read_sql(\"\"\"\n",
    "    select\n",
    "          a.symbol\n",
    "        , a.usmiles\n",
    "    from \n",
    "        tt_activity_counts a\n",
    "        join (select distinct usmiles, nat from tt_structure_lookup) b on a.usmiles = b.usmiles\n",
    "    where\n",
    "        a.species = 'Human'\n",
    "    and a.n_active = 0\n",
    "    and b.nat >= 10\n",
    "    and b.nat <= 50\n",
    "    and symbol in ({})\n",
    "\"\"\".format(','.join(\"'{}'\".format(x) for x in symbols)), engine)\n",
    "\n",
    "inactives.shape"
   ]
  },
  {
   "cell_type": "code",
   "execution_count": 34,
   "metadata": {
    "collapsed": false,
    "scrolled": true
   },
   "outputs": [
    {
     "data": {
      "text/plain": [
       "(138, 2)"
      ]
     },
     "execution_count": 34,
     "metadata": {},
     "output_type": "execute_result"
    }
   ],
   "source": [
    "# Count of inactives meeting conditions...\n",
    "\n",
    "counts = actives.groupby('symbol').apply(len).to_frame('n_active').merge(inactives.groupby('symbol').apply(len).to_frame('n_inactive'), left_index=True, right_index=True)\n",
    "\n",
    "counts.shape"
   ]
  },
  {
   "cell_type": "code",
   "execution_count": 37,
   "metadata": {
    "collapsed": false,
    "scrolled": true
   },
   "outputs": [
    {
     "data": {
      "text/plain": [
       "<matplotlib.axes._subplots.AxesSubplot at 0x11ab99810>"
      ]
     },
     "execution_count": 37,
     "metadata": {},
     "output_type": "execute_result"
    },
    {
     "data": {
      "image/png": "[encoded data removed]",
      "text/plain": [
       "<matplotlib.figure.Figure at 0x11ab99110>"
      ]
     },
     "metadata": {},
     "output_type": "display_data"
    }
   ],
   "source": [
    "counts.plot(x='n_active', y='n_inactive', kind='scatter')"
   ]
  },
  {
   "cell_type": "code",
   "execution_count": 39,
   "metadata": {
    "collapsed": false
   },
   "outputs": [
    {
     "data": {
      "text/html": [
       "<div style=\"max-height:1000px;max-width:1500px;overflow:auto;\">\n",
       "<table border=\"1\" class=\"dataframe\">\n",
       "  <thead>\n",
       "    <tr style=\"text-align: right;\">\n",
       "      <th></th>\n",
       "      <th>n_active</th>\n",
       "      <th>n_inactive</th>\n",
       "    </tr>\n",
       "    <tr>\n",
       "      <th>symbol</th>\n",
       "      <th></th>\n",
       "      <th></th>\n",
       "    </tr>\n",
       "  </thead>\n",
       "  <tbody>\n",
       "    <tr>\n",
       "      <th>VDR</th>\n",
       "      <td>175</td>\n",
       "      <td>20064</td>\n",
       "    </tr>\n",
       "    <tr>\n",
       "      <th>CYP2D6</th>\n",
       "      <td>4010</td>\n",
       "      <td>15119</td>\n",
       "    </tr>\n",
       "    <tr>\n",
       "      <th>CYP3A4</th>\n",
       "      <td>7545</td>\n",
       "      <td>14023</td>\n",
       "    </tr>\n",
       "    <tr>\n",
       "      <th>CYP2C9</th>\n",
       "      <td>5685</td>\n",
       "      <td>12399</td>\n",
       "    </tr>\n",
       "    <tr>\n",
       "      <th>CYP1A2</th>\n",
       "      <td>6140</td>\n",
       "      <td>11399</td>\n",
       "    </tr>\n",
       "  </tbody>\n",
       "</table>\n",
       "</div>"
      ],
      "text/plain": [
       "        n_active  n_inactive\n",
       "symbol                      \n",
       "VDR          175       20064\n",
       "CYP2D6      4010       15119\n",
       "CYP3A4      7545       14023\n",
       "CYP2C9      5685       12399\n",
       "CYP1A2      6140       11399"
      ]
     },
     "execution_count": 39,
     "metadata": {},
     "output_type": "execute_result"
    }
   ],
   "source": [
    "counts.sort('n_inactive', ascending=False).head()"
   ]
  },
  {
   "cell_type": "markdown",
   "metadata": {},
   "source": [
    "## Subset Inactives\n",
    "\n",
    "Due to the large imbalance of numbers, make a (random) selection for the more abundant targets."
   ]
  },
  {
   "cell_type": "code",
   "execution_count": 15,
   "metadata": {
    "collapsed": true
   },
   "outputs": [],
   "source": [
    "inactives0 = inactives"
   ]
  },
  {
   "cell_type": "code",
   "execution_count": 16,
   "metadata": {
    "collapsed": false
   },
   "outputs": [
    {
     "data": {
      "text/plain": [
       "(81966, 2)"
      ]
     },
     "execution_count": 16,
     "metadata": {},
     "output_type": "execute_result"
    }
   ],
   "source": [
    "def f(group):\n",
    "    \n",
    "    compounds = group['usmiles'].values\n",
    "\n",
    "    n_mols = compounds.size\n",
    "        \n",
    "    subset = compounds[np.random.permutation(n_mols)[:min(n_mols, n_max)]]\n",
    "    \n",
    "    return pd.DataFrame({'usmiles': subset})\n",
    "\n",
    "inactives = inactives.groupby('symbol').apply(f)\\\n",
    "    .reset_index(level=1, drop=True)\\\n",
    "    .reset_index().sort(['symbol', 'usmiles'])\\\n",
    "    .reset_index(drop=True)\n",
    "\n",
    "inactives.shape"
   ]
  },
  {
   "cell_type": "code",
   "execution_count": 17,
   "metadata": {
    "collapsed": true
   },
   "outputs": [],
   "source": [
    "# Sanity check: no overlap between (symbol, compound) pairs for actives and inactives...\n",
    "\n",
    "a = set(x for x in actives[['symbol', 'usmiles']].itertuples(index=False))\n",
    "\n",
    "b = set(x for x in inactives.itertuples(index=False))\n",
    "\n",
    "assert len(a.intersection(b)) == 0"
   ]
  },
  {
   "cell_type": "code",
   "execution_count": 18,
   "metadata": {
    "collapsed": false,
    "scrolled": true
   },
   "outputs": [
    {
     "data": {
      "text/html": [
       "<div style=\"max-height:1000px;max-width:1500px;overflow:auto;\">\n",
       "<table border=\"1\" class=\"dataframe\">\n",
       "  <thead>\n",
       "    <tr style=\"text-align: right;\">\n",
       "      <th></th>\n",
       "      <th>count</th>\n",
       "    </tr>\n",
       "    <tr>\n",
       "      <th>symbol</th>\n",
       "      <th></th>\n",
       "    </tr>\n",
       "  </thead>\n",
       "  <tbody>\n",
       "    <tr>\n",
       "      <th>VDR</th>\n",
       "      <td>1000</td>\n",
       "    </tr>\n",
       "    <tr>\n",
       "      <th>CYP1A2</th>\n",
       "      <td>1000</td>\n",
       "    </tr>\n",
       "    <tr>\n",
       "      <th>ESR1</th>\n",
       "      <td>1000</td>\n",
       "    </tr>\n",
       "    <tr>\n",
       "      <th>AURKA</th>\n",
       "      <td>1000</td>\n",
       "    </tr>\n",
       "    <tr>\n",
       "      <th>ERBB2</th>\n",
       "      <td>1000</td>\n",
       "    </tr>\n",
       "    <tr>\n",
       "      <th>PTGS2</th>\n",
       "      <td>1000</td>\n",
       "    </tr>\n",
       "    <tr>\n",
       "      <th>EGFR</th>\n",
       "      <td>1000</td>\n",
       "    </tr>\n",
       "    <tr>\n",
       "      <th>OPRM1</th>\n",
       "      <td>1000</td>\n",
       "    </tr>\n",
       "    <tr>\n",
       "      <th>DRD2</th>\n",
       "      <td>1000</td>\n",
       "    </tr>\n",
       "    <tr>\n",
       "      <th>PRKCA</th>\n",
       "      <td>1000</td>\n",
       "    </tr>\n",
       "    <tr>\n",
       "      <th>CA2</th>\n",
       "      <td>1000</td>\n",
       "    </tr>\n",
       "    <tr>\n",
       "      <th>DRD1</th>\n",
       "      <td>1000</td>\n",
       "    </tr>\n",
       "    <tr>\n",
       "      <th>PPARG</th>\n",
       "      <td>1000</td>\n",
       "    </tr>\n",
       "    <tr>\n",
       "      <th>CYP3A4</th>\n",
       "      <td>1000</td>\n",
       "    </tr>\n",
       "    <tr>\n",
       "      <th>CDK2</th>\n",
       "      <td>1000</td>\n",
       "    </tr>\n",
       "    <tr>\n",
       "      <th>CYP2D6</th>\n",
       "      <td>1000</td>\n",
       "    </tr>\n",
       "    <tr>\n",
       "      <th>CHRM1</th>\n",
       "      <td>1000</td>\n",
       "    </tr>\n",
       "    <tr>\n",
       "      <th>CYP2C9</th>\n",
       "      <td>1000</td>\n",
       "    </tr>\n",
       "    <tr>\n",
       "      <th>KDR</th>\n",
       "      <td>1000</td>\n",
       "    </tr>\n",
       "    <tr>\n",
       "      <th>ESR2</th>\n",
       "      <td>1000</td>\n",
       "    </tr>\n",
       "    <tr>\n",
       "      <th>F2</th>\n",
       "      <td>1000</td>\n",
       "    </tr>\n",
       "    <tr>\n",
       "      <th>MAPK1</th>\n",
       "      <td>1000</td>\n",
       "    </tr>\n",
       "    <tr>\n",
       "      <th>HTR2C</th>\n",
       "      <td>1000</td>\n",
       "    </tr>\n",
       "    <tr>\n",
       "      <th>KCNH2</th>\n",
       "      <td>1000</td>\n",
       "    </tr>\n",
       "    <tr>\n",
       "      <th>SLC6A4</th>\n",
       "      <td>1000</td>\n",
       "    </tr>\n",
       "    <tr>\n",
       "      <th>ACHE</th>\n",
       "      <td>1000</td>\n",
       "    </tr>\n",
       "    <tr>\n",
       "      <th>ADORA1</th>\n",
       "      <td>1000</td>\n",
       "    </tr>\n",
       "    <tr>\n",
       "      <th>ADORA2A</th>\n",
       "      <td>1000</td>\n",
       "    </tr>\n",
       "    <tr>\n",
       "      <th>MAOA</th>\n",
       "      <td>1000</td>\n",
       "    </tr>\n",
       "    <tr>\n",
       "      <th>ADORA3</th>\n",
       "      <td>1000</td>\n",
       "    </tr>\n",
       "    <tr>\n",
       "      <th>FLT1</th>\n",
       "      <td>1000</td>\n",
       "    </tr>\n",
       "    <tr>\n",
       "      <th>CYP2C19</th>\n",
       "      <td>1000</td>\n",
       "    </tr>\n",
       "    <tr>\n",
       "      <th>MTOR</th>\n",
       "      <td>1000</td>\n",
       "    </tr>\n",
       "    <tr>\n",
       "      <th>NPY1R</th>\n",
       "      <td>1000</td>\n",
       "    </tr>\n",
       "    <tr>\n",
       "      <th>GSK3B</th>\n",
       "      <td>1000</td>\n",
       "    </tr>\n",
       "    <tr>\n",
       "      <th>ADRB1</th>\n",
       "      <td>1000</td>\n",
       "    </tr>\n",
       "    <tr>\n",
       "      <th>ADRB2</th>\n",
       "      <td>1000</td>\n",
       "    </tr>\n",
       "    <tr>\n",
       "      <th>NR3C1</th>\n",
       "      <td>1000</td>\n",
       "    </tr>\n",
       "    <tr>\n",
       "      <th>OPRD1</th>\n",
       "      <td>1000</td>\n",
       "    </tr>\n",
       "    <tr>\n",
       "      <th>OPRK1</th>\n",
       "      <td>1000</td>\n",
       "    </tr>\n",
       "    <tr>\n",
       "      <th>CACNA1H</th>\n",
       "      <td>977</td>\n",
       "    </tr>\n",
       "    <tr>\n",
       "      <th>AKT1</th>\n",
       "      <td>970</td>\n",
       "    </tr>\n",
       "    <tr>\n",
       "      <th>SLC6A2</th>\n",
       "      <td>960</td>\n",
       "    </tr>\n",
       "    <tr>\n",
       "      <th>PLK1</th>\n",
       "      <td>954</td>\n",
       "    </tr>\n",
       "    <tr>\n",
       "      <th>DRD4</th>\n",
       "      <td>944</td>\n",
       "    </tr>\n",
       "    <tr>\n",
       "      <th>CHRM3</th>\n",
       "      <td>943</td>\n",
       "    </tr>\n",
       "    <tr>\n",
       "      <th>CHRM2</th>\n",
       "      <td>942</td>\n",
       "    </tr>\n",
       "    <tr>\n",
       "      <th>HTR2A</th>\n",
       "      <td>934</td>\n",
       "    </tr>\n",
       "    <tr>\n",
       "      <th>HRH1</th>\n",
       "      <td>924</td>\n",
       "    </tr>\n",
       "    <tr>\n",
       "      <th>MAPK3</th>\n",
       "      <td>876</td>\n",
       "    </tr>\n",
       "    <tr>\n",
       "      <th>CHRM4</th>\n",
       "      <td>868</td>\n",
       "    </tr>\n",
       "    <tr>\n",
       "      <th>AVPR1A</th>\n",
       "      <td>854</td>\n",
       "    </tr>\n",
       "    <tr>\n",
       "      <th>ABL1</th>\n",
       "      <td>837</td>\n",
       "    </tr>\n",
       "    <tr>\n",
       "      <th>PPARA</th>\n",
       "      <td>837</td>\n",
       "    </tr>\n",
       "    <tr>\n",
       "      <th>PIM1</th>\n",
       "      <td>835</td>\n",
       "    </tr>\n",
       "    <tr>\n",
       "      <th>JAK2</th>\n",
       "      <td>830</td>\n",
       "    </tr>\n",
       "    <tr>\n",
       "      <th>CYP2A6</th>\n",
       "      <td>825</td>\n",
       "    </tr>\n",
       "    <tr>\n",
       "      <th>EDNRA</th>\n",
       "      <td>823</td>\n",
       "    </tr>\n",
       "    <tr>\n",
       "      <th>AR</th>\n",
       "      <td>820</td>\n",
       "    </tr>\n",
       "    <tr>\n",
       "      <th>HRH2</th>\n",
       "      <td>807</td>\n",
       "    </tr>\n",
       "    <tr>\n",
       "      <th>BDKRB2</th>\n",
       "      <td>804</td>\n",
       "    </tr>\n",
       "    <tr>\n",
       "      <th>ADRB3</th>\n",
       "      <td>789</td>\n",
       "    </tr>\n",
       "    <tr>\n",
       "      <th>PTK2</th>\n",
       "      <td>779</td>\n",
       "    </tr>\n",
       "    <tr>\n",
       "      <th>HTR2B</th>\n",
       "      <td>778</td>\n",
       "    </tr>\n",
       "    <tr>\n",
       "      <th>ADRA2A</th>\n",
       "      <td>759</td>\n",
       "    </tr>\n",
       "    <tr>\n",
       "      <th>ADRA1D</th>\n",
       "      <td>752</td>\n",
       "    </tr>\n",
       "    <tr>\n",
       "      <th>ADORA2B</th>\n",
       "      <td>747</td>\n",
       "    </tr>\n",
       "    <tr>\n",
       "      <th>AKT2</th>\n",
       "      <td>743</td>\n",
       "    </tr>\n",
       "    <tr>\n",
       "      <th>AKT3</th>\n",
       "      <td>735</td>\n",
       "    </tr>\n",
       "    <tr>\n",
       "      <th>PDPK1</th>\n",
       "      <td>699</td>\n",
       "    </tr>\n",
       "    <tr>\n",
       "      <th>AURKB</th>\n",
       "      <td>694</td>\n",
       "    </tr>\n",
       "    <tr>\n",
       "      <th>ADRA2C</th>\n",
       "      <td>692</td>\n",
       "    </tr>\n",
       "    <tr>\n",
       "      <th>GSK3A</th>\n",
       "      <td>690</td>\n",
       "    </tr>\n",
       "    <tr>\n",
       "      <th>ROCK1</th>\n",
       "      <td>674</td>\n",
       "    </tr>\n",
       "    <tr>\n",
       "      <th>ADRA2B</th>\n",
       "      <td>673</td>\n",
       "    </tr>\n",
       "    <tr>\n",
       "      <th>PRKAA1</th>\n",
       "      <td>669</td>\n",
       "    </tr>\n",
       "    <tr>\n",
       "      <th>KIT</th>\n",
       "      <td>651</td>\n",
       "    </tr>\n",
       "    <tr>\n",
       "      <th>ROCK2</th>\n",
       "      <td>576</td>\n",
       "    </tr>\n",
       "    <tr>\n",
       "      <th>PIK3CA</th>\n",
       "      <td>575</td>\n",
       "    </tr>\n",
       "    <tr>\n",
       "      <th>NR1H4</th>\n",
       "      <td>567</td>\n",
       "    </tr>\n",
       "    <tr>\n",
       "      <th>PDGFRB</th>\n",
       "      <td>540</td>\n",
       "    </tr>\n",
       "    <tr>\n",
       "      <th>CDK4</th>\n",
       "      <td>537</td>\n",
       "    </tr>\n",
       "    <tr>\n",
       "      <th>FLT4</th>\n",
       "      <td>449</td>\n",
       "    </tr>\n",
       "    <tr>\n",
       "      <th>PRKG1</th>\n",
       "      <td>440</td>\n",
       "    </tr>\n",
       "    <tr>\n",
       "      <th>AVPR1B</th>\n",
       "      <td>438</td>\n",
       "    </tr>\n",
       "    <tr>\n",
       "      <th>AGTR1</th>\n",
       "      <td>433</td>\n",
       "    </tr>\n",
       "    <tr>\n",
       "      <th>NOS3</th>\n",
       "      <td>428</td>\n",
       "    </tr>\n",
       "    <tr>\n",
       "      <th>ABCB1</th>\n",
       "      <td>422</td>\n",
       "    </tr>\n",
       "    <tr>\n",
       "      <th>EDNRB</th>\n",
       "      <td>372</td>\n",
       "    </tr>\n",
       "    <tr>\n",
       "      <th>PIK3CG</th>\n",
       "      <td>352</td>\n",
       "    </tr>\n",
       "    <tr>\n",
       "      <th>CAMK2A</th>\n",
       "      <td>298</td>\n",
       "    </tr>\n",
       "    <tr>\n",
       "      <th>PDGFRA</th>\n",
       "      <td>277</td>\n",
       "    </tr>\n",
       "    <tr>\n",
       "      <th>CHRNA4</th>\n",
       "      <td>275</td>\n",
       "    </tr>\n",
       "    <tr>\n",
       "      <th>GRK5</th>\n",
       "      <td>268</td>\n",
       "    </tr>\n",
       "    <tr>\n",
       "      <th>TBXA2R</th>\n",
       "      <td>254</td>\n",
       "    </tr>\n",
       "    <tr>\n",
       "      <th>NR1I2</th>\n",
       "      <td>252</td>\n",
       "    </tr>\n",
       "    <tr>\n",
       "      <th>NR5A2</th>\n",
       "      <td>245</td>\n",
       "    </tr>\n",
       "    <tr>\n",
       "      <th>SCN5A</th>\n",
       "      <td>242</td>\n",
       "    </tr>\n",
       "    <tr>\n",
       "      <th>AHR</th>\n",
       "      <td>227</td>\n",
       "    </tr>\n",
       "    <tr>\n",
       "      <th>BRAF</th>\n",
       "      <td>220</td>\n",
       "    </tr>\n",
       "    <tr>\n",
       "      <th>HTR7</th>\n",
       "      <td>213</td>\n",
       "    </tr>\n",
       "    <tr>\n",
       "      <th>LTK</th>\n",
       "      <td>212</td>\n",
       "    </tr>\n",
       "    <tr>\n",
       "      <th>HRH3</th>\n",
       "      <td>194</td>\n",
       "    </tr>\n",
       "    <tr>\n",
       "      <th>ADRA1B</th>\n",
       "      <td>185</td>\n",
       "    </tr>\n",
       "    <tr>\n",
       "      <th>ACE</th>\n",
       "      <td>169</td>\n",
       "    </tr>\n",
       "    <tr>\n",
       "      <th>HTR1B</th>\n",
       "      <td>166</td>\n",
       "    </tr>\n",
       "    <tr>\n",
       "      <th>NR1H2</th>\n",
       "      <td>161</td>\n",
       "    </tr>\n",
       "    <tr>\n",
       "      <th>PDE3A</th>\n",
       "      <td>157</td>\n",
       "    </tr>\n",
       "    <tr>\n",
       "      <th>CYP2C8</th>\n",
       "      <td>137</td>\n",
       "    </tr>\n",
       "    <tr>\n",
       "      <th>NR1H3</th>\n",
       "      <td>126</td>\n",
       "    </tr>\n",
       "    <tr>\n",
       "      <th>MAP3K5</th>\n",
       "      <td>119</td>\n",
       "    </tr>\n",
       "    <tr>\n",
       "      <th>ABCG2</th>\n",
       "      <td>113</td>\n",
       "    </tr>\n",
       "    <tr>\n",
       "      <th>CHRNA1</th>\n",
       "      <td>102</td>\n",
       "    </tr>\n",
       "    <tr>\n",
       "      <th>GHSR</th>\n",
       "      <td>94</td>\n",
       "    </tr>\n",
       "    <tr>\n",
       "      <th>GCGR</th>\n",
       "      <td>90</td>\n",
       "    </tr>\n",
       "    <tr>\n",
       "      <th>ADRA1A</th>\n",
       "      <td>88</td>\n",
       "    </tr>\n",
       "    <tr>\n",
       "      <th>KCNA5</th>\n",
       "      <td>79</td>\n",
       "    </tr>\n",
       "    <tr>\n",
       "      <th>MTNR1A</th>\n",
       "      <td>78</td>\n",
       "    </tr>\n",
       "    <tr>\n",
       "      <th>KCNQ1</th>\n",
       "      <td>66</td>\n",
       "    </tr>\n",
       "    <tr>\n",
       "      <th>GRIN1</th>\n",
       "      <td>57</td>\n",
       "    </tr>\n",
       "    <tr>\n",
       "      <th>CACNA1C</th>\n",
       "      <td>56</td>\n",
       "    </tr>\n",
       "    <tr>\n",
       "      <th>BDKRB1</th>\n",
       "      <td>55</td>\n",
       "    </tr>\n",
       "    <tr>\n",
       "      <th>AURKC</th>\n",
       "      <td>54</td>\n",
       "    </tr>\n",
       "    <tr>\n",
       "      <th>SLC29A1</th>\n",
       "      <td>53</td>\n",
       "    </tr>\n",
       "    <tr>\n",
       "      <th>ADRBK1</th>\n",
       "      <td>46</td>\n",
       "    </tr>\n",
       "    <tr>\n",
       "      <th>CACNA1G</th>\n",
       "      <td>40</td>\n",
       "    </tr>\n",
       "    <tr>\n",
       "      <th>GSTP1</th>\n",
       "      <td>37</td>\n",
       "    </tr>\n",
       "    <tr>\n",
       "      <th>MLNR</th>\n",
       "      <td>34</td>\n",
       "    </tr>\n",
       "    <tr>\n",
       "      <th>MTNR1B</th>\n",
       "      <td>29</td>\n",
       "    </tr>\n",
       "    <tr>\n",
       "      <th>HTR4</th>\n",
       "      <td>29</td>\n",
       "    </tr>\n",
       "    <tr>\n",
       "      <th>SLC10A2</th>\n",
       "      <td>28</td>\n",
       "    </tr>\n",
       "    <tr>\n",
       "      <th>CALCRL</th>\n",
       "      <td>27</td>\n",
       "    </tr>\n",
       "    <tr>\n",
       "      <th>KCNJ11</th>\n",
       "      <td>25</td>\n",
       "    </tr>\n",
       "    <tr>\n",
       "      <th>PDE3B</th>\n",
       "      <td>21</td>\n",
       "    </tr>\n",
       "    <tr>\n",
       "      <th>CYP1A1</th>\n",
       "      <td>21</td>\n",
       "    </tr>\n",
       "    <tr>\n",
       "      <th>UTS2R</th>\n",
       "      <td>14</td>\n",
       "    </tr>\n",
       "    <tr>\n",
       "      <th>SLCO1B1</th>\n",
       "      <td>8</td>\n",
       "    </tr>\n",
       "    <tr>\n",
       "      <th>SLCO1B3</th>\n",
       "      <td>8</td>\n",
       "    </tr>\n",
       "  </tbody>\n",
       "</table>\n",
       "</div>"
      ],
      "text/plain": [
       "         count\n",
       "symbol        \n",
       "VDR       1000\n",
       "CYP1A2    1000\n",
       "ESR1      1000\n",
       "AURKA     1000\n",
       "ERBB2     1000\n",
       "PTGS2     1000\n",
       "EGFR      1000\n",
       "OPRM1     1000\n",
       "DRD2      1000\n",
       "PRKCA     1000\n",
       "CA2       1000\n",
       "DRD1      1000\n",
       "PPARG     1000\n",
       "CYP3A4    1000\n",
       "CDK2      1000\n",
       "CYP2D6    1000\n",
       "CHRM1     1000\n",
       "CYP2C9    1000\n",
       "KDR       1000\n",
       "ESR2      1000\n",
       "F2        1000\n",
       "MAPK1     1000\n",
       "HTR2C     1000\n",
       "KCNH2     1000\n",
       "SLC6A4    1000\n",
       "ACHE      1000\n",
       "ADORA1    1000\n",
       "ADORA2A   1000\n",
       "MAOA      1000\n",
       "ADORA3    1000\n",
       "FLT1      1000\n",
       "CYP2C19   1000\n",
       "MTOR      1000\n",
       "NPY1R     1000\n",
       "GSK3B     1000\n",
       "ADRB1     1000\n",
       "ADRB2     1000\n",
       "NR3C1     1000\n",
       "OPRD1     1000\n",
       "OPRK1     1000\n",
       "CACNA1H    977\n",
       "AKT1       970\n",
       "SLC6A2     960\n",
       "PLK1       954\n",
       "DRD4       944\n",
       "CHRM3      943\n",
       "CHRM2      942\n",
       "HTR2A      934\n",
       "HRH1       924\n",
       "MAPK3      876\n",
       "CHRM4      868\n",
       "AVPR1A     854\n",
       "ABL1       837\n",
       "PPARA      837\n",
       "PIM1       835\n",
       "JAK2       830\n",
       "CYP2A6     825\n",
       "EDNRA      823\n",
       "AR         820\n",
       "HRH2       807\n",
       "BDKRB2     804\n",
       "ADRB3      789\n",
       "PTK2       779\n",
       "HTR2B      778\n",
       "ADRA2A     759\n",
       "ADRA1D     752\n",
       "ADORA2B    747\n",
       "AKT2       743\n",
       "AKT3       735\n",
       "PDPK1      699\n",
       "AURKB      694\n",
       "ADRA2C     692\n",
       "GSK3A      690\n",
       "ROCK1      674\n",
       "ADRA2B     673\n",
       "PRKAA1     669\n",
       "KIT        651\n",
       "ROCK2      576\n",
       "PIK3CA     575\n",
       "NR1H4      567\n",
       "PDGFRB     540\n",
       "CDK4       537\n",
       "FLT4       449\n",
       "PRKG1      440\n",
       "AVPR1B     438\n",
       "AGTR1      433\n",
       "NOS3       428\n",
       "ABCB1      422\n",
       "EDNRB      372\n",
       "PIK3CG     352\n",
       "CAMK2A     298\n",
       "PDGFRA     277\n",
       "CHRNA4     275\n",
       "GRK5       268\n",
       "TBXA2R     254\n",
       "NR1I2      252\n",
       "NR5A2      245\n",
       "SCN5A      242\n",
       "AHR        227\n",
       "BRAF       220\n",
       "HTR7       213\n",
       "LTK        212\n",
       "HRH3       194\n",
       "ADRA1B     185\n",
       "ACE        169\n",
       "HTR1B      166\n",
       "NR1H2      161\n",
       "PDE3A      157\n",
       "CYP2C8     137\n",
       "NR1H3      126\n",
       "MAP3K5     119\n",
       "ABCG2      113\n",
       "CHRNA1     102\n",
       "GHSR        94\n",
       "GCGR        90\n",
       "ADRA1A      88\n",
       "KCNA5       79\n",
       "MTNR1A      78\n",
       "KCNQ1       66\n",
       "GRIN1       57\n",
       "CACNA1C     56\n",
       "BDKRB1      55\n",
       "AURKC       54\n",
       "SLC29A1     53\n",
       "ADRBK1      46\n",
       "CACNA1G     40\n",
       "GSTP1       37\n",
       "MLNR        34\n",
       "MTNR1B      29\n",
       "HTR4        29\n",
       "SLC10A2     28\n",
       "CALCRL      27\n",
       "KCNJ11      25\n",
       "PDE3B       21\n",
       "CYP1A1      21\n",
       "UTS2R       14\n",
       "SLCO1B1      8\n",
       "SLCO1B3      8"
      ]
     },
     "execution_count": 18,
     "metadata": {},
     "output_type": "execute_result"
    }
   ],
   "source": [
    "# Counts...\n",
    "\n",
    "inactives.groupby('symbol').apply(len).to_frame('count').sort('count', ascending=False)"
   ]
  },
  {
   "cell_type": "markdown",
   "metadata": {},
   "source": [
    "### Reformat\n",
    "\n",
    "Reformat to molecule-centric view."
   ]
  },
  {
   "cell_type": "code",
   "execution_count": 19,
   "metadata": {
    "collapsed": false
   },
   "outputs": [
    {
     "data": {
      "text/plain": [
       "((81966, 2), (35377, 4))"
      ]
     },
     "execution_count": 19,
     "metadata": {},
     "output_type": "execute_result"
    }
   ],
   "source": [
    "inactive_mols = inactives.groupby('usmiles')\\\n",
    "    .apply(lambda x: pd.Series({'symbols': x['symbol'].tolist()}))\\\n",
    "    .reset_index()\n",
    "\n",
    "PandasTools.AddMoleculeColumnToFrame(inactive_mols, smilesCol='usmiles', molCol='mol')\n",
    "\n",
    "inactive_mols['FP'] = inactive_mols['mol'].apply(FP)\n",
    "\n",
    "inactives.shape, inactive_mols.shape"
   ]
  },
  {
   "cell_type": "code",
   "execution_count": 20,
   "metadata": {
    "collapsed": false
   },
   "outputs": [
    {
     "data": {
      "text/html": [
       "<div style=\"max-height:1000px;max-width:1500px;overflow:auto;\">\n",
       "<table border=\"1\" class=\"dataframe\">\n",
       "  <thead>\n",
       "    <tr style=\"text-align: right;\">\n",
       "      <th></th>\n",
       "      <th>symbol</th>\n",
       "      <th>usmiles</th>\n",
       "    </tr>\n",
       "  </thead>\n",
       "  <tbody>\n",
       "    <tr>\n",
       "      <th>0</th>\n",
       "      <td>ABCB1</td>\n",
       "      <td>Brc1cccc(Nc2nc(-c3ccccc3)nc3ccccc23)c1</td>\n",
       "    </tr>\n",
       "  </tbody>\n",
       "</table>\n",
       "</div>"
      ],
      "text/plain": [
       "  symbol                                 usmiles\n",
       "0  ABCB1  Brc1cccc(Nc2nc(-c3ccccc3)nc3ccccc23)c1"
      ]
     },
     "execution_count": 20,
     "metadata": {},
     "output_type": "execute_result"
    }
   ],
   "source": [
    "inactives.head(1)"
   ]
  },
  {
   "cell_type": "code",
   "execution_count": 21,
   "metadata": {
    "collapsed": false
   },
   "outputs": [
    {
     "data": {
      "text/html": [
       "<div style=\"max-height:1000px;max-width:1500px;overflow:auto;\">\n",
       "<table border=\"1\" class=\"dataframe\">\n",
       "  <thead>\n",
       "    <tr style=\"text-align: right;\">\n",
       "      <th></th>\n",
       "      <th>usmiles</th>\n",
       "      <th>symbols</th>\n",
       "      <th>mol</th>\n",
       "      <th>FP</th>\n",
       "    </tr>\n",
       "  </thead>\n",
       "  <tbody>\n",
       "    <tr>\n",
       "      <th>0</th>\n",
       "      <td>Brc1c(Br)c(Br)c2[nH]cnc2c1Br</td>\n",
       "      <td>[DRD1]</td>\n",
       "      <td><img src=\"data:image/png;base64,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\" alt=\"Mol\"/></td>\n",
       "      <td>[0 0 0 ..., 0 0 0]</td>\n",
       "    </tr>\n",
       "  </tbody>\n",
       "</table>\n",
       "</div>"
      ],
      "text/plain": [
       "                        usmiles symbols                                                                                                                                                                                                                                                                                                                                                                                                                                                                                                                                                                                                                                                                                                                                                                                                                                                                                                                                                                                                                                                                                                                                                                                                                                                                                                                                                                                                                                                                                                                                                                                                                                                                                                                                                                                                                                                                                                                                                                                                                                                                                                                                                                                                                                                                                                                                                                                                                                                                                                                                                                                                                                                                                                                                                                                                                                                                                                                                                                                                                                                                                                                                                                                                                                                                                                                                                                                                                                                                                                                                                                                                                                                                                                                                                                                                                                                                                                                                                                                                                                                                                                                                                                                                                                                                                                                                                                                                                                                                                                                                                                                                                                                                                                                                                                                                                                                                                                                                                                                                                                                                                                                                                                                                                                                                                                                                                                                                                                                                                                                                                                                                                                                                                                                                                                                                                                                                                                                                                                                                                                                                                                                                                                                                                                                                                                                                                                                                                                                                                                                                                                                                                                                                                                                                                                                                                                                                                                                                                                                                                                                                                                                                                                                                                                                                                                                                                                                                                                                                                                                                                                                                                                                                                                                                                                                                                                                                                                                                                                                                                                                                                                                                                                                                                                                                                                                                                                                                                                                                                                                                                                                                                                                                                                                                                                                                                                                                                                                                                                                                                                                                                                                                                                                                                                                                                                                                                                                                                                                                                                                                                                                                                                                                                                                                                                                                                                                                                                                                                                                            mol                  FP\n",
       "0  Brc1c(Br)c(Br)c2[nH]cnc2c1Br  [DRD1]  <img src=\"data:image/png;base64,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\" alt=\"Mol\"/>  [0 0 0 ..., 0 0 0]"
      ]
     },
     "execution_count": 21,
     "metadata": {},
     "output_type": "execute_result"
    }
   ],
   "source": [
    "inactive_mols.head(1)"
   ]
  },
  {
   "cell_type": "markdown",
   "metadata": {},
   "source": [
    "### Export"
   ]
  },
  {
   "cell_type": "code",
   "execution_count": 22,
   "metadata": {
    "collapsed": false
   },
   "outputs": [],
   "source": [
    "pickle.dump([inactives, inactive_mols], open('inactives.pkl', 'w'))\n",
    "\n",
    "# inactives, inactive_mols = pickle.load(open('inactives.pkl'))"
   ]
  }
 ],
 "metadata": {
  "kernelspec": {
   "display_name": "Python 2",
   "language": "python",
   "name": "python2"
  },
  "language_info": {
   "codemirror_mode": {
    "name": "ipython",
    "version": 2
   },
   "file_extension": ".py",
   "mimetype": "text/x-python",
   "name": "python",
   "nbconvert_exporter": "python",
   "pygments_lexer": "ipython2",
   "version": "2.7.10"
  }
 },
 "nbformat": 4,
 "nbformat_minor": 0
}
